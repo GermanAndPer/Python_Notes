{
 "cells": [
  {
   "cell_type": "markdown",
   "id": "b28db48b",
   "metadata": {},
   "source": [
    "# 💻Fundamentos\n",
    "\n",
    "## 🖊️ Semántica \n",
    "\n",
    "Sentido que tendrá el codigó.\n",
    "\n",
    "Si escribimos numeros, qque nos devuelva algun numero.\n",
    "\n",
    "## ✅ Sintaxis\n",
    "\n",
    "Son las reglas ortograficas de codigo.\n",
    "\n",
    "Por ejemplo los ( ) o \" \". Todo signo que se abra, debe tener un final.\n",
    "\n",
    "Por ejemplo, el siguiente codigo aparecen varios errores:"
   ]
  },
  {
   "cell_type": "code",
   "execution_count": null,
   "id": "c298ddf7",
   "metadata": {},
   "outputs": [],
   "source": [
    "print(\"Hello World\"\n",
    "#No tiene parentesis de cierre"
   ]
  },
  {
   "cell_type": "markdown",
   "id": "644f8211",
   "metadata": {},
   "source": []
  },
  {
   "cell_type": "code",
   "execution_count": null,
   "id": "2bcb4fae",
   "metadata": {},
   "outputs": [],
   "source": [
    "print(\"Hello World\")\n",
    "    print(\"Hello World\")\n",
    "#El segundo print no esta alineado con ell primero."
   ]
  }
 ],
 "metadata": {
  "kernelspec": {
   "display_name": "py3_10_18",
   "language": "python",
   "name": "python3"
  },
  "language_info": {
   "codemirror_mode": {
    "name": "ipython",
    "version": 3
   },
   "file_extension": ".py",
   "mimetype": "text/x-python",
   "name": "python",
   "nbconvert_exporter": "python",
   "pygments_lexer": "ipython3",
   "version": "3.11.5"
  }
 },
 "nbformat": 4,
 "nbformat_minor": 5
}

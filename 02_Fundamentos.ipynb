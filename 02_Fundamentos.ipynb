{
 "cells": [
  {
   "cell_type": "markdown",
   "id": "b28db48b",
   "metadata": {},
   "source": [
    "# 💻Fundamentos\n",
    "\n",
    "Python es un lenguaje ordenado.\n",
    "Por lo que ademas de tener reglas de escritura, tambien de ejecuta de izquierda a derecha.\n",
    "Y de arriba a abajo.\n",
    "\n",
    "Por lo que si una istruccion se ejecuta con ciertos valores y despues se ejecuta con otros distintos, aunque ejecuta y guarda ambos, al final se quedan los valores de mas abajo o la ultima ejecucion.\n",
    "\n",
    "## 🖊️ Semántica \n",
    "\n",
    "Sentido que tendrá el codigó.\n",
    "\n",
    "Si escribimos numeros, qque nos devuelva algun numero.\n",
    "\n",
    "## ✅ Sintaxis\n",
    "\n",
    "Son las reglas ortograficas de codigo.\n",
    "\n",
    "Por ejemplo los ( ) o \" \". Todo signo que se abra, debe tener un final.\n",
    "\n",
    "Por ejemplo, el siguiente codigo aparecen varios errores:"
   ]
  },
  {
   "cell_type": "code",
   "execution_count": null,
   "id": "c298ddf7",
   "metadata": {},
   "outputs": [],
   "source": [
    "print(\"Hello World\"\n",
    "#No tiene parentesis de cierre"
   ]
  },
  {
   "cell_type": "markdown",
   "id": "644f8211",
   "metadata": {},
   "source": [
    "Para ser leido correctamente, python debe estar alineado.\n",
    "\n",
    "Si hay lineas de codigo que no coinciden con un espaciado consistente, aparecerán errores como el que aparece a continuacion."
   ]
  },
  {
   "cell_type": "code",
   "execution_count": null,
   "id": "2bcb4fae",
   "metadata": {},
   "outputs": [],
   "source": [
    "print(\"Hello World\")\n",
    "    print(\"Hello World\")\n",
    "#El segundo print no esta alineado con ell primero.(Problemas de Identacion)"
   ]
  },
  {
   "cell_type": "markdown",
   "id": "bfc3ab28",
   "metadata": {},
   "source": [
    "## 💻Semantica\n",
    "\n",
    "La semantica hace referencia a que nuestros datos tengan sentido.\n",
    "\n",
    "Y para eso vemos el tema de las variables. Las variables tiene estan armadas de la siguiente manera.\n",
    "\n",
    "### Variables\n",
    "\n",
    "- ___Nombre___\n",
    "\n",
    "- ___Asignacion de valor___\n",
    "\n",
    "- ___(Tipo de dato)___\n",
    "\n",
    "- ___Valor___\n",
    "\n",
    "Para este caso, el nombre del valor, debe tener sentido con un valor y su __tipo__ "
   ]
  },
  {
   "cell_type": "code",
   "execution_count": null,
   "id": "2d1e4c40",
   "metadata": {},
   "outputs": [],
   "source": [
    "NombreDeVariable = \"Valor de Variable\"\n",
    "\n",
    "print(ValorDeVariable)\n",
    "\n",
    "saludo = \"Hola mundo\"\n",
    "\n",
    "print(saludo)"
   ]
  },
  {
   "cell_type": "markdown",
   "id": "338c28a0",
   "metadata": {},
   "source": [
    "#### ✅🖊️ Reglas en variables\n",
    "\n",
    "Existen varias regla o prohibiciones al momento de escribir variables. Por lo que generarian error"
   ]
  },
  {
   "cell_type": "code",
   "execution_count": null,
   "id": "d79eb754",
   "metadata": {},
   "outputs": [],
   "source": [
    "edad = 30   #Correcto"
   ]
  },
  {
   "cell_type": "markdown",
   "id": "c8a0a6d2",
   "metadata": {},
   "source": [
    "- No usar números al inicio de una variable."
   ]
  },
  {
   "cell_type": "code",
   "execution_count": null,
   "id": "722694d8",
   "metadata": {},
   "outputs": [],
   "source": [
    "1edad = 30\n",
    "edad1 = 30      #Si se pueden agregar despues"
   ]
  },
  {
   "cell_type": "markdown",
   "id": "316f3c56",
   "metadata": {},
   "source": [
    "- El simbolo de guion bajo (under Score _ ) sí se puede ejecutar al principio."
   ]
  },
  {
   "cell_type": "code",
   "execution_count": null,
   "id": "5d6bb249",
   "metadata": {},
   "outputs": [],
   "source": [
    "_peso = 100"
   ]
  },
  {
   "cell_type": "markdown",
   "id": "23326710",
   "metadata": {},
   "source": [
    "Estas son otras reglas:\n",
    "\n",
    "- No usar espacios en blanco.\n",
    "\n",
    "- No usar caracteres especiales.\n",
    "\n",
    "- No usar mayúsculas.\n",
    "\n",
    "- No usar acentos.\n",
    "\n",
    "- No usar tildes.\n",
    "\n",
    "- No usar signos de puntuación.\n",
    "\n",
    "- No usar signos de operación.\n",
    "\n",
    "- No usar signos de separación.\n",
    "\n",
    "- No usar signos de agrupación.\n",
    "\n",
    "- No usar signos de comparación.\n",
    "\n",
    "- No usar signos de acceso.\n",
    "\n",
    "- No usar signos de navegación.\n",
    "\n",
    "- No usar signos de selección.\n",
    "\n",
    "- No usar signos de iteración.\n",
    "\n",
    "- No usar signos de condición.\n",
    "\n",
    "- No usar signos de repetición.\n",
    "\n",
    "- No usar signos de selección múltiple.\n",
    "\n",
    "- No usar signos de selección aleatoria.\n",
    "\n",
    "- No usar signos de selección múltiple aleatoria.\n",
    "\n",
    "- No usar signos de selección múltiple condicional.\n",
    "\n",
    "- No usar signos de selección múltiple repetida.\n",
    "\n",
    "- No usar signos de selección múltiple repetida condicional.\n",
    "\n",
    "- No usar signos de selección múltiple repetida aleatoria.\n",
    "\n",
    "- No usar signos de selección múltiple repetida aleatoria condicional.\n"
   ]
  },
  {
   "cell_type": "markdown",
   "id": "7011eb9a",
   "metadata": {},
   "source": [
    "#### 🔠 __Tipos de variables__\n",
    "\n",
    "Hasta ahora hemos utilizado el mas comun de todos. Los Strings.\n",
    "\n",
    "##### 🖊️ __Strings__\n",
    "\n",
    "Los string hacer referencia a las cadenas de Caracteres. Estos valores se guardan entre comillas \"\" para especificar que son Caracteres.\n",
    "\n",
    "Ejemplo:\n"
   ]
  },
  {
   "cell_type": "code",
   "execution_count": null,
   "id": "e84d13a5",
   "metadata": {},
   "outputs": [],
   "source": [
    "primer_string = \"Esto es un String\""
   ]
  },
  {
   "cell_type": "markdown",
   "id": "5f4e08da",
   "metadata": {},
   "source": [
    "Python asigna automaticamente el tipo de dato a las variables.\n",
    "\n",
    "Para saber que tipo de dato tiene una variable, usamos la funcion __TYPE__ y encerramos la variable a validar entre parentesis. ()"
   ]
  },
  {
   "cell_type": "code",
   "execution_count": null,
   "id": "072b7b28",
   "metadata": {},
   "outputs": [],
   "source": [
    "print(type(primer_string))\n",
    "# Resultado      <class 'str'>"
   ]
  },
  {
   "cell_type": "markdown",
   "id": "b5b32b3b",
   "metadata": {},
   "source": [
    "Y podemos visualizar que los Strings aparecen representados como ___\"str\"___"
   ]
  },
  {
   "cell_type": "markdown",
   "id": "e3ad29db",
   "metadata": {},
   "source": [
    "# 🗣️💬Palabras reservasdas\n",
    "\n",
    "No todas las palabras estan permitidas para ser variables.\n",
    "\n",
    "Estas son conosidad como palabras reservadas.\n",
    "\n",
    "Hacen referencia a palabras que activan una funciona en especiifico dentro de python. Por que son propias del lenguaje.\n",
    "\n",
    "Una  manera de identificarlas es que al utilizarlas, se marcan de un color en especifico.\n",
    "\n",
    "Por ejemplo Las variables y las funciones tiene diferente color. (Edad y Prinmt)"
   ]
  },
  {
   "cell_type": "code",
   "execution_count": null,
   "id": "08f414b2",
   "metadata": {},
   "outputs": [],
   "source": [
    "edad = 30       # Incluso el valor toma otro color.\n",
    "print(edad) "
   ]
  },
  {
   "cell_type": "markdown",
   "id": "28a9a05c",
   "metadata": {},
   "source": [
    "\n",
    "\n",
    "\n",
    "\n",
    "\n",
    "Las variables se pueden utilizar en las reglas de la siguiente manera:\n",
    "- `{{ variable }}` para mostrar el valor de la variable.\n",
    "- `{{ variable | funcion }}` para aplicar una función a la variable.\n",
    "- `{{ variable | funcion: argumento }}` para aplicar una función con un argumento\n",
    "- `{{ variable | funcion: argumento1, argumento2 }}` para aplicar una\n",
    "- `{{ variable | funcion: argumento1, argumento2, argumento3 }}\n",
    "\n",
    "Las variables en las reglas de inferencia se pueden definir de varias maneras. A continu\n",
    "a se presentan algunas de las formas más comunes:\n",
    "- **Variables de tipo booleano**: estas variables pueden tomar valores de `True` o `Fals\n",
    "e`. Por ejemplo, `x` puede ser una variable de tipo booleano que representa la cond\n",
    "ición de que un número es par.\n",
    "- **Variables de tipo entero**: estas variables pueden tomar valores enteros, como 1,\n",
    "2, 3, etc. Por ejemplo, `x` puede ser una variable de tipo\n",
    "entero que representa la cantidad de elementos en una lista.\n",
    "- **Variables de tipo flotante**: estas variables pueden tomar valores flotantes, como\n",
    "1.5, 2.75, etc. Por ejemplo, `x` puede ser una\n",
    "variable de tipo flotante que representa la temperatura en grados Celsius.\n",
    "- **Variables de tipo cadena**: estas variables pueden tomar valores de cadena, como\n",
    "\"Hola\", \"Mundo\", etc. Por ejemplo, `x` puede ser una variable d\n",
    "e tipo cadena que representa el nombre de una persona.\n",
    "- **Variables de tipo lista**: estas variables pueden tomar valores de lista, como `[1,\n",
    "2, 3]`, `[4, 5, 6]`, etc. Por ejemplo\n",
    ", `x` puede ser una variable de tipo lista que representa una lista de números.\n",
    "- **Variables de tipo diccionario**: estas variables pueden tomar valores de diccionario\n",
    ", como `{'nombre': 'Juan', 'edad': 30}`, `{'nombre': '\n",
    "Maria', 'edad': 25}`, etc. Por ejemplo, `x` puede ser una variabl\n",
    "e de tipo diccionario que representa un diccionario de datos personales.\n",
    "- **Variables de tipo conjunto**: estas variables pueden tomar valores de conjunto, como\n",
    "{1, 2, 3}, {4, 5, 6}, etc.\n",
    "- **Variables de tipo tupla**: estas variables pueden tomar valores de tupla, como\n",
    "(1, 2, 3), (4, 5, 6), etc.\n",
    "- **Variables de tipo objeto**: estas variables pueden tomar valores de objeto, como\n",
    "un objeto de la clase `Persona` que tiene atributos como `nombre`, `edad`, etc\n",
    ".\n",
    "- **Variables de tipo función**: estas variables pueden tomar valores de función, como\n",
    "una función que calcula el área de un círculo.\n",
    "- **Variables de tipo clase**: estas variables pueden tomar valores de clase, como\n",
    "una clase que representa un vehículo.\n",
    "- **Variables de tipo módulo**: estas variables pueden tomar valores de módulo, como\n",
    "un módulo que contiene funciones para calcular el área de un círculo.\n",
    "- **Variables de tipo archivo**: estas variables pueden tomar valores de archivo, como\n",
    "un archivo de texto que contiene datos.\n",
    "- **Variables de tipo directorio**: estas variables pueden tomar valores de directorio\n",
    ", como un directorio que contiene archivos y subdirectorios.\n",
    "- **Variables de tipo proceso**: estas variables pueden tomar valores de proceso, como\n",
    "un proceso que ejecuta un programa.\n",
    "- **Variables de tipo hilos**: estas variables pueden tomar valores de hilos, como\n",
    "hilos que ejecutan una tarea en paralelo.\n",
    "- **Variables de tipo socket**: estas variables pueden tomar valores de socket, como\n",
    "un socket que se utiliza para comunicación entre procesos.\n",
    "- **Variables de tipo puerto**: estas variables pueden tomar valores de puerto, como\n",
    "un puerto que se utiliza para comunicación entre procesos.\n",
    "- **Variables de tipo IP**: estas variables pueden tomar valores de IP, como\n",
    "una dirección IP que se utiliza para comunicación entre procesos.\n",
    "- **Variables de tipo MAC**: estas variables pueden tomar valores de MAC, como\n",
    "una dirección MAC que se utiliza para comunicación entre procesos.\n",
    "- **Variables de tipo UUID**: estas variables pueden tomar valores de UUID, como\n",
    "un UUID que se utiliza para identificar un objeto.\n",
    "- **Variables de tipo fecha**: estas variables pueden tomar valores de fecha, como\n",
    "una fecha que se utiliza para representar un momento en el tiempo.\n",
    "- **Variables de tipo hora**: estas variables pueden tomar valores de hora, como\n",
    "una hora que se utiliza para representar un momento en el tiempo.\n",
    "- **Variables de tipo tiempo**: estas variables pueden tomar valores de tiempo, como\n",
    "un tiempo que se utiliza para representar un momento en el tiempo.\n",
    "- **Variables de tipo duración**: estas variables pueden tomar valores de duración, como\n",
    "una duración que se utiliza para representar un período de tiempo.\n",
    "- **Variables de tipo frecuencia**: estas variables pueden tomar valores de frecuencia, como\n",
    "una frecuencia que se utiliza para representar la cantidad de veces que algo ocurre en un período\n",
    "de tiempo.\n",
    "- **Variables de tipo velocidad**: estas variables pueden tomar valores de velocidad, como\n",
    "una velocidad que se utiliza para representar la cantidad de unidades que se mueven en un período\n",
    "de tiempo.\n",
    "- **Variables de tipo aceleración**: estas variables pueden tomar valores de aceleración, como\n",
    "una aceleración que se utiliza para representar la cantidad de unidades que se mueven en un\n",
    "período de tiempo.\n",
    "- **Variables de tipo angular**: estas variables pueden tomar valores de angular, como\n",
    "una angular que se utiliza para representar la cantidad de unidades que se mueven en un\n",
    "período de tiempo."
   ]
  },
  {
   "cell_type": "markdown",
   "id": "0db695e6",
   "metadata": {},
   "source": []
  },
  {
   "cell_type": "markdown",
   "id": "c0ca9338",
   "metadata": {},
   "source": [
    "- **Tipos de datos**: Los tipos de datos son las categorías en las que se pued\n",
    "en clasificar los datos. Por ejemplo, un número entero, un número decimal, una fecha\n",
    "- **Formato de datos**: El formato de datos es la forma en que se almacenan\n",
    "los datos. Por ejemplo, un número entero se puede almacenar en formato binario o\n",
    "en formato hexadecimal.\n",
    "- **Validación de datos**: La validación de datos es el proceso de verificar\n",
    "que los datos sean correctos y estén en el formato adecuado. Por ejemplo, verificar\n",
    "que un número entero sea mayor que 0.\n",
    "- **Normalización de datos**: La normalización de datos es el proceso de\n",
    "organizar los datos de manera que sean fáciles de entender y utilizar. Por ejemplo,\n",
    "organizar los datos en tablas y columnas.\n",
    "- **Integridad de datos**: La integridad de datos es la confiabilidad\n",
    "de los datos. Por ejemplo, verificar que los datos sean precisos y no contengan\n",
    "errores.\n",
    "- **Consistencia de datos**: La consistencia de datos es la uniformidad\n",
    "de los datos. Por ejemplo, verificar que los datos sean consistentes en cuanto a\n",
    "su formato y contenido.\n"
   ]
  },
  {
   "cell_type": "markdown",
   "id": "7c8b5df1",
   "metadata": {},
   "source": []
  }
 ],
 "metadata": {
  "kernelspec": {
   "display_name": "py3_10_18",
   "language": "python",
   "name": "python3"
  },
  "language_info": {
   "codemirror_mode": {
    "name": "ipython",
    "version": 3
   },
   "file_extension": ".py",
   "mimetype": "text/x-python",
   "name": "python",
   "nbconvert_exporter": "python",
   "pygments_lexer": "ipython3",
   "version": "3.11.5"
  }
 },
 "nbformat": 4,
 "nbformat_minor": 5
}

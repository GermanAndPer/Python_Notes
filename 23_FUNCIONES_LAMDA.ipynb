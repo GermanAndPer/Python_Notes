{
 "cells": [
  {
   "cell_type": "markdown",
   "id": "b297cbec",
   "metadata": {},
   "source": [
    "# 🐍LAMBDA\n",
    "\n",
    "Las FUNCIONES LAMDA son como su nombre lo dice funciones.\n",
    "\n",
    "Sin embargo, estas estan escritas de una manera mas simplificada. Su estructura es la siguiente:\n",
    "\n",
    "- `NOMBRE DONDE SE GUARDA VALOR`\n",
    "- `IGUAL (=)`\n",
    "- `LAMBDA (Palabra reservada)`\n",
    "- `PARÁMETROS (Variables que se pasan a la función)`\n",
    "- `DOS PUNTOS (:) (Para especificar que sigue el comportamiento)`\n",
    "- `CÓDIGO (Lo que hace la función)`\n",
    "\n",
    "Para las funciones lambda no es Necesario parentesis ___()___ o los dos puntos de cierre ___(:)___"
   ]
  },
  {
   "cell_type": "code",
   "execution_count": 3,
   "id": "6cf32420",
   "metadata": {},
   "outputs": [
    {
     "name": "stdout",
     "output_type": "stream",
     "text": [
      "5\n",
      "5\n",
      "[2, 4, 6, 8, 10]\n",
      "[2, 4]\n"
     ]
    }
   ],
   "source": [
    "# FUNCION NORMAL\n",
    "def suma (a, b):\n",
    "    return a + b\n",
    "print(suma(2, 3))\n",
    "\n",
    "# FUNCION LAMBDA\n",
    "suma_lambda = lambda a, b: a + b\n",
    "print(suma_lambda(2, 3))\n",
    "\n",
    "#FUNCION LAMBDA CON UNA LISTA\n",
    "#MAP permite pasar una funcion sobre cada uno de los valores de una lista\n",
    "numeros = [1, 2, 3, 4, 5]\n",
    "doble_numeros = list(map(lambda x: x * 2, numeros))\n",
    "print(doble_numeros)\n",
    "\n",
    "# FUNCION LAMBDA CON UNA LISTA Y FILTRO\n",
    "# FILTER permite filtrar los valores de una lista\n",
    "# Y usamos una funcion lambda para identificar los valores que queremos filtrar\n",
    "numeros = [1, 2, 3, 4, 5]\n",
    "pares = list(filter(lambda x: x % 2 == 0, numeros))\n",
    "print(pares)"
   ]
  },
  {
   "cell_type": "markdown",
   "id": "34f86002",
   "metadata": {},
   "source": []
  }
 ],
 "metadata": {
  "kernelspec": {
   "display_name": "py3_10_18",
   "language": "python",
   "name": "python3"
  },
  "language_info": {
   "codemirror_mode": {
    "name": "ipython",
    "version": 3
   },
   "file_extension": ".py",
   "mimetype": "text/x-python",
   "name": "python",
   "nbconvert_exporter": "python",
   "pygments_lexer": "ipython3",
   "version": "3.11.5"
  }
 },
 "nbformat": 4,
 "nbformat_minor": 5
}

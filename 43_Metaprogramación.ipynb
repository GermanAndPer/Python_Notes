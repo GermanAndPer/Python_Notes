{
 "cells": [
  {
   "cell_type": "markdown",
   "id": "1d9de79e",
   "metadata": {},
   "source": [
    "# 🐍 Metaprogramación en Python\n",
    "\n",
    "## ¿Qué es la metaprogramación en Python?\n",
    "\n",
    "Al adentrarnos en el mundo de la programación orientada a objetos, nos encontramos con un concepto fascinante: la metaprogramación. Este enfoque no solo nos permite crear clases y objetos, sino que también nos brinda herramientas avanzadas para optimizar y controlar la creación de instancias. Desde el uso del método __init__ hasta el sofisticado manejo de __new__, la metaprogramación ofrece un abanico de posibilidades para desarrollar software más flexible y dinámico.\n",
    "\n",
    "## ¿Cómo se aplican __init__ y __new__ en una clase de Python?\n",
    "\n",
    "Veamos en detalle cómo estos métodos especiales pueden transformar tu manera de programar:\n",
    "\n",
    "## ¿Cómo funciona el método __init__?\n",
    "\n",
    "Cuando creamos una clase en Python, el método __init__ es uno de los primeros conceptos que aprendemos. \n",
    "\n",
    "Su función principal es inicializar los atributos de una instancia, es decir, establecer el estado inicial de un objeto:\n",
    "\n",
    "## ¿Qué hace el método especial __new__?\n",
    "\n",
    "Diferente al __init__, el método __new__ es responsable de crear una nueva instancia de una clase. \n",
    "\n",
    "Este método es llamado antes de __init__ y es crucial cuando se necesita un control más estricto sobre el proceso de instanciación:"
   ]
  },
  {
   "cell_type": "code",
   "execution_count": null,
   "id": "25f1c796",
   "metadata": {},
   "outputs": [],
   "source": [
    "class MultiplierFactory:\n",
    "    \n",
    "    def __new__(cls, factor: int):\n",
    "        print(f\"Creando instancia con factor {factor}\")\n",
    "        return super(MultiplierFactory, cls).__new__(cls)\n",
    "    \n",
    "    def __init__(self, factor: int):\n",
    "        print(f\"Inicializando con factor {factor}\")\n",
    "        self.factor = factor\n",
    "    \n",
    "    def __call__(self, number: int) -> int:\n",
    "        return number * self.factor\n",
    "    \n",
    "multiplier = MultiplierFactory(5)\n",
    "\n",
    "result = multiplier(10)\n",
    "print(result)"
   ]
  }
 ],
 "metadata": {
  "kernelspec": {
   "display_name": "py3_10_18",
   "language": "python",
   "name": "python3"
  },
  "language_info": {
   "name": "python",
   "version": "3.11.5"
  }
 },
 "nbformat": 4,
 "nbformat_minor": 5
}

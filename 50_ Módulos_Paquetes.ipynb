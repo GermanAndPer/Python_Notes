{
 "cells": [
  {
   "cell_type": "markdown",
   "id": "4efeb2dc",
   "metadata": {},
   "source": [
    "# Módulos y Paquetes\n",
    "\n"
   ]
  }
 ],
 "metadata": {
  "language_info": {
   "name": "python"
  }
 },
 "nbformat": 4,
 "nbformat_minor": 5
}

{
 "cells": [
  {
   "cell_type": "markdown",
   "id": "2b22278b",
   "metadata": {},
   "source": [
    "# 🪨✖️📄✖️✂️\n",
    "\n",
    "Juego básico de Piedra Papel o Tijeras"
   ]
  },
  {
   "cell_type": "code",
   "execution_count": null,
   "id": "9f37789c",
   "metadata": {},
   "outputs": [],
   "source": [
    "armas = {\n",
    "\t1:\"🪨\",\n",
    "\t2:\"📄\",\n",
    "\t3:\"✂️\"\n",
    "}\n",
    "\n",
    "print('''Bienvenidos al juego de Piedra, Papel o Tijera.\n",
    "\t\tPara elegir 🪨 ingresa 1\n",
    "\t\tPara elegir 📄 ingresa 2\n",
    "\t\tPara elegir ✂️ ingresa 3\n",
    "\t\tEmpezamos por turnos.\n",
    " ''')\n",
    "\n",
    "jugador1 = int(input(\"Jugador 1 Ingresa tu opcion: \"))\n",
    "jugador2 = int(input(\"Jugador 2 Ingresa tu opcion: \"))\n",
    "\n",
    "print(\"El juegador 1 eligió \",armas[jugador1])\n",
    "print(\"El juegador 2 eligió \",armas[jugador2])\n",
    "\n",
    "if jugador1 == jugador2:\n",
    "\tprint(\"¡Fue un Empate! Ambos eligieron lo mismo: \", armas[jugador1])\n",
    "elif (jugador1 == 1 and jugador2 == 3) or (jugador1 == 2 and jugador2 == 1) or (jugador1 == 3 and jugador2 == 2):\n",
    "\tprint(\"Ganó el numero 1 \", armas[jugador1], \" Le gana a \", armas[jugador2])\n",
    "else:\n",
    "\tprint(\"Ganó el numero 2 \", armas[jugador2], \" Le gana a \", armas[jugador1])"
   ]
  }
 ],
 "metadata": {
  "kernelspec": {
   "display_name": "py3_10_18",
   "language": "python",
   "name": "python3"
  },
  "language_info": {
   "codemirror_mode": {
    "name": "ipython",
    "version": 3
   },
   "file_extension": ".py",
   "mimetype": "text/x-python",
   "name": "python",
   "nbconvert_exporter": "python",
   "pygments_lexer": "ipython3",
   "version": "3.11.5"
  }
 },
 "nbformat": 4,
 "nbformat_minor": 5
}

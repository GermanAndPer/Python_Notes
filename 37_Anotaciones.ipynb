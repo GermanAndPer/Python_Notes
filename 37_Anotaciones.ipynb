{
 "cells": [
  {
   "cell_type": "markdown",
   "id": "38685754",
   "metadata": {},
   "source": [
    "# 📄Anitaciones:\n",
    "\n",
    "## ¿Qué son las anotaciones en Python?\n",
    "\n",
    "Las anotaciones en Python son una herramienta que permite agregar información adicional sobre las variables, funciones y métodos que programamos. \n",
    "\n",
    "Aunque no restringen el tipo de datos que se puede almacenar en una variable, proporcionan un contexto más claro sobre el objetivo del código, beneficiando la legibilidad y comprensión, especialmente en entornos de trabajo en equipo.\n",
    "\n",
    "Las anotaciones de tipo en Python no transforman ni obligan a que los datos sean del tipo anotado—son declarativas, no activas.\n",
    "\n",
    "## 🧩 ¿Qué significa esto?\n",
    "\n",
    "- 🔒 ***No imponen reglas***: Si anotas edad: int = \"30\", Python lo acepta sin quejarse (aunque tú y yo sabemos que eso va a romper corazones en producción).\n",
    "- 🧪 ***No hacen conversiones***: No convierten str a int ni viceversa. Son como etiquetas que dicen: “Esto debería ser un entero”, pero no lo fuerzan.\n",
    "- 🧠 ***Son útiles con herramientas externas***: Usan las anotaciones para ayudarte a encontrar errores antes de ejecutar el código—como tu IDE o linters tipo mypy.\n"
   ]
  },
  {
   "cell_type": "markdown",
   "id": "f087fe91",
   "metadata": {},
   "source": [
    "## ¿Cómo se utilizan las anotaciones en las variables?\n",
    "\n",
    "Las anotaciones para las variables consisten en especificar el tipo esperado usando dos puntos seguidos de la declaración del tipo. Por ejemplo, al crear un identificador para empleados, podríamos especificarlo de la siguiente manera:"
   ]
  },
  {
   "cell_type": "code",
   "execution_count": null,
   "id": "90344df0",
   "metadata": {},
   "outputs": [],
   "source": [
    "# Para especificar variables.\n",
    "id1: int = 101\n",
    "id2: int = 102\n",
    "\n",
    "# Al realizar operaciones, también podemos anotar el tipo de resultado:\n",
    "total_id: int = id1 + id2\n",
    "\n",
    "# En funciones y métodos\n",
    "def sumar_ids_empleados(id1: int, id2: int) -> int:     #Se usa la flecha para el resultado final ->\n",
    "    return id1 + id2\n",
    "\n",
    "#En CLASES\n",
    "class Empleado:\n",
    "    def __init__(self, nombre: str, edad: int, salario: float):\n",
    "        self.nombre = nombre\n",
    "        self.edad = edad\n",
    "        self.salario = salario\n",
    "\n",
    "    def presentarse(self) -> str:\n",
    "        return f\"Hola, me llamo {self.nombre}. Tengo {self.edad} años.\""
   ]
  },
  {
   "cell_type": "markdown",
   "id": "d14a72f3",
   "metadata": {},
   "source": [
    "## MYPY\n",
    "\n",
    "Además de las anotaciones, es posible utilizar herramientas como MyPy para analizar estáticamente el tipo de datos en un archivo Python, buscando posibles inconsistencias o errores. \n",
    "\n",
    "MyPy no es parte de la biblioteca estándar de Python, por lo que necesitas instalarlo:"
   ]
  },
  {
   "cell_type": "code",
   "execution_count": null,
   "id": "bcac53fd",
   "metadata": {},
   "outputs": [],
   "source": [
    "#Comando para ver si tengo instalado mypy\n",
    "!mypy --version\n",
    "\n",
    "#Comando para ver si tengo instalado pip\n",
    "!pip --version\n",
    "\n",
    "#Comando para instalar MYPY\n",
    "!conda install mypy\n",
    "#O esta en caso de no permitirlo de manera automatica.\n",
    "!conda install -c conda-forge mypy\n",
    "\n",
    "#Para ejecutarlo solo escribimo MYPY y el nombre del Archivo\n",
    "!mypy archivo.py"
   ]
  },
  {
   "attachments": {
    "image.png": {
     "image/png": "[encoded data removed]"
    }
   },
   "cell_type": "markdown",
   "id": "45b24659",
   "metadata": {},
   "source": [
    "En caso de notener ningun problema, aparecerá un mensaje como el siguiente:\n",
    "\n",
    "![image.png](attachment:image.png)"
   ]
  },
  {
   "cell_type": "markdown",
   "id": "935a43c2",
   "metadata": {},
   "source": [
    "## OPTIONAL\n",
    "\n",
    "- ***Optional***: Indica que un valor podría ser del tipo especificado o None."
   ]
  },
  {
   "cell_type": "code",
   "execution_count": null,
   "id": "8991a0fc",
   "metadata": {},
   "outputs": [],
   "source": [
    "from typing import Optional\n",
    "\n",
    "def encontrar_empleado(ids: list[int], id_buscado: int) -> Optional[int]:\n",
    "    if id_buscado in ids:\n",
    "        return id_buscado\n",
    "    return None"
   ]
  },
  {
   "cell_type": "markdown",
   "id": "d568ba2d",
   "metadata": {},
   "source": [
    "## UNION\n",
    "- ***Union***: Se usa cuando necesitas aceptar múltiples tipos de datos específicos, pero no None."
   ]
  },
  {
   "cell_type": "code",
   "execution_count": null,
   "id": "d28b0ced",
   "metadata": {},
   "outputs": [],
   "source": [
    "from typing import Union\n",
    "\n",
    "def procesar_salario(salario: Union[int, float]) -> float:\n",
    "    return float(salario)"
   ]
  }
 ],
 "metadata": {
  "kernelspec": {
   "display_name": "py3_10_18",
   "language": "python",
   "name": "python3"
  },
  "language_info": {
   "codemirror_mode": {
    "name": "ipython",
    "version": 3
   },
   "file_extension": ".py",
   "mimetype": "text/x-python",
   "name": "python",
   "nbconvert_exporter": "python",
   "pygments_lexer": "ipython3",
   "version": "3.11.5"
  }
 },
 "nbformat": 4,
 "nbformat_minor": 5
}

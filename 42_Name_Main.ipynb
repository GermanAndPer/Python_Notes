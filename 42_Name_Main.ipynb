{
 "cells": [
  {
   "cell_type": "markdown",
   "id": "f1eccc02",
   "metadata": {},
   "source": [
    "# 📄Name = MAIN\n",
    "\n",
    "El código Name = Main\n",
    "\n",
    "Sirve para ejecutar codigo de manera automatica\n",
    "\n",
    "\n",
    "\n",
    "Para ejecutar el codigo en la terminal, te vas a la ruta dondes esta el archivo y se ejecuta el siguiente codigo.\n",
    "\n",
    "python3 archivo.py\n"
   ]
  }
 ],
 "metadata": {
  "kernelspec": {
   "display_name": "py3_10_18",
   "language": "python",
   "name": "python3"
  },
  "language_info": {
   "name": "python",
   "version": "3.11.5"
  }
 },
 "nbformat": 4,
 "nbformat_minor": 5
}

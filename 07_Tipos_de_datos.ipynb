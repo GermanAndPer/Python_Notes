{
 "cells": [
  {
   "cell_type": "markdown",
   "id": "d3e49f83",
   "metadata": {},
   "source": [
    "# 🔢🔠Tipos de Datos\n",
    "\n",
    "En python son denominados como CLASES o CLASS a los tipos de datos.\n",
    "\n",
    "Ejemplo de esto es que al momento de ejecutar el siguiente codigo nos confirma que __str__ es una clase."
   ]
  },
  {
   "cell_type": "code",
   "execution_count": null,
   "id": "5a58b7bd",
   "metadata": {},
   "outputs": [],
   "source": [
    "primer_string = \"Esto es un String\"\n",
    "print(type(primer_string))\n",
    "# Resultado      <class 'str'>"
   ]
  },
  {
   "cell_type": "markdown",
   "id": "5dbef176",
   "metadata": {},
   "source": [
    "Los tipos de datos mas comunes son:\n",
    "- `int`: Entero (Integer)\n",
    "- `float`: Número decimal\n",
    "- `str`: Cadena de texto\n",
    "- `bool`: Verdadero o falso\n",
    "- `list`: Lista de elementos\n",
    "- `dict`: Diccionario de elementos\n",
    "- `tuple`: Tupla de elementos\n",
    "- `set`: Conjunto de elementos\n",
    "- `None`: Valor nulo\n",
    "- `complex`: Número complejo\n",
    "- `bytes`: Secuencia de bytes\n",
    "- `bytearray`: Secuencia de bytes mutable\n",
    "- `memoryview`: Vista de memoria\n",
    "- `range`: Secuencia de números\n",
    "- `frozenset`: Conjunto inmutable\n",
    "- `enumerate`: Secuencia de índices y valores\n",
    "- `zip`: Secuencia de tuplas\n",
    "- `map`: Secuencia de resultados de una función\n",
    "- `filter`: Secuencia de resultados de una función\n",
    "- `lambda`: Función anónima\n",
    "\n",
    "\n"
   ]
  },
  {
   "cell_type": "markdown",
   "id": "65161168",
   "metadata": {},
   "source": [
    "# Operaciones con tipos de Datos\n",
    "\n",
    "Operaciones entre INT y FLOAT siempre devolverán FLOAT. Aunque el resultado fginal sea un numero entero."
   ]
  },
  {
   "cell_type": "code",
   "execution_count": null,
   "id": "26d8eb0f",
   "metadata": {},
   "outputs": [],
   "source": [
    "# 1. Int\n",
    "print(5 + 3)  # suma\n",
    "print(5 - 3)  # resta\n",
    "print(5 * 3)  # multiplicación\n",
    "print(5 / 3)  # división\n",
    "print(5 % 3)  # resto de la división\n",
    "print(5 ** 3)  # potencia\n",
    "print(5 // 3)  # división entera\n",
    "print(5 > 3)  # mayor que\n",
    "print(5 < 3)  # menor que\n",
    "print(5 >= 3)  # mayor o igual que\n",
    "print(5 <= 3)  # menor o igual que\n",
    "print(5 == 3)  # igual que\n",
    "print(5 != 3)  # distinto de\n",
    "print(5 is 3)  # idéntico\n",
    "print(5 is not 3)  # no idéntico\n",
    "print(5 in [1, 2, 3, 4, 5]) \n",
    "print(5 not in [1, 2, 3, 4, 5])\n",
    "print(5 is not None)\n",
    "print(5 is None)\n"
   ]
  },
  {
   "cell_type": "markdown",
   "id": "213f3353",
   "metadata": {},
   "source": [
    "\n",
    "\n",
    "\n",
    "\n",
    "- `Tipos de datos`: Los tipos de datos son las categorías en las que se pued\n",
    "en clasificar los datos. Por ejemplo, un número entero, un número decimal, una fecha\n",
    "- `Formato de datos`: El formato de datos es la forma en que se almacenan\n",
    "los datos. Por ejemplo, un número entero se puede almacenar en formato binario o\n",
    "en formato hexadecimal.\n",
    "- `Validación de datos`: La validación de datos es el proceso de verificar\n",
    "que los datos sean correctos y estén en el formato adecuado. Por ejemplo, verificar\n",
    "que un número entero sea mayor que 0.\n",
    "- `Normalización de datos`: La normalización de datos es el proceso de\n",
    "organizar los datos de manera que sean fáciles de entender y utilizar. Por ejemplo,\n",
    "organizar los datos en tablas y columnas.\n",
    "- `Integridad de datos`: La integridad de datos es la confiabilidad\n",
    "de los datos. Por ejemplo, verificar que los datos sean precisos y no contengan\n",
    "errores.\n",
    "- `Consistencia de datos`: La consistencia de datos es la uniformidad\n",
    "de los datos. Por ejemplo, verificar que los datos sean consistentes en cuanto a\n",
    "su formato y contenido.\n"
   ]
  },
  {
   "cell_type": "markdown",
   "id": "b5f3b47e",
   "metadata": {},
   "source": []
  }
 ],
 "metadata": {
  "kernelspec": {
   "display_name": "py3_10_18",
   "language": "python",
   "name": "python3"
  },
  "language_info": {
   "codemirror_mode": {
    "name": "ipython",
    "version": 3
   },
   "file_extension": ".py",
   "mimetype": "text/x-python",
   "name": "python",
   "nbconvert_exporter": "python",
   "pygments_lexer": "ipython3",
   "version": "3.11.5"
  }
 },
 "nbformat": 4,
 "nbformat_minor": 5
}

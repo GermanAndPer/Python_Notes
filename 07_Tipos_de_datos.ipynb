{
 "cells": [
  {
   "cell_type": "markdown",
   "id": "d3e49f83",
   "metadata": {},
   "source": [
    "# 🔢🔠Tipos de Datos\n",
    "\n",
    "En python son denominados como CLASES o CLASS a los tipos de datos.\n",
    "\n",
    "Si ejecutamos el siguiente codigo, nos indica que __str__ es una clase."
   ]
  },
  {
   "cell_type": "code",
   "execution_count": null,
   "id": "5a58b7bd",
   "metadata": {},
   "outputs": [],
   "source": [
    "primer_string = \"Esto es un String\"\n",
    "print(type(primer_string))\n",
    "# Resultado      <class 'str'>"
   ]
  },
  {
   "cell_type": "markdown",
   "id": "61c44407",
   "metadata": {},
   "source": [
    "# 🔁Cambio de tipo\n",
    "\n",
    "Tambien se puede cambiar el tipo de dato segun el caso.\n",
    "\n",
    "Utilizando funciones como las siguientes"
   ]
  },
  {
   "cell_type": "code",
   "execution_count": null,
   "id": "794049de",
   "metadata": {},
   "outputs": [],
   "source": [
    "edad = \"25\"\n",
    "\n",
    "# INT      =    Cambia el tipo de dato de la variable seleccinada a INT\n",
    "edad = int(edad)\n",
    "print(type(edad))\n",
    "# FLOAT    =    Cambia el tipo de dato de la variable seleccionada a FLOAT\n",
    "edad = float(edad)\n",
    "print(type(edad))\n",
    "\n",
    "# STR      =    Cambia el tipo de dato de la variable seleccionada a STR\n",
    "edad = str(edad)\n",
    "print(type(edad))"
   ]
  },
  {
   "cell_type": "markdown",
   "id": "5dbef176",
   "metadata": {},
   "source": [
    "Los tipos de datos mas comunes son:\n",
    "- `int`: Entero (Integer)\n",
    "- `float`: Número decimal\n",
    "- `str`: Cadena de texto\n",
    "- `bool`: Verdadero o falso\n",
    "- `list`: Lista de elementos\n",
    "- `dict`: Diccionario de elementos\n",
    "- `tuple`: Tupla de elementos\n",
    "- `set`: Conjunto de elementos\n",
    "- `None`: Valor nulo\n",
    "- `complex`: Número complejo\n",
    "- `bytes`: Secuencia de bytes\n",
    "- `bytearray`: Secuencia de bytes mutable\n",
    "- `memoryview`: Vista de memoria\n",
    "- `range`: Secuencia de números\n",
    "- `frozenset`: Conjunto inmutable\n",
    "- `enumerate`: Secuencia de índices y valores\n",
    "- `zip`: Secuencia de tuplas\n",
    "- `map`: Secuencia de resultados de una función\n",
    "- `filter`: Secuencia de resultados de una función\n",
    "- `lambda`: Función anónima\n",
    "\n",
    "\n"
   ]
  },
  {
   "cell_type": "markdown",
   "id": "65161168",
   "metadata": {},
   "source": [
    "# Operaciones con tipos de Datos\n",
    "\n",
    "Operaciones entre INT y FLOAT siempre devolverán FLOAT. Aunque el resultado fginal sea un numero entero."
   ]
  }
 ],
 "metadata": {
  "kernelspec": {
   "display_name": "py3_10_18",
   "language": "python",
   "name": "python3"
  },
  "language_info": {
   "codemirror_mode": {
    "name": "ipython",
    "version": 3
   },
   "file_extension": ".py",
   "mimetype": "text/x-python",
   "name": "python",
   "nbconvert_exporter": "python",
   "pygments_lexer": "ipython3",
   "version": "3.11.5"
  }
 },
 "nbformat": 4,
 "nbformat_minor": 5
}

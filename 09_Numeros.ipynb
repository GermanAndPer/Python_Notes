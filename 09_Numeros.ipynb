{
 "cells": [
  {
   "cell_type": "markdown",
   "id": "15be0ff3",
   "metadata": {},
   "source": [
    "# 🔢 Numeros\n",
    "\n",
    "## 📊 Operaciones Matemáticas \n",
    "\n",
    "En python se pueden hacer todas las operaciones matematicas posibles. por ejemplo:"
   ]
  },
  {
   "cell_type": "code",
   "execution_count": 2,
   "id": "54648d66",
   "metadata": {},
   "outputs": [
    {
     "name": "stdout",
     "output_type": "stream",
     "text": [
      "7\n",
      "3\n",
      "10\n",
      "2.5\n",
      "2\n",
      "1\n",
      "25\n",
      "2.23606797749979\n",
      "1.7099759466766968\n"
     ]
    }
   ],
   "source": [
    "a = 5\n",
    "b = 2\n",
    "\n",
    "#SUMA \n",
    "print(a + b)\n",
    "#RESTA\n",
    "print(a - b)\n",
    "#MULTIPLICACIÓN\n",
    "print(a * b)\n",
    "#DIVISIÓN\n",
    "print(a / b)\n",
    "#DIVISIÓN ENTERA\n",
    "print(a // b)\n",
    "#MÓDULO\n",
    "print(a % b)\n",
    "#EXPONENCIAL / POTENCIA\n",
    "print(a ** b)\n",
    "#RAÍZ CUADRADA      El 0.5 hace referencia a la raiz cuadrada.\n",
    "print(a ** 0.5)     \n",
    "#RAÍZ CUBICA        El 1/3 hace referencia a la raiz cubica.\n",
    "print(a ** (1/3)) \n",
    "\n",
    "\n",
    "\n",
    "\n",
    "#- Logaritmo: `math.log(a)`\n",
    "#- Exponenciación: `math.exp(a)`\n",
    "#- Raíz cuadrada: `math.sqrt(a)`\n",
    "#- Raíz cúbica: `math.pow(a, 1/3)`\n",
    "#- Logaritmo: `math.log(a)`"
   ]
  },
  {
   "cell_type": "markdown",
   "id": "372090fe",
   "metadata": {},
   "source": []
  }
 ],
 "metadata": {
  "kernelspec": {
   "display_name": "py3_10_18",
   "language": "python",
   "name": "python3"
  },
  "language_info": {
   "codemirror_mode": {
    "name": "ipython",
    "version": 3
   },
   "file_extension": ".py",
   "mimetype": "text/x-python",
   "name": "python",
   "nbconvert_exporter": "python",
   "pygments_lexer": "ipython3",
   "version": "3.11.5"
  }
 },
 "nbformat": 4,
 "nbformat_minor": 5
}

{
 "cells": [
  {
   "cell_type": "code",
   "execution_count": null,
   "id": "189f8e04",
   "metadata": {},
   "outputs": [],
   "source": [
    "class Order:\n",
    "\n",
    "    @staticmethod\n",
    "    def calculate_tax(amount, tax_rate):\n",
    "        return amount * (tax_rate / 100)\n",
    "    \n",
    "print(Order.calculate_tax(1000, 18))"
   ]
  },
  {
   "cell_type": "code",
   "execution_count": null,
   "id": "db9041bf",
   "metadata": {},
   "outputs": [],
   "source": [
    "class Order:\n",
    "    global_discount = 10\n",
    "\n",
    "    def __init__(self,amount):\n",
    "        self.amount = amount\n",
    "\n",
    "    @classmethod\n",
    "    def update_gloabal_discount(cls, new_discount):\n",
    "        cls.global_discount = new_discount\n",
    "\n",
    "Order.update_gloabal_discount(15)\n",
    "print(Order.global_discount)"
   ]
  }
 ],
 "metadata": {
  "kernelspec": {
   "display_name": "py3_10_18",
   "language": "python",
   "name": "python3"
  },
  "language_info": {
   "name": "python",
   "version": "3.11.5"
  }
 },
 "nbformat": 4,
 "nbformat_minor": 5
}

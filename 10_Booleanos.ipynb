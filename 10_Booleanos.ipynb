{
 "cells": [
  {
   "cell_type": "markdown",
   "id": "16c88e30",
   "metadata": {},
   "source": [
    "# ✅❌Operadores Boleanos\n",
    "\n",
    "Los operadores Booleandos son aquellos que se utilizan en las condiciones para decir si algo se cumple o no se cumple.\n",
    "\n",
    "Si se cumple es ___VERDADERO = TRUE___\n",
    "\n",
    "Si no se cumple es ___FALSO = FALSE___\n",
    "\n",
    "En python usamos varios operadores. Como lo son:"
   ]
  },
  {
   "cell_type": "code",
   "execution_count": null,
   "id": "f8ed3dbd",
   "metadata": {},
   "outputs": [],
   "source": [
    "a = 1\n",
    "b = 2\n",
    "\n",
    "# (==) IGUALDAD\n",
    "print(a == b)\n",
    "# (!=) DIFERENTE\n",
    "print(a != b)\n",
    "# (>) MAYOR QUE\n",
    "print(a > b)\n",
    "# (<) MENOR QUE\n",
    "print(a < b) \n",
    "# (>=) MAYOR O IGUAL QUE\n",
    "print(a >= b)\n",
    "# (<=) MENOR O IGUAL QUE\n",
    "print(a <= b)\n",
    "\n",
    "# (is) IDÉNTICO\n",
    "print(a is b)                       # False, porque son diferentes objetos\n",
    "\n",
    "# (is not) NO IDÉNTICO\n",
    "print(a is not b)                   # True, porque son diferentes objetos\n",
    "\n",
    "# (in) ENCONTRADO EN\n",
    "print(5 in [1, 2, 3, 4, 5])         # True, porque 5 está en la lista\n",
    "\n",
    "# (not in) NO ENCONTRADO EN  \n",
    "print(5 not in [1, 2, 3, 4, 5])     # False, porque 5 está en la lista\n",
    "\n",
    "# (is not None) NO ES NULO\n",
    "print(5 is not None)                # True, porque 5 no es None\n",
    "\n",
    "# (is None) ES NULO\n",
    "print(5 is None)                    # False, porque 5 no es None"
   ]
  }
 ],
 "metadata": {
  "kernelspec": {
   "display_name": "py3_10_18",
   "language": "python",
   "name": "python3"
  },
  "language_info": {
   "codemirror_mode": {
    "name": "ipython",
    "version": 3
   },
   "file_extension": ".py",
   "mimetype": "text/x-python",
   "name": "python",
   "nbconvert_exporter": "python",
   "pygments_lexer": "ipython3",
   "version": "3.11.5"
  }
 },
 "nbformat": 4,
 "nbformat_minor": 5
}

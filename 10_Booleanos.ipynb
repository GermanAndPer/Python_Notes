{
 "cells": [
  {
   "cell_type": "markdown",
   "id": "16c88e30",
   "metadata": {},
   "source": [
    "# ✅❌Operadores Boleanos\n",
    "\n",
    "Los operadores Booleandos son aquellos que se utilizan en las condiciones para decir si algo se cumple o no se cumple.\n",
    "\n",
    "Si se cumple es ___VERDADERO = TRUE___\n",
    "\n",
    "Si no se cumple es ___FALSO = FALSE___\n",
    "\n",
    "En python usamos varios operadores. Como lo son:"
   ]
  },
  {
   "cell_type": "code",
   "execution_count": null,
   "id": "f8ed3dbd",
   "metadata": {},
   "outputs": [
    {
     "name": "stdout",
     "output_type": "stream",
     "text": [
      "False\n",
      "True\n",
      "False\n",
      "True\n",
      "False\n",
      "True\n"
     ]
    }
   ],
   "source": [
    "a = 1\n",
    "b = 2\n",
    "\n",
    "# (==) IGUALDAD\n",
    "print(a == b)\n",
    "# (!=) DIFERENTE\n",
    "print(a != b)\n",
    "# (>) MAYOR QUE\n",
    "print(a > b)\n",
    "# (<) MENOR QUE\n",
    "print(a < b) \n",
    "# (>=) MAYOR O IGUAL QUE\n",
    "print(a >= b)\n",
    "# (<=) MENOR O IGUAL QUE\n",
    "print(a <= b)\n",
    "\n",
    "\n",
    "\n"
   ]
  },
  {
   "cell_type": "markdown",
   "id": "027822d6",
   "metadata": {},
   "source": []
  }
 ],
 "metadata": {
  "kernelspec": {
   "display_name": "py3_10_18",
   "language": "python",
   "name": "python3"
  },
  "language_info": {
   "codemirror_mode": {
    "name": "ipython",
    "version": 3
   },
   "file_extension": ".py",
   "mimetype": "text/x-python",
   "name": "python",
   "nbconvert_exporter": "python",
   "pygments_lexer": "ipython3",
   "version": "3.11.5"
  }
 },
 "nbformat": 4,
 "nbformat_minor": 5
}

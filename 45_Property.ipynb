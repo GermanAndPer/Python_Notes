{
 "cells": [
  {
   "cell_type": "code",
   "execution_count": null,
   "id": "2e8c8da5",
   "metadata": {},
   "outputs": [],
   "source": [
    "class Employee:\n",
    "    def __init__(self, name, salary):\n",
    "        self.name = name\n",
    "        self._salary = salary \n",
    "\n",
    "    @property\n",
    "    def salary(self):\n",
    "        return self._salary\n",
    "\n",
    "    @salary.setter\n",
    "    def salary(self, new_salary):\n",
    "        if new_salary < 0:\n",
    "            raise ValueError(\"Salary cannot be negative\")\n",
    "        self._salary = new_salary\n",
    "\n",
    "    @salary.deleter\n",
    "    def salary(self):\n",
    "        print(f\"The salary of {self.name} has been deleted\")\n",
    "        del self._salary\n",
    "\n",
    "# Crear instancia de Employee\n",
    "employee = Employee(\"Ana\", 5000)\n",
    "print(employee.salary)  \n",
    "\n",
    "# Modificar el salario de forma controlada\n",
    "employee.salary = 6000\n",
    "print(employee.salary)  \n",
    "\n",
    "# Intentar establecer un salario negativo\n",
    "#employee.salary = -1000  \n",
    "\n",
    "# Eliminar el salario\n",
    "del employee.salary  "
   ]
  }
 ],
 "metadata": {
  "kernelspec": {
   "display_name": "py3_10_18",
   "language": "python",
   "name": "python3"
  },
  "language_info": {
   "name": "python",
   "version": "3.11.5"
  }
 },
 "nbformat": 4,
 "nbformat_minor": 5
}

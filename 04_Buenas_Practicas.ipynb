{
 "cells": [
  {
   "cell_type": "markdown",
   "id": "cdeea095",
   "metadata": {},
   "source": [
    "# ✅🐍 Buenas practicas\n",
    "\n",
    "Lo siguiente son recomendados para generar un codigo consistente, limpio, y fácil de entender:\n",
    "\n",
    "\n",
    "- **Ser consitente con el uso de comillas**: Ya sean comillas sencillas (`'`) o dobles (`\"`).\n",
    "- **Usar nombres de variables y funciones descriptivos**\n",
    "- **Usar comentarios**\n",
    "- **Usar funciones**\n",
    "- **Usar listas y diccionarios**\n",
    "- **Usar condicionales y bucles**\n",
    "- **Usar excepciones para el manejo de errores**\n",
    "- **Usar la documentación de Python**\n",
    "- **Usar y generar documentación**\n",
    "- **Usar la herramienta de depuración**\n",
    "- **Usar gestor de versiones**: GITHUB y Python"
   ]
  },
  {
   "cell_type": "markdown",
   "id": "af1c55c3",
   "metadata": {},
   "source": [
    "## ¿Qué es el código Pytónico?\n",
    "El término \"código Pytónico\" se refiere a la aplicación de las mejores prácticas y convenciones del lenguaje Python. \n",
    "Siguiendo estas pautas, los desarrolladores pueden escribir código que sea:\n",
    "\n",
    "- `Simple y directo`: Resolver problemas de la manera más clara y sencilla posible.\n",
    "- `Legible`: Permitir que cualquier desarrollador pueda entender el código rápidamente.\n",
    "- `Eficiente`: A pesar de que Python no es el lenguaje más rápido, es crucial crear soluciones optimizadas."
   ]
  },
  {
   "cell_type": "code",
   "execution_count": null,
   "id": "f9a65eb2",
   "metadata": {},
   "outputs": [],
   "source": [
    "#Ejemplo de mejora Pytónica\n",
    "# Consideremos un caso común de iteración en código no optimizado. \n",
    "# Podemos transformar un bucle for tradicional que calcula cuadrados de números usando list comprehension. \n",
    "# Este enfoque simplifica y optimiza el proceso, mejorando tanto la legibilidad como la eficiencia.\n",
    "# Código lento y poco eficiente\n",
    "numeros = [1, 2, 3, 4, 5]\n",
    "cuadrados = []\n",
    "for numero in numeros:\n",
    "    cuadrados.append(numero ** 2)\n",
    "\n",
    "# Código Pytónico usando list comprehension\n",
    "cuadrados = [numero ** 2 for numero in numeros]"
   ]
  },
  {
   "cell_type": "markdown",
   "id": "e17752f7",
   "metadata": {},
   "source": [
    "## ¿Cómo seguir las convenciones PEP8?\n",
    "\n",
    "PEP8 es el documento oficial que establece las convenciones de estilo para Python, seguido por la industria entera. \n",
    "Estas convenciones nos guían para escribir un código que sea limpio y fácil de mantener.\n",
    "\n",
    "Ejemplos de PEP8 en acción\n",
    "\n",
    "- `Nombres de clases`: Utilizar CamelCase. Ejemplo: Calculadora.\n",
    "- `Nombres de funciones y variables`: Usar snake_case, separando palabras con guiones bajos. Ejemplo: sumar_numeros.\n",
    "- `Indentación`: Aplicar cuatro espacios por nivel de indentación.\n",
    "- `Longitud de línea`: Mantener las líneas de código dentro de los 79 caracteres.\n",
    "- `Espaciado`: Incluir espacios antes y después de operadores y después de comas en listas de parámetros."
   ]
  },
  {
   "cell_type": "code",
   "execution_count": null,
   "id": "55c5aa87",
   "metadata": {},
   "outputs": [],
   "source": [
    "#Ejemplo\n",
    "class Calculadora:\n",
    "    def sumar(self, opcion_1, opcion_2):\n",
    "        return opcion_1 + opcion_2"
   ]
  },
  {
   "cell_type": "markdown",
   "id": "d80ad204",
   "metadata": {},
   "source": [
    "## ¿Cuáles son los principios de un Pythonista?\n",
    "Un verdadero Pythonista sigue tres principios clave para escribir código de calidad:\n",
    "\n",
    "- `Simplicidad`: Siempre buscar la solución más simple y directa.\n",
    "- `Claridad`: Asegurar que el código sea fácilmente comprensible por cualquier miembro del equipo.\n",
    "- `Eficiencia`: Desarrollar las soluciones más efectivas dentro de las capacidades de Python.\n",
    "\n"
   ]
  },
  {
   "cell_type": "markdown",
   "id": "2d093f6a",
   "metadata": {},
   "source": []
  }
 ],
 "metadata": {
  "kernelspec": {
   "display_name": "py3_10_18",
   "language": "python",
   "name": "python3"
  },
  "language_info": {
   "name": "python",
   "version": "3.11.5"
  }
 },
 "nbformat": 4,
 "nbformat_minor": 5
}

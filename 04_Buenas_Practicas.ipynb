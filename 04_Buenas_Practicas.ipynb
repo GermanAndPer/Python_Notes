{
 "cells": [
  {
   "cell_type": "markdown",
   "id": "cdeea095",
   "metadata": {},
   "source": [
    "# ✅🐍 Buenas practicas\n",
    "\n",
    "Lo siguiente son recomendados para generar un codigo consistente, limpio, y fácil de entender:\n",
    "\n",
    "\n",
    "- **Ser consitente con el uso de comillas**: Ya sean comillas sencillas (`'`) o dobles (`\"`).\n",
    "- **Usar nombres de variables y funciones descriptivos**\n",
    "- **Usar comentarios**\n",
    "- **Usar funciones**\n",
    "- **Usar listas y diccionarios**\n",
    "- **Usar condicionales y bucles**\n",
    "- **Usar excepciones para el manejo de errores**\n",
    "- **Usar la documentación de Python**\n",
    "- **Usar y generar documentación**\n",
    "- **Usar la herramienta de depuración**\n",
    "- **Usar gestor de versiones**: GITHUB y Python"
   ]
  },
  {
   "cell_type": "markdown",
   "id": "af1c55c3",
   "metadata": {},
   "source": []
  }
 ],
 "metadata": {
  "language_info": {
   "name": "python"
  }
 },
 "nbformat": 4,
 "nbformat_minor": 5
}

{
 "cells": [
  {
   "cell_type": "markdown",
   "id": "5cbd0cf6",
   "metadata": {},
   "source": [
    "# 🎨🖌️DECORADORES\n",
    "\n",
    "## 🧪 ¿Qué es un decorador?\n",
    "Un decorador es una función que recibe otra función como argumento, le añade funcionalidad extra y devuelve una nueva función. \n",
    "\n",
    "Todo esto sin modificar el código original. \n",
    "\n",
    "Es como envolver un regalo en papel brillante 🎁: el contenido sigue siendo el mismo, pero tiene algo más."
   ]
  },
  {
   "cell_type": "code",
   "execution_count": 1,
   "id": "7412b92c",
   "metadata": {},
   "outputs": [
    {
     "name": "stdout",
     "output_type": "stream",
     "text": [
      "Antes de ejecutar la función\n",
      "¡Hola, German!\n",
      "Después de ejecutar la función\n"
     ]
    }
   ],
   "source": [
    "def decorador(funcion_original):\n",
    "    def nueva_funcion():\n",
    "        print(\"Antes de ejecutar la función\")\n",
    "        funcion_original()\n",
    "        print(\"Después de ejecutar la función\")\n",
    "    return nueva_funcion\n",
    "\n",
    "@decorador\n",
    "def saludar():\n",
    "    print(\"¡Hola, German!\")\n",
    "\n",
    "saludar()"
   ]
  },
  {
   "cell_type": "markdown",
   "id": "21a111ab",
   "metadata": {},
   "source": [
    "- El @decorador aplica la lógica de decorador sobre la función saludar.\n",
    "- Resultado:\n",
    "\n",
    "```\n",
    "Antes de ejecutar la función\n",
    "¡Hola, German!\n",
    "Después de ejecutar la función\n",
    "```"
   ]
  },
  {
   "cell_type": "markdown",
   "id": "dc1d044e",
   "metadata": {},
   "source": [
    "## 🧠 ¿Para qué sirven?\n",
    "\n",
    "- 📋 Logging: registrar qué funciones se ejecutan.\n",
    "- 🛡️ Autenticación/autorización en frameworks web.\n",
    "- ⏱️ Medir tiempos de ejecución.\n",
    "- 📦 Cacheo de resultados.\n",
    "- ✅ Validación de argumentos.\n"
   ]
  },
  {
   "cell_type": "markdown",
   "id": "49dcf34c",
   "metadata": {},
   "source": [
    "## 🧙‍♂️ Decoradores con parámetros\n",
    "\n",
    "Si tu función recibe argumentos, el decorador debe aceptarlos también:\n"
   ]
  },
  {
   "cell_type": "code",
   "execution_count": 2,
   "id": "46544e6e",
   "metadata": {},
   "outputs": [
    {
     "name": "stdout",
     "output_type": "stream",
     "text": [
      "Args: (5, 7)\n",
      "Kwargs: {}\n",
      "Llamando a: sumar\n",
      "12\n"
     ]
    }
   ],
   "source": [
    "def decorador(func):\n",
    "    def envoltura(*args, **kwargs):\n",
    "        print(\"Args:\", args)\n",
    "        print(\"Kwargs:\", kwargs)\n",
    "        print(f\"Llamando a: {func.__name__}\")\n",
    "        return func(*args, **kwargs)\n",
    "    return envoltura\n",
    "\n",
    "@decorador\n",
    "def sumar(a, b):\n",
    "    return a + b\n",
    "\n",
    "print(sumar(5, 7))  # Output: Llamando a: sumar \\n 12"
   ]
  },
  {
   "cell_type": "markdown",
   "id": "a4735374",
   "metadata": {},
   "source": [
    "### 🔣 ¿Qué es *args?\n",
    "- ***args*** es un nombre convencional, pero lo importante es el `*` que va antes.\n",
    "- Sirve para recibir una cantidad variable de argumentos posicionales.\n"
   ]
  },
  {
   "cell_type": "code",
   "execution_count": 3,
   "id": "92275712",
   "metadata": {},
   "outputs": [
    {
     "name": "stdout",
     "output_type": "stream",
     "text": [
      "1\n",
      "2\n",
      "3\n",
      "hola\n"
     ]
    }
   ],
   "source": [
    "def ejemplo_args(*args):\n",
    "    for argumento in args:\n",
    "        print(argumento)\n",
    "\n",
    "ejemplo_args(1, 2, 3, \"hola\")  \n",
    "# Output: 1\\n 2\\n 3\\n hola"
   ]
  },
  {
   "cell_type": "markdown",
   "id": "784fb366",
   "metadata": {},
   "source": [
    "### 🔧 ¿Qué es **kwargs?\n",
    "- kwargs también es un nombre por convención; lo que importa es el **.\n",
    "- Se usa para recibir una cantidad variable de argumentos con nombre (keyword arguments).\n"
   ]
  },
  {
   "cell_type": "code",
   "execution_count": 4,
   "id": "f7725a00",
   "metadata": {},
   "outputs": [
    {
     "name": "stdout",
     "output_type": "stream",
     "text": [
      "nombre: German\n",
      "nivel: Pro\n",
      "lenguaje: Python\n"
     ]
    }
   ],
   "source": [
    "def ejemplo_kwargs(**kwargs):\n",
    "    for clave, valor in kwargs.items():\n",
    "        print(f\"{clave}: {valor}\")\n",
    "\n",
    "ejemplo_kwargs(nombre=\"German\", nivel=\"Pro\", lenguaje=\"Python\")\n",
    "# Output: nombre: German\\n nivel: Pro\\n lenguaje: Python"
   ]
  },
  {
   "cell_type": "markdown",
   "id": "7a1f7916",
   "metadata": {},
   "source": [
    "- Los argumentos se reciben como un diccionario.\n",
    "- Ideal para funciones con parámetros opcionales."
   ]
  },
  {
   "cell_type": "markdown",
   "id": "8f978d22",
   "metadata": {},
   "source": [
    "### 🧬 ¿Y si combinamos ambos?"
   ]
  },
  {
   "cell_type": "code",
   "execution_count": null,
   "id": "742da2f4",
   "metadata": {},
   "outputs": [],
   "source": [
    "def combinacion(*args, **kwargs):\n",
    "    print(\"Args:\", args)\n",
    "    print(\"Kwargs:\", kwargs)\n",
    "\n",
    "combinacion(1, 2, lenguaje=\"Python\", nivel=\"Avanzado\")\n",
    "# Output:\n",
    "# Args: (1, 2)\n",
    "# Kwargs: {'lenguaje': 'Python', 'nivel': 'Avanzado'}"
   ]
  },
  {
   "cell_type": "markdown",
   "id": "39ef02b2",
   "metadata": {},
   "source": [
    "📌 Aplicaciones típicas\n",
    "\n",
    "| Uso común | Ejemplo |\n",
    "| --- | --- |\n",
    "| Decoradores | Flexibilidad para envolver funciones con parámetros | \n",
    "| APIs | Funciones que aceptan entradas dinámicas | \n",
    "| Herencia | Llamadas a super() con muchos parámetros | \n",
    "| Configuraciones | Pasar opciones personalizadas | \n",
    "\n",
    "\n",
    "\n",
    "\n"
   ]
  },
  {
   "cell_type": "markdown",
   "id": "d4c74f26",
   "metadata": {},
   "source": [
    "# Decoradores Anidados\n",
    "\n",
    "## 🍰 ¿Cómo funciona?\n",
    "\n",
    "Los decoradores se aplican de abajo hacia arriba (el más cercano a la función se ejecuta primero).\n"
   ]
  },
  {
   "cell_type": "code",
   "execution_count": null,
   "id": "8d6fc32a",
   "metadata": {},
   "outputs": [],
   "source": [
    "@decorador_1\n",
    "@decorador_2\n",
    "def mi_funcion():\n",
    "    print(\"Ejecutando la función\")"
   ]
  },
  {
   "cell_type": "markdown",
   "id": "b5ae741a",
   "metadata": {},
   "source": [
    "Esto equivale a:"
   ]
  },
  {
   "cell_type": "code",
   "execution_count": null,
   "id": "1c729ec8",
   "metadata": {},
   "outputs": [],
   "source": [
    "mi_funcion = decorador_1(decorador_2(mi_funcion))"
   ]
  },
  {
   "cell_type": "markdown",
   "id": "148d1d9c",
   "metadata": {},
   "source": [
    "🧪 Ejemplo práctico"
   ]
  },
  {
   "cell_type": "code",
   "execution_count": null,
   "id": "0f77c48d",
   "metadata": {},
   "outputs": [],
   "source": [
    "def decorador_mayusculas(func):\n",
    "    def envoltura(*args, **kwargs):\n",
    "        resultado = func(*args, **kwargs)\n",
    "        return resultado.upper()\n",
    "    return envoltura\n",
    "\n",
    "def decorador_signos(func):\n",
    "    def envoltura(*args, **kwargs):\n",
    "        resultado = func(*args, **kwargs)\n",
    "        return f\"¡¡{resultado}!!\"\n",
    "    return envoltura\n",
    "\n",
    "@decorador_mayusculas\n",
    "@decorador_signos\n",
    "def saludar():\n",
    "    return \"hola german\"\n",
    "\n",
    "print(saludar())  # Output: ¡¡HOLA GERMAN!!"
   ]
  },
  {
   "cell_type": "markdown",
   "id": "f861ca3b",
   "metadata": {},
   "source": [
    "## 👀 Observa que:\n",
    "- decorador_signos se aplica primero.\n",
    "- Luego, decorador_mayusculas toma el resultado y lo pone en mayúsculas.\n",
    "\n",
    "## 🎯 ¿Cuándo usar decoradores anidados?\n",
    "- ✅ Combinación de funcionalidades como logging + autenticación + validación.\n",
    "- 🧱 Separación de responsabilidades en capas.\n",
    "- 🔁 Reutilización modular de lógica."
   ]
  },
  {
   "cell_type": "markdown",
   "id": "26dc9eeb",
   "metadata": {},
   "source": [
    "# 📦 DOCORADORES PARA POO (Programacion orientada a Objetos)"
   ]
  },
  {
   "cell_type": "code",
   "execution_count": null,
   "id": "f0a0b71f",
   "metadata": {},
   "outputs": [],
   "source": [
    "class Circulo:\n",
    "    def __init__(self, radio: float):\n",
    "        self._radio = radio\n",
    "    \n",
    "    @property\n",
    "    def area(self) -> float:\n",
    "        return 3.1416 * self._radio ** 2\n",
    "    \n",
    "    @property\n",
    "    def radio(self) -> float:\n",
    "        return self._radio\n",
    "\n",
    "    @radio.setter\n",
    "    def radio(self, valor: float):\n",
    "        if valor < 0:\n",
    "            raise ValueError(\"El radio no puede ser negativo\")\n",
    "        self._radio = valor\n",
    "        "
   ]
  }
 ],
 "metadata": {
  "kernelspec": {
   "display_name": "py3_10_18",
   "language": "python",
   "name": "python3"
  },
  "language_info": {
   "codemirror_mode": {
    "name": "ipython",
    "version": 3
   },
   "file_extension": ".py",
   "mimetype": "text/x-python",
   "name": "python",
   "nbconvert_exporter": "python",
   "pygments_lexer": "ipython3",
   "version": "3.11.5"
  }
 },
 "nbformat": 4,
 "nbformat_minor": 5
}

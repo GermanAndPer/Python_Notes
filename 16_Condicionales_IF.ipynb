{
 "cells": [
  {
   "cell_type": "markdown",
   "id": "71be9119",
   "metadata": {},
   "source": [
    "# ⚖️ IF\n",
    "\n",
    "___IF___ Es la condicion mas usada en el mundo.\n",
    "\n",
    "Se utiliza para tomar decisiones en el codigo. Basado en si una condicion se cumple o no.\n",
    "\n",
    "Se debe cuidar mucho la Identación para que funcione el código.\n",
    "\n",
    "Una vez que se cumpla la condicion, se va a ejecutara todo  el codigo entre la condicion ___IF___ y el ___ELIF___ o ___ELSE___\n",
    "\n",
    "En caso de no cumplirse, se ejecutará el código que se encuentra entre el ___ELIF___ y ___ELSE___\n",
    "\n",
    "Si tampoco se cumple esa condicion se ejecutará el código que se encuentra despues ___ELSE___\n",
    "\n",
    "Sin embargo no es necesario poner todas estas validaciones."
   ]
  },
  {
   "cell_type": "code",
   "execution_count": null,
   "id": "780dbc1d",
   "metadata": {},
   "outputs": [
    {
     "name": "stdout",
     "output_type": "stream",
     "text": [
      "Eres menor de edad\n",
      "Por favor, introduce un número válido.\n",
      "-1\n",
      "Eres menor de edad\n"
     ]
    }
   ],
   "source": [
    "#IF simple\n",
    "# Comprobación de edad para determinar si es mayor o menor de edad\n",
    "edad = 10\n",
    "if edad >= 18:\n",
    "    print(\"Eres mayor de edad\")\n",
    "\n",
    "#IF y ELSE simple\n",
    "# con una solución alternativa\n",
    "if edad > 18:\n",
    "    print(\"Eres un adulto\")\n",
    "else:\n",
    "    print(\"Eres menor de edad\")\n",
    "\n",
    "#IF ELIF y ELSE\n",
    "# con una solución alternativa más compleja\n",
    "if edad > 18:\n",
    "    print(\"Eres un adulto\")\n",
    "elif edad == 18:\n",
    "    print(\"Eres un recién adulto\")\n",
    "elif edad < 18:\n",
    "    print(\"Eres menor de edad\")\n",
    "else:\n",
    "    print(\"Edad no reconocida\")\n",
    "\n",
    "# AND\n",
    "if edad >= 18 and edad <= 65:\n",
    "    print(\"Eres un adulto en edad laboral\")\n",
    "# OR\n",
    "if edad < 18 or edad > 65:\n",
    "    print(\"Eres menor de edad o estás jubilado\")\n",
    "# NOT\n",
    "if not (edad < 18):\n",
    "    print(\"No eres menor de edad\")\n",
    "\n",
    "\n",
    "\n",
    "try:\n",
    "    edad = int(input(\"Introduce tu edad: \"))\n",
    "except ValueError:\n",
    "    print(\"Por favor, introduce un número válido.\")\n",
    "    edad = -1\n",
    "    print(edad)\n"
   ]
  }
 ],
 "metadata": {
  "kernelspec": {
   "display_name": "py3_10_18",
   "language": "python",
   "name": "python3"
  },
  "language_info": {
   "codemirror_mode": {
    "name": "ipython",
    "version": 3
   },
   "file_extension": ".py",
   "mimetype": "text/x-python",
   "name": "python",
   "nbconvert_exporter": "python",
   "pygments_lexer": "ipython3",
   "version": "3.11.5"
  }
 },
 "nbformat": 4,
 "nbformat_minor": 5
}

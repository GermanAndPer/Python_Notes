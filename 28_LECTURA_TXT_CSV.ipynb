{
 "cells": [
  {
   "cell_type": "markdown",
   "id": "189ee572",
   "metadata": {},
   "source": [
    "# 📄TXT y CSV\n",
    "\n",
    "Son los archivos mas comunes para acomodar información. Hay distintas maneras para leer un texto.\n",
    "Empezando con abrir el archivo."
   ]
  },
  {
   "cell_type": "code",
   "execution_count": null,
   "id": "7b24a011",
   "metadata": {},
   "outputs": [],
   "source": [
    "# WITH OPEN \n",
    "# Nos ayuda a que cada que leamos un archivo y teminemos de leerlo, se cierre automaticamente.\n",
    "# De no ser así, se deben cerrar manuallmente.\n",
    "\n",
    "# RUTA\n",
    "# Si el archivo está en la misma carpeta, con poner el nombre del archivo completo lo leerá.\n",
    "# Si el archivo está en otra carpeta, debemos especificar la ruta completa del archivo.\n",
    "\n",
    "# R\n",
    "# Es el modo en el que se abrirá el archivo.\n",
    "# r: Leer                   Si el archivo existe, se leerá.\n",
    "# w: Escribir               Si el archivo existe, se sobreescribirá.\n",
    "# a: Agregar                Si el archivo existe, se agregará.\n",
    "# x: Crear                  Si el archivo existe, no se puede crear.\n",
    "# b: Binario                Se lee el archivo como si fuera un binario.\n",
    "# t: Texto                  Se lee el archivo como si fuera texto.\n",
    "# +: Ambos                  Se puede leer y sobreescribir.\n",
    "# r+: Ambos                 Se puede leer y sobreescribir.\n",
    "# w+: Ambos                 Se puede leer y sobreescribir.\n",
    "# a+: Ambos                 Se puede leer y agregar datos.\n",
    "\n",
    "# AS DATOS\n",
    "# AS para indicar que vas a aguardar los datos en con una palabra clave.\n",
    "# DATOS es la palabra clave con la que se van a llamar los datos.\n",
    "\n",
    "# CICLO FOR\n",
    "# Se usa el ciclo FOR para leer cada una de las lineas del archivo.\n",
    "with open(\"Data.csv\",\"r\") as datos:\n",
    "    for linea in datos:\n",
    "        print(linea)"
   ]
  },
  {
   "cell_type": "code",
   "execution_count": null,
   "id": "a5f85929",
   "metadata": {},
   "outputs": [],
   "source": [
    "#CON RUTA COMPLETA\n",
    "with open(\"/home/germanandper/Python_Notes/Data.csv\",\"r\") as datos:\n",
    "    for linea in datos:\n",
    "        print(linea)"
   ]
  },
  {
   "cell_type": "code",
   "execution_count": null,
   "id": "d2a63c18",
   "metadata": {},
   "outputs": [],
   "source": [
    "# STRIP()\n",
    "# Esta funcion ayuda a quitar espacios\n",
    "# las impresiones anteriores dan salto de linea Adicional y los espacios en blanco de los strings\n",
    "with open(\"Data.csv\",\"r\") as datos:\n",
    "    for linea in datos:\n",
    "        print(linea.strip())"
   ]
  },
  {
   "cell_type": "code",
   "execution_count": null,
   "id": "8ae13782",
   "metadata": {},
   "outputs": [],
   "source": [
    "# A\n",
    "# EL modo de lectura A hace referencia a APPEND\n",
    "# WRITE,\n",
    "# por lo que usando el METODO WRITE a DATOS agregaria al final del archivo el tenxo que le indiquemos.\n",
    "\n",
    "with open(\"Data.csv\",\"a\") as datos:\n",
    "    datos.write(\"Hola, soy un nuevo dato\\n\")        # Hola, soy un nuevo dato"
   ]
  },
  {
   "cell_type": "code",
   "execution_count": null,
   "id": "96cf5a51",
   "metadata": {},
   "outputs": [],
   "source": [
    "# W\n",
    "# EL modo de lectura W hace referencia a WRITE (Escribir)\n",
    "# WRITE\n",
    "# Tambien se utiliza el metodo write igual que en el modo de lectura A\n",
    "# Sin embargo, CUIDADO CON SU USO. En este modo no se agregan al final. Se re escribe el archivo.\n",
    "with open(\"Data.csv\",\"w\") as datos:\n",
    "    datos.write(\"Hola, soy un nuevo dato\\n\")"
   ]
  },
  {
   "cell_type": "code",
   "execution_count": null,
   "id": "1b7e7e84",
   "metadata": {},
   "outputs": [],
   "source": [
    "# LEN\n",
    "# Para contar las filas de un archivo \n",
    "with open(\"Data.csv\",\"r\") as datos:\n",
    "    datos_a_lista = datos.readlines()\n",
    "\n",
    "print(len(datos_a_lista))"
   ]
  },
  {
   "cell_type": "code",
   "execution_count": null,
   "id": "d2e6c46d",
   "metadata": {},
   "outputs": [],
   "source": [
    "# OPEN() / CLOSE()\n",
    "# Si solo se usa open(), tendrías que cerrar el archivo manualmente con close().\n",
    "contenido = open(\"Data.csv\", \"r\")\n",
    "\n",
    "leerLineas = contenido.readlines()\n",
    "\n",
    "for lineas in leerLineas:\n",
    "    print(lineas.strip())\n",
    "\n",
    "contenido.close()"
   ]
  }
 ],
 "metadata": {
  "kernelspec": {
   "display_name": "py3_10_18",
   "language": "python",
   "name": "python3"
  },
  "language_info": {
   "codemirror_mode": {
    "name": "ipython",
    "version": 3
   },
   "file_extension": ".py",
   "mimetype": "text/x-python",
   "name": "python",
   "nbconvert_exporter": "python",
   "pygments_lexer": "ipython3",
   "version": "3.11.5"
  }
 },
 "nbformat": 4,
 "nbformat_minor": 5
}

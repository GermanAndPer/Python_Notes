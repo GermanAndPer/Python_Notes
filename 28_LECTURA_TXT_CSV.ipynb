{
 "cells": [
  {
   "cell_type": "markdown",
   "id": "189ee572",
   "metadata": {},
   "source": [
    "# 📄TXT y CSV\n",
    "\n",
    "Los archivos mas comunes"
   ]
  },
  {
   "cell_type": "markdown",
   "id": "dd3c0e9d",
   "metadata": {},
   "source": []
  }
 ],
 "metadata": {
  "kernelspec": {
   "display_name": "py3_10_18",
   "language": "python",
   "name": "python3"
  },
  "language_info": {
   "name": "python",
   "version": "3.11.5"
  }
 },
 "nbformat": 4,
 "nbformat_minor": 5
}

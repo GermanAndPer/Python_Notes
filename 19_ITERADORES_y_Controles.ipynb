{
 "cells": [
  {
   "cell_type": "markdown",
   "id": "e3ea451d",
   "metadata": {},
   "source": [
    "# 🔁ITERADORES\n",
    "\n",
    "Los iteradores nos ayudan a pasar por varias o todas las posiciones dentro de una seciencia.\n",
    "\n",
    "Esto puede ser un ___STRING___ una lista de numeros o incluso las posiciones de una ___LISTA___, ___TUPLE___, o ___DICCIONARIO___.\n"
   ]
  },
  {
   "cell_type": "markdown",
   "id": "3e053154",
   "metadata": {},
   "source": [
    "## 🔁FOR\n",
    "\n",
    "Uno de los mas conocidos es FOR:\n",
    "\n",
    "Para esto necesitamos guardar la posicion y el numero ascendente."
   ]
  },
  {
   "cell_type": "code",
   "execution_count": null,
   "id": "2e7e9582",
   "metadata": {},
   "outputs": [],
   "source": [
    "# DE UNA LISTA DE NÚMEROS\n",
    "numbers = [1, 2, 3, 4, 5, 6]\n",
    "# Iterar sobre la lista de números\n",
    "# FOR\n",
    "# I es el nombre de la variable que se va a usar para iterar. Aunque se puede usar cualquier nombre. El nombre I es una practica común.\n",
    "for i in numbers:\n",
    "    # Imprimir el valor de la variable I\n",
    "    print(\"i es igual a:\", i)  # Imprime el valor de i directamente\n",
    "\n",
    "# Una manera de leer la primera línea del código es:\n",
    "# \"Para cada elemento (i) en (in) la lista de números(number), imprime el valor de i\"\n",
    "\n",
    "#Tambien se pueden hacer operaciones con la variable i\n",
    "for i in numbers:\n",
    "    # Imprimir el valor de i multiplicado por 2\n",
    "    print(\"i multiplicado por 2 es igual a:\", i * 2)  # Imprime el valor de i multiplicado por 2"
   ]
  },
  {
   "cell_type": "markdown",
   "id": "c1d70b45",
   "metadata": {},
   "source": [
    "### 🔁FOR RANGE\n",
    "\n",
    "Si no tienes una lista de numeros pero quieres iterar cierto numero de veces, se puede utilizar la funcion ___RANGE___ "
   ]
  },
  {
   "cell_type": "code",
   "execution_count": null,
   "id": "14192d95",
   "metadata": {},
   "outputs": [],
   "source": [
    "#RANGE\n",
    "# La función RANGE genera una secuencia de números enteros desde 0 hasta el número especificado (exclusivo).\n",
    "# Por ejemplo, RANGE(5) generará la secuencia [0, 1, 2, 3, 4].\n",
    "for i in range(5):  # Itera desde 0 hasta 4 (5 no incluido)\n",
    "    print(\"i es igual a:\", i)  # Imprime el valor de i\n",
    "\n",
    "# También se puede especificar un inicio y un fin en RANGE\n",
    "for i in range(2, 10):  # Itera desde 2 hasta 9 (10 no incluido)\n",
    "    print(\"i es igual a:\", i)  # Imprime el valor de i\n",
    "\n",
    "# También se puede especificar un inicio, un fin y un paso en RANGE\n",
    "for i in range(2, 10, 2):  # Itera desde 2 hasta 8 (10 no incluido) con un paso de 2\n",
    "    print(\"i es igual a:\", i)  # Imprime el valor de i\n",
    "\n",
    "# También se puede usar RANGE con números negativos. esto es útil para iterar en orden descendente.\n",
    "# De ir del 10 al 1\n",
    "for i in range(10, 0, -1):  # Itera desde 10 hasta 1 (0 no incluido) con un paso de -1\n",
    "    print(\"i es igual a:\", i)  # Imprime el valor de i \n",
    "\n",
    "#LISTAS\n",
    "#Iterará sobrecada elemento de la lista y lo analizará. Guardando cada valor en la variable i.\n",
    "frutas = [\"manzana\", \"pera\", \"uva\", \"naranja\", \"tomate\"]\n",
    "for fruta in frutas:\n",
    "    if fruta == \"naranja\":\n",
    "        print(\"naranja encontrada\")\n",
    "    print(fruta)"
   ]
  },
  {
   "cell_type": "markdown",
   "id": "d2eb7a49",
   "metadata": {},
   "source": [
    "### 🔁 WHILE\n",
    "\n",
    "Es codigo que se seguirá  ejecutando ___MIENTRAS___ se cumpla una condición.\n",
    "\n",
    "Es importante agregar el codigo ingremental para poder dar fin al ___CICLO___."
   ]
  },
  {
   "cell_type": "code",
   "execution_count": 11,
   "id": "412e0b6d",
   "metadata": {},
   "outputs": [
    {
     "name": "stdout",
     "output_type": "stream",
     "text": [
      "Valor es: 5\n",
      "Valor es: 4\n",
      "Valor es: 3\n",
      "Valor es: 2\n",
      "Valor es: 1\n",
      "Vueltas: 0\n",
      "Vueltas: 1\n",
      "Vueltas: 2\n",
      "Vueltas: 3\n",
      "Vueltas: 4\n",
      "Número ingresado: 5\n",
      "Número ingresado: 5\n",
      "Número ingresado: -1\n",
      "Saliendo del ciclo.\n",
      "Saliendo del ciclo.\n"
     ]
    }
   ],
   "source": [
    "valor = 5\n",
    "# WHILE\n",
    "# El ciclo WHILE continuará ejecutándose mientras la condición sea verdadera.\n",
    "while valor > 0:\n",
    "    print(\"Valor es:\", valor)\n",
    "    valor -= 1  # Decrementa el valor en 1 en cada iteración\n",
    "    # FIN WHILE\n",
    "# El ciclo WHILE se detendrá cuando el valor sea 0 o menor.\n",
    "# FIN WHILE\n",
    "\n",
    "vueltas = 0\n",
    "# WHILE con condición\n",
    "while vueltas < 5:\n",
    "    print(\"Vueltas:\", vueltas)\n",
    "    vueltas += 1  # Incrementa el contador de vueltas en 1\n",
    "# El ciclo WHILE se detendrá cuando vueltas sea igual a 5.\n",
    "\n",
    "# WHILE IF BREAK\n",
    "# El ciclo WHILE continuará ejecutándose hasta que se encuentre un valor específico.\n",
    "while True:  # Ciclo infinito\n",
    "    numero = int(input(\"Ingrese un número (0 para salir): \"))\n",
    "    if numero == 0:\n",
    "        print(\"Saliendo del ciclo.\")\n",
    "        break  # Sale del ciclo si el número es 0\n",
    "    print(\"Número ingresado:\", numero)\n",
    "# El ciclo WHILE se detendrá cuando el usuario ingrese 0.\n",
    "\n",
    "# WHILE IF CONTINUE\n",
    "# El ciclo WHILE continuará ejecutándose, pero saltará a la siguiente iteración si se encuentra un valor específico.\n",
    "while True:  # Ciclo infinito\n",
    "    numero = int(input(\"Ingrese un número (0 para salir): \"))\n",
    "    if numero == 0:\n",
    "        print(\"Saliendo del ciclo.\")\n",
    "        break  # Sale del ciclo si el número es 0\n",
    "    if numero < 0:\n",
    "        print(\"Número negativo, saltando a la siguiente iteración.\")\n",
    "        continue  # Salta a la siguiente iteración si el número es negativo\n",
    "    print(\"Número ingresado:\", numero)\n",
    "# El ciclo WHILE se detendrá cuando el usuario ingrese 0,\n",
    "# y saltará a la siguiente iteración si el número es negativo."
   ]
  },
  {
   "cell_type": "code",
   "execution_count": null,
   "id": "7748a3c9",
   "metadata": {},
   "outputs": [],
   "source": [
    "print('''Vamos a probar la funcion FIZZ BUZZ\n",
    "Vamos a revisar los numero del 1 al numero de indiques.\n",
    "Si el numero es par se imprimirá FIZZ\n",
    "Si el numero es inpar se escribirá BUZZ\n",
    "''')\n",
    "valor_a_evaluar = int(input(\"Dame el numero hasta el que quieres que revisemos: \"))\n",
    "\n",
    "print(\"Elegiste el numero: \", valor_a_evaluar)\n",
    "\n",
    "for i in range(valor_a_evaluar):\n",
    "\tif (i % 2) == 0:\n",
    "\t\tprint(i , \"FIZZ\")\n",
    "\telse:\n",
    "\t\tprint(i , \"BUZZ\")"
   ]
  },
  {
   "cell_type": "markdown",
   "id": "f803ce00",
   "metadata": {},
   "source": []
  }
 ],
 "metadata": {
  "kernelspec": {
   "display_name": "py3_10_18",
   "language": "python",
   "name": "python3"
  },
  "language_info": {
   "codemirror_mode": {
    "name": "ipython",
    "version": 3
   },
   "file_extension": ".py",
   "mimetype": "text/x-python",
   "name": "python",
   "nbconvert_exporter": "python",
   "pygments_lexer": "ipython3",
   "version": "3.11.5"
  }
 },
 "nbformat": 4,
 "nbformat_minor": 5
}

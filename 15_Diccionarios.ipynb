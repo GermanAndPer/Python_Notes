{
 "cells": [
  {
   "cell_type": "markdown",
   "id": "c5063f2c",
   "metadata": {},
   "source": [
    "# 📚Diccionarios\n",
    "\n",
    "Los diccionarios en python, al igual que un diccionario normal, funciona con ___CLAVES___ y ___VALORES___\n",
    "\n",
    "Y para generarlas usamos las llaves.\n",
    "\n",
    "___{___ ___}___\n",
    "\n",
    "Pero para acceder a cada uno de los valores usamos ___CORCHETES___\n",
    "\n",
    "___[___ ___]___\n"
   ]
  },
  {
   "cell_type": "code",
   "execution_count": 4,
   "id": "b458743f",
   "metadata": {},
   "outputs": [
    {
     "name": "stdout",
     "output_type": "stream",
     "text": [
      "{'uno': 1, 'dos': 2, 'tres': 3, 'cuatro': 4, 'cinco': 5, 'seis': 6}\n",
      "1\n"
     ]
    }
   ],
   "source": [
    "#Diccionarios\n",
    "\n",
    "# Diccionario con claves y valores \n",
    "numero = {\n",
    "    \"uno\": 1,   #uno es la clave y 1 es el valor\n",
    "    \"dos\": 2,\n",
    "    \"tres\": 3,\n",
    "    \"cuatro\": 4,\n",
    "    \"cinco\": 5,\n",
    "    \"seis\": 6,\n",
    "    }\n",
    "print(numero)  #imprime el diccionario completo\n",
    "print(numero[\"uno\"])  #imprime el valor de la clave \"uno\""
   ]
  },
  {
   "cell_type": "markdown",
   "id": "d88d45ac",
   "metadata": {},
   "source": [
    "## 🗝️Dic - CLAVES\n",
    "\n",
    "Para que nos devuelva unicamente las claves utilimos unicamente el metodo KEY"
   ]
  },
  {
   "cell_type": "code",
   "execution_count": null,
   "id": "287c287a",
   "metadata": {},
   "outputs": [
    {
     "name": "stdout",
     "output_type": "stream",
     "text": [
      "dict_keys(['uno', 'dos', 'tres', 'cuatro', 'cinco', 'seis'])\n",
      "<class 'dict'>\n",
      "dict_values([1, 2, 3, 4, 5, 6])\n",
      "dict_items([('uno', 1), ('dos', 2), ('tres', 3), ('cuatro', 4), ('cinco', 5), ('seis', 6)])\n",
      "{'uno': 1, 'dos': 2, 'tres': 3, 'cuatro': 4, 'cinco': 5, 'seis': 6, 'siete': 7}\n",
      "{'uno': 1, 'dos': 2, 'tres': 3, 'cuatro': 4, 'cinco': 5, 'seis': 6}\n",
      "{'uno': 1, 'dos': 2, 'tres': 3, 'cuatro': 4, 'cinco': 5, 'seis': 6}\n",
      "6\n",
      "True\n",
      "False\n",
      "{}\n"
     ]
    }
   ],
   "source": [
    "#KEYS\n",
    "#Para que nos devuelva unicamente las claves utilizamos el metodo keys()\n",
    "print(numero.keys())  #imprime las claves del diccionario\n",
    "#TYPES\n",
    "#Para saber el tipo de dato del diccionario utilizamos la funcion type()\n",
    "print(type(numero))  #imprime el tipo de dato del diccionario, en este caso <class 'dict'>  \n",
    "#VALUES\n",
    "#Para que nos devuelva unicamente los valores utilizamos el metodo values()\n",
    "print(numero.values())  #imprime los valores del diccionario\n",
    "#ITEMS\n",
    "#Para que nos devuelva unicamente las claves y valores utilizamos el metodo items()\n",
    "# Los devuelve como una lista de tuplas\n",
    "print(numero.items())  #imprime las claves y valores del diccionario\n",
    "#AGREGAR\n",
    "#Para agregar un nuevo elemento al diccionario utilizamos la clave y el valor\n",
    "numero[\"siete\"] = 7  #agrega la clave \"siete\" con el valor 7\n",
    "print(numero)  #imprime el diccionario completo con el nuevo elemento\n",
    "#ELIMINAR\n",
    "#Para eliminar un elemento del diccionario utilizamos la clave\n",
    "del numero[\"siete\"]  #elimina la clave \"siete\" del diccionario\n",
    "print(numero)  #imprime el diccionario completo sin el elemento eliminado\n",
    "#ACTUALIZAR\n",
    "#Para actualizar un elemento del diccionario utilizamos la clave y el nuevo valor\n",
    "numero[\"cuatro\"] = 4  #actualiza la clave \"cuatro\" con el\n",
    "print(numero)  #imprime el diccionario completo con el elemento actualizado\n",
    "#LONGITUD\n",
    "#Para saber la cantidad de elementos del diccionario utilizamos la funcion len()\n",
    "print(len(numero))  #imprime la cantidad de elementos del diccionario\n",
    "#VERIFICAR\n",
    "#Para verificar si una clave existe en el diccionario utilizamos la palabra reservada in\n",
    "print(\"uno\" in numero)  #imprime True si la clave \"uno\" existe\n",
    "print(\"diez\" in numero)  #imprime False si la clave \"diez\" no existe\n",
    "#LIMPIAR\n",
    "#Para limpiar el diccionario utilizamos el metodo clear()\n",
    "numero.clear()  #limpia el diccionario\n",
    "print(numero)  #imprime el diccionario completo sin elementos   \n",
    "#COPIAR\n",
    "#Para copiar un diccionario utilizamos el metodo copy()\n",
    "numero_copia = numero.copy()  #copia el diccionario\n",
    "print(numero_copia)  #imprime el diccionario copiado\n",
    "#ORDENAR\n",
    "#Para ordenar el diccionario utilizamos el metodo sorted()\n",
    "print(dict(sorted(numero.items())))  #imprime el diccionario ordenado"
   ]
  },
  {
   "cell_type": "markdown",
   "id": "295aebb8",
   "metadata": {},
   "source": [
    "## 📚DICCIONARIO DE DICCIONARIOS\n",
    "\n",
    "Diccionario de diccionarios que contiene la información de cada persona"
   ]
  },
  {
   "cell_type": "code",
   "execution_count": 8,
   "id": "a359e8e6",
   "metadata": {},
   "outputs": [
    {
     "name": "stdout",
     "output_type": "stream",
     "text": [
      "{'Juan': {'edad': 25, 'altura': 1.75, 'peso': '80 KG'}, 'Pedro': {'edad': 30, 'altura': 1.8, 'peso': '60 KG'}}\n",
      "{'edad': 25, 'altura': 1.75, 'peso': '80 KG'}\n",
      "25\n",
      "1.8\n"
     ]
    }
   ],
   "source": [
    "personas = {\n",
    "    \"Juan\": { \"edad\": 25, \"altura\": 1.75, \"peso\": \"80 KG\" },\n",
    "    \"Pedro\": { \"edad\": 30, \"altura\": 1.80, \"peso\": \"60 KG\" }\n",
    "            }\n",
    "print(personas)  #imprime el diccionario de diccionarios\n",
    "# Acceder a la información de Juan\n",
    "print(personas[\"Juan\"])  #imprime la información de Juan\n",
    "# Acceder a la edad de Juan\n",
    "print(personas[\"Juan\"][\"edad\"])  #imprime la edad de Juan\n",
    "# Acceder a la altura de Pedro\n",
    "print(personas[\"Pedro\"][\"altura\"])  #imprime la altura de Pedro"
   ]
  },
  {
   "cell_type": "markdown",
   "id": "5729c402",
   "metadata": {},
   "source": []
  }
 ],
 "metadata": {
  "kernelspec": {
   "display_name": "py3_10_18",
   "language": "python",
   "name": "python3"
  },
  "language_info": {
   "codemirror_mode": {
    "name": "ipython",
    "version": 3
   },
   "file_extension": ".py",
   "mimetype": "text/x-python",
   "name": "python",
   "nbconvert_exporter": "python",
   "pygments_lexer": "ipython3",
   "version": "3.11.5"
  }
 },
 "nbformat": 4,
 "nbformat_minor": 5
}

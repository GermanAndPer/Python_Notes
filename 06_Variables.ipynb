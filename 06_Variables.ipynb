{
 "cells": [
  {
   "cell_type": "markdown",
   "id": "2fb85302",
   "metadata": {},
   "source": [
    "# 🔁 Variables\n",
    "\n",
    "\n",
    "Las variables se pueden utilizar en las reglas de la siguiente manera:\n",
    "- `{{ variable }}` para mostrar el valor de la variable.\n",
    "- `{{ variable | funcion }}` para aplicar una función a la variable.\n",
    "- `{{ variable | funcion: argumento }}` para aplicar una función con un argumento\n",
    "- `{{ variable | funcion: argumento1, argumento2 }}` para aplicar una\n",
    "- `{{ variable | funcion: argumento1, argumento2, argumento3 }}\n",
    "\n",
    "Las variables en las reglas de inferencia se pueden definir de varias maneras. A continu\n",
    "a se presentan algunas de las formas más comunes:\n",
    "- ` Variables de tipo booleano ` : estas variables pueden tomar valores de `True` o `False`. Por ejemplo, `x` puede ser una variable de tipo booleano que representa la condición de que un número es par.\n",
    "- ` Variables de tipo entero ` : estas variables pueden tomar valores enteros, como 1, 2, 3, etc. Por ejemplo, `x` puede ser una variable de tipo entero que representa la cantidad de elementos en una lista.\n",
    "- ` Variables de tipo flotante ` : estas variables pueden tomar valores flotantes, como 1.5, 2.75, etc. Por ejemplo, `x` puede ser una variable de tipo flotante que representa la temperatura en grados Celsius.\n",
    "- ` Variables de tipo cadena ` : estas variables pueden tomar valores de cadena, como \"Hola\", \"Mundo\", etc. Por ejemplo, `x` puede ser una variable d e tipo cadena que representa el nombre de una persona.\n",
    "- ` Variables de tipo lista ` : estas variables pueden tomar valores de lista, como `[1, 2, 3]`, `[4, 5, 6]`, etc. Por ejemplo , `x` puede ser una variable de tipo lista que representa una lista de números.\n",
    "- ` Variables de tipo diccionario ` : estas variables pueden tomar valores de diccionario , como `{'nombre': 'Juan', 'edad': 30}`, `{'nombre': ' Maria', 'edad': 25}`, etc. Por ejemplo, `x` puede ser una variabl e de tipo diccionario que representa un diccionario de datos personales.\n",
    "- ` Variables de tipo conjunto ` : estas variables pueden tomar valores de conjunto, como {1, 2, 3}, {4, 5, 6}, etc.\n",
    "- ` Variables de tipo tupla ` : estas variables pueden tomar valores de tupla, como (1, 2, 3), (4, 5, 6), etc.\n",
    "- ` Variables de tipo objeto ` : estas variables pueden tomar valores de objeto, como un objeto de la clase `Persona` que tiene atributos como `nombre`, `edad`, etc.\n",
    "- ` Variables de tipo función ` : estas variables pueden tomar valores de función, como una función que calcula el área de un círculo.\n",
    "- ` Variables de tipo clase ` : estas variables pueden tomar valores de clase, como una clase que representa un vehículo.\n",
    "- ` Variables de tipo módulo ` : estas variables pueden tomar valores de módulo, como un módulo que contiene funciones para calcular el área de un círculo.\n",
    "- ` Variables de tipo archivo ` : estas variables pueden tomar valores de archivo, comoun archivo de texto que contiene datos.\n",
    "- ` Variables de tipo directorio ` : estas variables pueden tomar valores de directorio , como un directorio que contiene archivos y subdirectorios.\n",
    "- ` Variables de tipo proceso ` : estas variables pueden tomar valores de proceso, como un proceso que ejecuta un programa.\n",
    "- ` Variables de tipo hilos ` : estas variables pueden tomar valores de hilos, como hilos que ejecutan una tarea en paralelo.\n",
    "- ` Variables de tipo socket ` : estas variables pueden tomar valores de socket, como un socket que se utiliza para comunicación entre procesos.\n",
    "- ` Variables de tipo puerto ` : estas variables pueden tomar valores de puerto, como un puerto que se utiliza para comunicación entre procesos.\n",
    "- ` Variables de tipo IP ` : estas variables pueden tomar valores de IP, como una dirección IP que se utiliza para comunicación entre procesos.\n",
    "- ` Variables de tipo MAC ` : estas variables pueden tomar valores de MAC, como una dirección MAC que se utiliza para comunicación entre procesos.\n",
    "- ` Variables de tipo UUID ` : estas variables pueden tomar valores de UUID, como un UUID que se utiliza para identificar un objeto.\n",
    "- ` Variables de tipo fecha ` : estas variables pueden tomar valores de fecha, como una fecha que se utiliza para representar un momento en el tiempo.\n",
    "- ` Variables de tipo hora ` : estas variables pueden tomar valores de hora, como una hora que se utiliza para representar un momento en el tiempo.\n",
    "- ` Variables de tipo tiempo ` : estas variables pueden tomar valores de tiempo, como un tiempo que se utiliza para representar un momento en el tiempo.\n",
    "- ` Variables de tipo duración ` : estas variables pueden tomar valores de duración, como una duración que se utiliza para representar un período de tiempo.\n",
    "- ` Variables de tipo frecuencia ` : estas variables pueden tomar valores de frecuencia, como una frecuencia que se utiliza para representar la cantidad de veces que algo ocurre en un período de tiempo.\n",
    "- ` Variables de tipo velocidad ` : estas variables pueden tomar valores de velocidad, como una velocidad que se utiliza para representar la cantidad de unidades que se mueven en un período\n",
    "de tiempo.\n",
    "- ` Variables de tipo aceleración ` : estas variables pueden tomar valores de aceleración, como una aceleración que se utiliza para representar la cantidad de unidades que se mueven en un período de tiempo.\n",
    "- ` Variables de tipo angular ` : estas variables pueden tomar valores de angular, como una angular que se utiliza para representar la cantidad de unidades que se mueven en un período de tiempo."
   ]
  },
  {
   "cell_type": "markdown",
   "id": "a42ca5d6",
   "metadata": {},
   "source": []
  }
 ],
 "metadata": {
  "language_info": {
   "name": "python"
  }
 },
 "nbformat": 4,
 "nbformat_minor": 5
}

{
 "cells": [
  {
   "cell_type": "markdown",
   "id": "2fb85302",
   "metadata": {},
   "source": [
    "# 🔁 Variables\n",
    "\n",
    "\n",
    "Las variables se pueden utilizar en las reglas de la siguiente manera:\n",
    "- `{{ variable }}` para mostrar el valor de la variable.\n",
    "- `{{ variable | funcion }}` para aplicar una función a la variable.\n",
    "- `{{ variable | funcion: argumento }}` para aplicar una función con un argumento\n",
    "- `{{ variable | funcion: argumento1, argumento2 }}` para aplicar una función con varios argumentos.\n",
    "- `{{ variable | funcion: argumento1, argumento2, argumento3 }}`"
   ]
  },
  {
   "cell_type": "markdown",
   "id": "a42ca5d6",
   "metadata": {},
   "source": []
  }
 ],
 "metadata": {
  "language_info": {
   "name": "python"
  }
 },
 "nbformat": 4,
 "nbformat_minor": 5
}

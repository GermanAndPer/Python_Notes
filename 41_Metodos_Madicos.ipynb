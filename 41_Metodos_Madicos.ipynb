{
 "cells": [
  {
   "cell_type": "markdown",
   "id": "f7822d49",
   "metadata": {},
   "source": [
    "# 🧙‍♂️Metodos Magicos\n",
    "\n",
    "Los **métodos mágicos** (o dunder methods, por “**D**ouble **UNDER**score”) son funciones especiales en Python que te permiten personalizar el comportamiento de tus clases de forma muy poderosa. \n",
    "Son los que hacen que tus objetos puedan comportarse como tipos nativos de Python."
   ]
  },
  {
   "cell_type": "markdown",
   "id": "ccb1653a",
   "metadata": {},
   "source": [
    "## ✨ ¿Qué son?\n",
    "\n",
    "Son métodos con nombres como ***__init__, __str__, __len__, __add__***, etc.\n",
    "\n",
    "Python los usa automáticamente cuando tu clase se encuentra con ciertas operaciones.\n",
    "\n",
    "Ejemplo: cuando haces len(objeto), Python busca si existe objeto. ***__len__()***.\n",
    "\n",
    "## 🧪 Ejemplo básico:"
   ]
  },
  {
   "cell_type": "code",
   "execution_count": null,
   "id": "2f1d7504",
   "metadata": {},
   "outputs": [],
   "source": [
    "class Libro:\n",
    "    def __init__(self, titulo: str):\n",
    "        self.titulo = titulo\n",
    "\n",
    "    def __str__(self):\n",
    "        return f\"📘 {self.titulo}\"\n",
    "\n",
    "libro = Libro(\"Python Pro\")\n",
    "print(libro)  # 📘 Python Pro"
   ]
  },
  {
   "cell_type": "markdown",
   "id": "7dea1242",
   "metadata": {},
   "source": [
    "Aquí, ***__init__*** crea el objeto y ***__str__*** define qué se imprime."
   ]
  },
  {
   "cell_type": "markdown",
   "id": "8575782f",
   "metadata": {},
   "source": [
    "## 🧙‍♂️ Principales métodos mágicos\n",
    "\n",
    "| Método | ¿Cuándo se llama? | Propósito | \n",
    "| --- | --- | --- |\n",
    "| __init__ | Al crear un objeto | Inicializa atributos | \n",
    "| __str__ | Con print(obj) | Muestra representación bonita | \n",
    "| __repr__ | En la consola o con repr(obj) | Representación formal | \n",
    "| __len__ | Con len(obj) | Devuelve longitud | \n",
    "| __add__ | Con obj1 + obj2 | Suma personalizada | \n",
    "| __eq__ | Con obj1 == obj2 | Compara objetos | \n",
    "| __getitem__ | Con obj[index] | Acceso tipo lista/diccionario | \n",
    "| __call__ | Con obj() | Hace que el objeto se “ejecute” como una función | \n"
   ]
  },
  {
   "cell_type": "markdown",
   "id": "29e07545",
   "metadata": {},
   "source": [
    "## 💡 Ejemplo con operadores"
   ]
  },
  {
   "cell_type": "code",
   "execution_count": 1,
   "id": "0bdd2ca2",
   "metadata": {},
   "outputs": [
    {
     "name": "stdout",
     "output_type": "stream",
     "text": [
      "(6, 4)\n"
     ]
    }
   ],
   "source": [
    "class Punto:\n",
    "    def __init__(self, x: int, y: int):\n",
    "        self.x = x\n",
    "        self.y = y\n",
    "\n",
    "    def __add__(self, otro):\n",
    "        return Punto(self.x + otro.x, self.y + otro.y)\n",
    "\n",
    "    def __str__(self):\n",
    "        return f\"({self.x}, {self.y})\"\n",
    "\n",
    "p1 = Punto(2, 3)\n",
    "p2 = Punto(4, 1)\n",
    "print(p1 + p2)  # (6, 4)"
   ]
  },
  {
   "cell_type": "markdown",
   "id": "cbcf2888",
   "metadata": {},
   "source": [
    "Con ***__add__***, personalizas cómo se comporta el operador +."
   ]
  },
  {
   "cell_type": "markdown",
   "id": "d6ac0d3e",
   "metadata": {},
   "source": [
    "## 🎯 ¿Por qué usarlos?\n",
    "- 🛠️ Para que tus clases se sientan naturales y expresivas.\n",
    "- 🤖 Ideal en programación orientada a objetos, data classes, frameworks.\n",
    "- 📚 Mejora legibilidad, integración y depuración."
   ]
  },
  {
   "cell_type": "markdown",
   "id": "9db84cb0",
   "metadata": {},
   "source": []
  }
 ],
 "metadata": {
  "kernelspec": {
   "display_name": "py3_10_18",
   "language": "python",
   "name": "python3"
  },
  "language_info": {
   "codemirror_mode": {
    "name": "ipython",
    "version": 3
   },
   "file_extension": ".py",
   "mimetype": "text/x-python",
   "name": "python",
   "nbconvert_exporter": "python",
   "pygments_lexer": "ipython3",
   "version": "3.11.5"
  }
 },
 "nbformat": 4,
 "nbformat_minor": 5
}

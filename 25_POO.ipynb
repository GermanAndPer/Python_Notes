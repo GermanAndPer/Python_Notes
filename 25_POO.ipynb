{
 "cells": [
  {
   "cell_type": "markdown",
   "id": "1e2d1c53",
   "metadata": {},
   "source": [
    "# 📦POO - Programacion Orientada a Objetos\n",
    "\n",
    "Uno de los paradigmas mas utilizados en todo el mundo de la programación.\n",
    "Se utilizan conceptos como:\n",
    "- `Clases`: Son plantillas o molde para crear objetos.\n",
    "- `Objetos`: Son instancias de una clase.\n",
    "- `Atributos`: Son las caracteristicas de un objeto.\n",
    "- `Metodos`: Son las acciones que puede realizar un objeto.\n",
    "- `Herencia`: Es la capacidad de crear una clase a partir de otra clase.\n",
    "- `Polimorfismo`: Es la capacidad de un objeto de ser tratado como otro objeto\n",
    "- `Encapsulamiento`: Es la capacidad de ocultar la implementación de un objeto\n",
    "- `Abstraccion`: Es la capacidad de mostrar solo la informacion necesaria\n",
    "- `Composicion`: Es la capacidad de crear un objeto a partir de otros objetos\n",
    "- `Sobrecarga de metodos`: Es la capacidad de tener varios metodos con el mismo nombre pero con diferentes parametros\n",
    "- `Sobrescritura de metodos`: Es la capacidad de tener varios metodos con el mismo nombre pero con diferentes implementaciones\n",
    "- `Sobrecarga de constructores`: Es la capacidad de tener varios constructores con diferentes parametros\n",
    "- `Sobrescritura de constructores`: Es la capacidad de tener varios constructores con diferentes implementaciones\n",
    "- `Clases abstractas`: Son clases que no pueden ser instanciadas\n",
    "- `Metodos abstractos`: Son metodos que no tienen implementacion\n",
    "- `Clases concretas`: Son clases que pueden ser instanciadas\n",
    "- `Clases genericas`: Son clases que pueden ser instanciadas con diferentes tipos datos\n",
    "- `Clases estaticas`: Son clases que no tienen estado\n",
    "- `Clases dinamicas`: Son clases que tienen estado\n",
    "- `Clases internas`: Son clases que se definen dentro de otra clase\n",
    "- `Clases anidadas`: Son clases que se definen dentro de otra clase\n",
    "- `Clases anuladas`: Son clases que se definen dentro de otra clase\n",
    "\n",
    "Para generar una en Pyhton se tienen varias palabras reservadas:\n",
    "\n",
    "- `class`: Para declarar una clase\n",
    "- `self`: Para referirse a la instancia de la clase\n",
    "- `__init__`: Para declarar el constructor de la clase\n",
    "- `__str__`: Para declarar el metodo que devuelve la representacion de la clase\n",
    "- `__repr__`: Para declarar el metodo que devuelve la representacion de la clase\n",
    "- `__eq__`: Para declarar el metodo que devuelve si dos objetos son iguales\n",
    "- `__lt__`: Para declarar el metodo que devuelve si un objeto es menor que otro\n",
    "- `__gt__`: Para declarar el metodo que devuelve si un objeto es mayor que otro\n"
   ]
  },
  {
   "cell_type": "markdown",
   "id": "8a7066fb",
   "metadata": {},
   "source": []
  },
  {
   "cell_type": "code",
   "execution_count": null,
   "id": "16aeb51f",
   "metadata": {},
   "outputs": [
    {
     "name": "stdout",
     "output_type": "stream",
     "text": [
      "La persona 1 es: German tiene 30  años y es de Mexico\n",
      "La persona 2 es: Perla tiene 28  años y es de Argentina\n",
      "La persona 3 es: Luis tiene 35  años y es de Brasil\n",
      "Hola, mi nombre es German, tengo 30 años y soy de Mexico.\n"
     ]
    }
   ],
   "source": [
    "#CLASS\n",
    "# CLASS es el molde para crear objetos.\n",
    "# persona es el nombre de la clase.\n",
    "class persona:\n",
    "    # Atributos de la clase persona.\n",
    "    # Estos son las características que tendrá el objeto.\n",
    "    # En este caso, nombre, edad y pais.\n",
    "    # DEF __INIT__\n",
    "    # Es el CONTRUCTOR DE LA CLASE. Se ejecuta cuando se crea un objeto.\n",
    "    # Se utiliza para inicializar los ATRUBUTOS de la clase.\n",
    "    # SELF \n",
    "    # Es una referencia al objeto mismo.\n",
    "    # Se utiliza para acceder a los atributos y métodos de la clase.\n",
    "    def __init__(self, nombre, edad, pais):\n",
    "        # ATRIBUTOS\n",
    "        # NOMBRE = NOMBRE \n",
    "        # Hace referencia al parámetro que se le va a DAR al momento de crear objetos\n",
    "        # como si fuera una FUNCION\n",
    "        self.nombre = nombre\n",
    "        self.edad = edad\n",
    "        self.pais = pais\n",
    "\n",
    "\n",
    "    # METODO\n",
    "    # Un método es una función que pertenece a una clase.\n",
    "    # Como parametro se utiliza SELF para hacer referencia al objeto mismo.\n",
    "    def saludar(self):\n",
    "        print(f\"Hola, mi nombre es {self.nombre}, tengo {self.edad} años y soy de {self.pais}.\")\n",
    "\n",
    "\n",
    "\n",
    "#OBJETOS\n",
    "# Objeto es una instancia de una clase.\n",
    "persona1 = persona(\"German\", 30, \"Mexico\")\n",
    "persona2 = persona(\"Perla\", 28, \"Argentina\")\n",
    "persona3 = persona(\"Luis\", 35, \"Brasil\")\n",
    "\n",
    "print(\"La persona 1 es:\", persona1.nombre,\"tiene\", persona1.edad,\" años y es de\", persona1.pais)\n",
    "print(\"La persona 2 es:\", persona2.nombre,\"tiene\", persona2.edad,\" años y es de\", persona2.pais)\n",
    "print(\"La persona 3 es:\", persona3.nombre,\"tiene\", persona3.edad,\" años y es de\", persona3.pais)\n",
    "\n",
    "# Los objetos pueden tener sus propios atributos y métodos.\n",
    "persona1.saludar()\n",
    "# Y pueden tener atributos y métodos diferentes. Que no necessariamente tienen que darse como parametros.\n",
    "# Y los atributos y métodos pueden tener valores que pueden interactuar entre ellos."
   ]
  },
  {
   "cell_type": "code",
   "execution_count": null,
   "id": "1d5b8e03",
   "metadata": {},
   "outputs": [],
   "source": [
    "# Esta es otra manera de crear un objeto de la clase persona.\n",
    "# Para que desde el mismo momento de crear el objeto, se le pueda asignar un nombre, edad y país.\n",
    "class persona:\n",
    "    def __init__(self):\n",
    "        self.nombre = \"German\"\n",
    "        self.edad = 30\n",
    "        self.pais = \"Argentina\"\n"
   ]
  }
 ],
 "metadata": {
  "kernelspec": {
   "display_name": "py3_10_18",
   "language": "python",
   "name": "python3"
  },
  "language_info": {
   "codemirror_mode": {
    "name": "ipython",
    "version": 3
   },
   "file_extension": ".py",
   "mimetype": "text/x-python",
   "name": "python",
   "nbconvert_exporter": "python",
   "pygments_lexer": "ipython3",
   "version": "3.11.5"
  }
 },
 "nbformat": 4,
 "nbformat_minor": 5
}

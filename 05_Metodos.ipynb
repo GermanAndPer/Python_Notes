{
 "cells": [
  {
   "cell_type": "markdown",
   "id": "91214dae",
   "metadata": {},
   "source": [
    "# 💻Metodos\n",
    "\n",
    "Los metodos en python son funciones caracteristicas de cada tipo de dato.\n",
    "\n",
    "Para llamarlas despues de cada vartiable se utiliza el . seguido del metodo s utilizar."
   ]
  },
  {
   "cell_type": "code",
   "execution_count": 2,
   "id": "2ad60b0f",
   "metadata": {},
   "outputs": [
    {
     "name": "stdout",
     "output_type": "stream",
     "text": [
      "Esto es un String\n",
      "esto es un string\n",
      "17\n"
     ]
    }
   ],
   "source": [
    "primer_string = \"Esto es un String\"\n",
    "print(primer_string)\n",
    "print(primer_string.lower())\n",
    "print(primer_string.__len__())"
   ]
  },
  {
   "cell_type": "markdown",
   "id": "3730c21a",
   "metadata": {},
   "source": [
    "## Strings\n",
    "\n",
    "Los metodos de los strings son:\n",
    "\n",
    "- `upper()`: convierte una cadena a mayúsculas.\n",
    "- `lower()`: convierte una cadena a minúsculas.\n",
    "- `strip()`: elimina espacios en blanco de una cadena.\n",
    "- `len()`: devuelve el número de elementos en una lista o cadena.\n",
    "- `max()`: devuelve el elemento más grande en una lista o cadena.\n",
    "- `min()`: devuelve el elemento más pequeño en una lista o cadena.\n",
    "- `sum()`: devuelve la suma de todos los elementos en una lista.\n",
    "- `sorted()`: devuelve una lista ordenada de los elementos en una lista.\n",
    "- `reverse()`: invierte el orden de los elementos en una lista.\n",
    "- `append()`: agrega un elemento al final de una lista.\n",
    "- `insert()`: agrega un elemento en una posición específica de una lista.\n",
    "- `remove()`: elimina el primer elemento que coincida con el valor especificado en una lista.\n",
    "- `pop()`: elimina el elemento en la posición especificada en una lista.\n",
    "- `index()`: devuelve la posición del primer elemento que coincida con el valor especificado en una lista.\n",
    "- `count()`: devuelve el número de veces que un elemento aparece en una lista.\n",
    "- `extend()`: agrega múltiples elementos a la lista.\n",
    "- `copy()`: crea una copia de una lista.\n",
    "- `clear()`: elimina todos los elementos de una lista.\n",
    "- `sort()`: ordena los elementos en una lista.\n",
    "- `reverse()`: invierte el orden de los elementos en una lista.\n",
    "- `join()`: une elementos en una cadena.\n",
    "- `split()`: divide una cadena en elementos.\n",
    "- `replace()`: reemplaza un elemento en una cadena.\n",
    "- `find()`: devuelve la posición del primer carácter que coincida con el valor especific ado en una cadena.\n",
    "- `count()`: devuelve el número de veces que un carácter aparece en una cadena\n",
    "- `isalpha()`: devuelve True si todos los caracteres en una cadena son letras.\n",
    "- `isalnum()`: devuelve True si todos los caracteres en una cadena son letras o dígitos.\n",
    "- `isdigit()`: devuelve True si todos los caracteres en una cadena son dígitos.\n",
    "- `islower()`: devuelve True si todos los caracteres en una cadena son minúsculas\n",
    "- `isupper()`: devuelve True si todos los caracteres en una cadena son mayúsculas\n",
    "- `isspace()`: devuelve True si todos los caracteres en una cadena son espacios en blanco.\n",
    "- `lower()`: devuelve una cadena con todos los caracteres en minúsculas.\n",
    "- `upper()`: devuelve una cadena con todos los caracteres en mayúsculas.\n",
    "- `title()`: devuelve una cadena con la primera letra de cada palabra en mayúsculas\n",
    "- `center()`: devuelve una cadena centrada en un ancho específico.\n",
    "- `ljust()`: devuelve una cadena alineada a la izquierda en un ancho\n",
    "- `rjust()`: devuelve una cadena alineada a la derecha en un ancho\n",
    "- `zfill()`: devuelve una cadena con ceros a la izquierda hasta un ancho\n",
    "- `format()`: devuelve una cadena con los valores de una lista o tupla insertados\n",
    "\n",
    "\n",
    "\n",
    "\n"
   ]
  },
  {
   "cell_type": "markdown",
   "id": "032a0d09",
   "metadata": {},
   "source": []
  }
 ],
 "metadata": {
  "kernelspec": {
   "display_name": "py3_10_18",
   "language": "python",
   "name": "python3"
  },
  "language_info": {
   "codemirror_mode": {
    "name": "ipython",
    "version": 3
   },
   "file_extension": ".py",
   "mimetype": "text/x-python",
   "name": "python",
   "nbconvert_exporter": "python",
   "pygments_lexer": "ipython3",
   "version": "3.11.5"
  }
 },
 "nbformat": 4,
 "nbformat_minor": 5
}

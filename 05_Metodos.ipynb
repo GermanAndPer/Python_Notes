{
 "cells": [
  {
   "cell_type": "markdown",
   "id": "91214dae",
   "metadata": {},
   "source": [
    "# 💻Metodos\n",
    "\n",
    "Los metodos en python son"
   ]
  }
 ],
 "metadata": {
  "language_info": {
   "name": "python"
  }
 },
 "nbformat": 4,
 "nbformat_minor": 5
}

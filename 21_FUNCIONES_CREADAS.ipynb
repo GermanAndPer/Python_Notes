{
 "cells": [
  {
   "cell_type": "markdown",
   "id": "95f11859",
   "metadata": {},
   "source": [
    "# Funciones Creadas\n",
    "\n",
    "Para crear funciones se utiliza la palabra reservada:\n",
    "\n",
    "- ___`DEF (Palabra Reservada)`___ \n",
    "- ___`EL NOMBRE DE LA FUNCION`___\n",
    "- ___`PARÁMETROS  (Entre parentesis () y en caso de Aplicar)`___\n",
    "- ___`CÓDIGO`___\n",
    "- ___`RETORNAR (En caso de devolver un valor en especiific)`___\n",
    "- ___`FIN`___\n",
    "\n",
    "Y\n",
    "\n",
    "Para llamar la funcion:\n",
    "\n",
    "- ___`NOMBRE DE LA FUNCION`___\n",
    "- ___`PARÁMETROS (Si se necesita)`___\n",
    "\n",
    "\n"
   ]
  },
  {
   "cell_type": "code",
   "execution_count": null,
   "id": "a8c4bca9",
   "metadata": {},
   "outputs": [
    {
     "name": "stdout",
     "output_type": "stream",
     "text": [
      "Nombre:  German\n"
     ]
    }
   ],
   "source": [
    "# FUNCCION CON PARAMETROS\n",
    "def mostrar_cuenta(nombre):\n",
    "    print(\"Nombre: \", nombre)\n",
    "\n",
    "#Antes de llamar a la funcion, se debe definir el parametro que se le pasara.\n",
    "#Se usará la variable nombre para pasarle el valor.\n",
    "#Y este valor se le asignará al parametro de la funcion.\n",
    "nombre = \"German\"\n",
    "mostrar_cuenta(nombre)"
   ]
  },
  {
   "cell_type": "code",
   "execution_count": 3,
   "id": "fe13d961",
   "metadata": {},
   "outputs": [],
   "source": [
    "def crear_cuenta():\n",
    "    nombre = input(\"Ingrese su nombre: \")\n",
    "    apellido = input(\"Ingrese su apellido: \")\n",
    "    edad = input(\"Ingrese su edad: \")\n",
    "    direccion = input(\"Ingrese su direccion: \")\n",
    "    telefono = input(\"Ingrese su telefono: \")\n",
    "    correo = input(\"Ingrese su correo: \")\n",
    "    print(\"Su cuenta ha sido creada con exito\")\n",
    "    print(\"Nombre: \", nombre)\n",
    "    print(\"Apellido: \", apellido)\n",
    "    print(\"Edad: \", edad)\n",
    "    print(\"Direccion: \", direccion)\n",
    "    print(\"Telefono: \", telefono)\n",
    "    print(\"Correo: \", correo)\n",
    "\n",
    "#if __name__ == \"__main__\":\n",
    "#    crear_cuenta()\n",
    "# --- IGNORE ---\n",
    "\n"
   ]
  }
 ],
 "metadata": {
  "kernelspec": {
   "display_name": "py3_10_18",
   "language": "python",
   "name": "python3"
  },
  "language_info": {
   "codemirror_mode": {
    "name": "ipython",
    "version": 3
   },
   "file_extension": ".py",
   "mimetype": "text/x-python",
   "name": "python",
   "nbconvert_exporter": "python",
   "pygments_lexer": "ipython3",
   "version": "3.11.5"
  }
 },
 "nbformat": 4,
 "nbformat_minor": 5
}

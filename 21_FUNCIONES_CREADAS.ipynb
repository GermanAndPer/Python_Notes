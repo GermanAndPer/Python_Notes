{
 "cells": [
  {
   "cell_type": "markdown",
   "id": "95f11859",
   "metadata": {},
   "source": [
    "# Funciones Creadas\n",
    "\n",
    "Para crear funciones se utiliza la palabra reservada:\n",
    "\n",
    "- ___`DEF (Palabra Reservada)`___ \n",
    "- ___`EL NOMBRE DE LA FUNCION`___\n",
    "- ___`PARÁMETROS  (Entre parentesis () y en caso de Aplicar)`___\n",
    "- ___`CÓDIGO`___\n",
    "- ___`RETORNAR (En caso de devolver un valor en especiific)`___\n",
    "- ___`FIN`___\n",
    "\n",
    "Y\n",
    "\n",
    "Para llamar la funcion:\n",
    "\n",
    "- ___`NOMBRE DE LA FUNCION`___\n",
    "- ___`PARÁMETROS (Si se necesita)`___\n",
    "\n",
    "\n"
   ]
  },
  {
   "cell_type": "code",
   "execution_count": null,
   "id": "a8c4bca9",
   "metadata": {},
   "outputs": [
    {
     "name": "stdout",
     "output_type": "stream",
     "text": [
      "Nombre:  German\n",
      "Nombre:  German\n",
      "Nombre:  German\n",
      "Apellido:  Andres\n",
      "Nombre completo:  German Andres\n",
      "Nombre:  German\n",
      "Saldo:  0\n",
      "Nombre:  German\n",
      "Saldo:  1000\n"
     ]
    }
   ],
   "source": [
    "# FUNCCION CON PARAMETROS \n",
    "def mostrar_cuenta(nombre):\n",
    "    print(\"Nombre: \", nombre)\n",
    "#Antes de llamar a la funcion, se debe definir el parametro que se le pasara.\n",
    "#USANSDO UNA VARIABLE\n",
    "#Se usará la variable nombre para pasarle el valor.\n",
    "#Y este valor se le asignará al parametro de la funcion.\n",
    "nombre = \"German\"\n",
    "mostrar_cuenta(nombre)\n",
    "# USANDO UNA CADENA DE TEXTO DIRECTAMENTE\n",
    "mostrar_cuenta(\"German\")\n",
    "\n",
    "\n",
    "# FUNCION CON VARIOS PARAMETROS\n",
    "def nombre_y_apellido(nombre, apellido):\n",
    "    print(\"Nombre: \", nombre)\n",
    "    print(\"Apellido: \", apellido)\n",
    "    print(\"Nombre completo: \", nombre, apellido)\n",
    "nombre_y_apellido(\"German\", \"Andres\")\n",
    "\n",
    "\n",
    "# FUNCION CON PARAMETROS OPCIONALES\n",
    "# Se puede definir un parametro con un valor por defecto\n",
    "# Si no se le pasa un valor, se usará el valor por defecto.\n",
    "def nombre_y_saldo(nombre, saldo=0):\n",
    "    print(\"Nombre: \", nombre)\n",
    "    print(\"Saldo: \", saldo)\n",
    "# Se puede llamar a la funcion sin pasar el segundo parametro\n",
    "nombre_y_saldo(\"German\")\n",
    "# O se puede llamar pasando el segundo parametro\n",
    "nombre_y_saldo(\"German\", 1000)\n",
    "\n",
    "# FUNCION CON PARAMETROS OPCIONALES Y POSICIONALES\n",
    "def nombre_y_saldo_con_parametros(nombre, saldo=0, moneda=\"USD\"):\n",
    "    print(\"Nombre: \", nombre)\n",
    "    print(\"Saldo: \", saldo)\n",
    "    print(\"Moneda: \", moneda)\n",
    "# Se puede llamar a la funcion sin pasar el segundo y tercer parametro\n",
    "nombre_y_saldo_con_parametros(\"German\")\n",
    "# O se puede llamar pasando los parametros en el orden que queramos\n",
    "# Mencionando el nombre del parametro y el valor\n",
    "nombre_y_saldo_con_parametros(\"German\", moneda=\"EUR\", saldo=1000)"
   ]
  },
  {
   "cell_type": "code",
   "execution_count": 3,
   "id": "fe13d961",
   "metadata": {},
   "outputs": [],
   "source": [
    "def crear_cuenta():\n",
    "    nombre = input(\"Ingrese su nombre: \")\n",
    "    apellido = input(\"Ingrese su apellido: \")\n",
    "    edad = input(\"Ingrese su edad: \")\n",
    "    direccion = input(\"Ingrese su direccion: \")\n",
    "    telefono = input(\"Ingrese su telefono: \")\n",
    "    correo = input(\"Ingrese su correo: \")\n",
    "    print(\"Su cuenta ha sido creada con exito\")\n",
    "    print(\"Nombre: \", nombre)\n",
    "    print(\"Apellido: \", apellido)\n",
    "    print(\"Edad: \", edad)\n",
    "    print(\"Direccion: \", direccion)\n",
    "    print(\"Telefono: \", telefono)\n",
    "    print(\"Correo: \", correo)\n",
    "\n",
    "#if __name__ == \"__main__\":\n",
    "#    crear_cuenta()\n",
    "# --- IGNORE ---\n",
    "\n"
   ]
  }
 ],
 "metadata": {
  "kernelspec": {
   "display_name": "py3_10_18",
   "language": "python",
   "name": "python3"
  },
  "language_info": {
   "codemirror_mode": {
    "name": "ipython",
    "version": 3
   },
   "file_extension": ".py",
   "mimetype": "text/x-python",
   "name": "python",
   "nbconvert_exporter": "python",
   "pygments_lexer": "ipython3",
   "version": "3.11.5"
  }
 },
 "nbformat": 4,
 "nbformat_minor": 5
}

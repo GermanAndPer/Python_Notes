{
 "cells": [
  {
   "cell_type": "code",
   "execution_count": 24,
   "id": "a2bde2a2",
   "metadata": {},
   "outputs": [
    {
     "name": "stdout",
     "output_type": "stream",
     "text": [
      "Bienvenido a tu primera Calculadora 🔢\n",
      "\t\t\t1- Suma\t\t\t3- Multiplicacion\n",
      "\t\t\t2- Resta\t\t4- Division\n",
      "\t\t\t5- Salir\n",
      "Bienvenido a tu primera Calculadora 🔢\n",
      "\t\t\t1- Suma\t\t\t3- Multiplicacion\n",
      "\t\t\t2- Resta\t\t4- Division\n",
      "\t\t\t5- Salir\n",
      "Elegiste la opción:  Suma\n",
      "La  Suma de 7 y 7 es: 14\n",
      "Bienvenido a tu primera Calculadora 🔢\n",
      "\t\t\t1- Suma\t\t\t3- Multiplicacion\n",
      "\t\t\t2- Resta\t\t4- Division\n",
      "\t\t\t5- Salir\n",
      "Elegiste la opción:  Resta\n",
      "La  Resta de 7 y 7 es: 0\n",
      "Bienvenido a tu primera Calculadora 🔢\n",
      "\t\t\t1- Suma\t\t\t3- Multiplicacion\n",
      "\t\t\t2- Resta\t\t4- Division\n",
      "\t\t\t5- Salir\n",
      "Elegiste la opción:  Multiplicacion\n",
      "La  Multiplicacion de 7 y 7 es: 49\n",
      "Bienvenido a tu primera Calculadora 🔢\n",
      "\t\t\t1- Suma\t\t\t3- Multiplicacion\n",
      "\t\t\t2- Resta\t\t4- Division\n",
      "\t\t\t5- Salir\n",
      "Elegiste la opción:  Division\n",
      "La  Division de 7 y 7 es: 1.0\n",
      "Bienvenido a tu primera Calculadora 🔢\n",
      "\t\t\t1- Suma\t\t\t3- Multiplicacion\n",
      "\t\t\t2- Resta\t\t4- Division\n",
      "\t\t\t5- Salir\n",
      "Elegiste la opción Salir ¡Nos vemos pronto!\n"
     ]
    }
   ],
   "source": [
    "def suma(a , b):\n",
    "\treturn a + b\n",
    "\n",
    "def resta(a , b):\n",
    "\treturn a - b\n",
    "\n",
    "def multiplicacion(a , b):\n",
    "\treturn a * b\n",
    "\n",
    "def division(a , b):\n",
    "\treturn a / b\n",
    "\n",
    "catalogo = {\n",
    "\t1: \"Suma\",\n",
    "\t2: \"Resta\",\n",
    "\t3: \"Multiplicacion\",\n",
    "\t4: \"Division\",\n",
    "\t5: \"Salir\" \n",
    "}\n",
    "\n",
    "\n",
    "def calculadora():\n",
    "\twhile True:\n",
    "\t\tprint('''Bienvenido a tu primera Calculadora 🔢\n",
    "\t\t\t1- Suma\t\t\t3- Multiplicacion\n",
    "\t\t\t2- Resta\t\t4- Division\n",
    "\t\t\t5- Salir''')\n",
    "\t\toperacion = int(input(\"Dame el numero de la operacion que quieres hacer: \"))\n",
    "\t\tif operacion == 5:\n",
    "\t\t\tprint(\"Elegiste la opción\", catalogo[operacion] ,\"¡Nos vemos pronto!\")\n",
    "\t\t\tbreak\n",
    "\t\telif operacion in [1, 2, 3, 4]:\n",
    "\t\t\tprint(\"Elegiste la opción: \", catalogo[operacion] )\n",
    "\t\t\tnumero1 = int(input(\"Dame tu PRIMER numero: \"))\n",
    "\t\t\tnumero2 = int(input(\"Dame tu SEGUNDO numero: \"))\n",
    "\t\t\tif operacion == 1:\n",
    "\t\t\t\tprint(\"La \", catalogo[operacion], \"de\", numero1 , \"y\", numero2, \"es:\", suma(numero1 , numero2))\n",
    "\t\t\tif operacion == 2:\n",
    "\t\t\t\tprint(\"La \", catalogo[operacion], \"de\", numero1 , \"y\", numero2, \"es:\", resta(numero1 , numero2))\n",
    "\t\t\tif operacion == 3:\n",
    "\t\t\t\tprint(\"La \", catalogo[operacion], \"de\", numero1 , \"y\", numero2, \"es:\", multiplicacion(numero1 , numero2))\n",
    "\t\t\tif operacion == 4:\n",
    "\t\t\t\tprint(\"La \", catalogo[operacion], \"de\", numero1 , \"y\", numero2, \"es:\", division(numero1 , numero2))\n",
    "\n",
    "calculadora()\n"
   ]
  },
  {
   "cell_type": "code",
   "execution_count": null,
   "id": "615ffd11",
   "metadata": {},
   "outputs": [],
   "source": []
  }
 ],
 "metadata": {
  "kernelspec": {
   "display_name": "py3_10_18",
   "language": "python",
   "name": "python3"
  },
  "language_info": {
   "codemirror_mode": {
    "name": "ipython",
    "version": 3
   },
   "file_extension": ".py",
   "mimetype": "text/x-python",
   "name": "python",
   "nbconvert_exporter": "python",
   "pygments_lexer": "ipython3",
   "version": "3.11.5"
  }
 },
 "nbformat": 4,
 "nbformat_minor": 5
}

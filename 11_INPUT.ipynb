{
 "cells": [
  {
   "cell_type": "markdown",
   "id": "960b61ab",
   "metadata": {},
   "source": [
    "# ⬇️⬆️ INPUT\n",
    "\n",
    "Para solicitar datos al usuario, es necesio usar la __FUNCION__ ___INPUT___\n",
    "\n",
    "Siempre que la usemos necesitamos nombrar una variable que es donde se guardará el valor.\n",
    "\n",
    "Y cada dato solicitado se deberá ingresar en la linea de comandos: \n",
    "\n",
    "NOTA 1: Esto solo guarda los datos. Para visualizar la informacion debe usarse PRINT"
   ]
  },
  {
   "cell_type": "code",
   "execution_count": null,
   "id": "4a485c98",
   "metadata": {},
   "outputs": [],
   "source": [
    "# VARIABLE =    nombre\n",
    "# INPUT    =    Mensaje de solicitud de Informacion.\n",
    "\n",
    "nombre = input(\"Dime tu nombre\") \n",
    "edad = input(\"Dime tu edad\")\n",
    "\n",
    "print(\"Hola\", nombre, \"tienes\", edad, \"años\")"
   ]
  },
  {
   "cell_type": "markdown",
   "id": "4db38cb2",
   "metadata": {},
   "source": [
    "## 🔁CAMBIO DE CLASE\n",
    "\n",
    "Todos los datos ingresados son CLASE __STRING (STR)__\n",
    "\n",
    "Para cambiarlo, usamos las diferentes funciones:\n"
   ]
  },
  {
   "cell_type": "code",
   "execution_count": null,
   "id": "503c7a9a",
   "metadata": {},
   "outputs": [],
   "source": [
    "nombre = input(\"Dime tu nombre\") \n",
    "edad = input(\"Dime tu edad\")\n",
    "\n",
    "# INT      =    Cambia el tipo de dato de la variable seleccinada a INT\n",
    "edad = int(edad)\n",
    "print(type(edad))\n",
    "# FLOAT    =    Cambia el tipo de dato de la variable seleccionada a FLOAT\n",
    "edad = float(edad)\n",
    "print(type(edad))\n",
    "\n",
    "# STR      =    Cambia el tipo de dato de la variable seleccionada a STR\n",
    "edad = str(edad)\n",
    "print(type(edad))\n",
    "\n",
    "# Estos son otras funciones para bambiar el tipo.\n",
    "\n",
    "# BOOL     =    Cambia el tipo de dato de la variable seleccionada a BOOL\n",
    "# LIST     =    Cambia el tipo de dato de la variable seleccionada a LIST\n",
    "# TUPLE    =    Cambia el tipo de dato de la variable seleccionada a TUPLE\n",
    "# SET      =    Cambia el tipo de dato de la variable seleccionada a SET\n",
    "# DICTIONARY = Cambia el tipo de dato de la variable seleccionada a DICTIONARY\n",
    "# None     =    Cambia el tipo de dato de la variable seleccionada a None\n",
    "\n",
    "print(\"Hola\", nombre, \"tienes\", edad, \"años\")"
   ]
  },
  {
   "cell_type": "markdown",
   "id": "c795007f",
   "metadata": {},
   "source": [
    "## ❌ ERRORES ❌\n",
    "\n",
    "Al momento de anidar funciones buscamos controlar que los datos ingresados sean correctos.\n",
    "\n",
    "Por lo que es importante que aseguremos cuando ocurra esto, tener un plan de emergencia. Por ejemplo:\n",
    "- Si el usuario no ingresa un número, podemos mostrar un mensaje de error y solicitar que ingrese un número."
   ]
  },
  {
   "cell_type": "code",
   "execution_count": null,
   "id": "1d4dce56",
   "metadata": {},
   "outputs": [],
   "source": [
    "#De momento así confirmamos que los datos ingresados sean solo numeros.\n",
    "#Pero no controlamos el error\n",
    "edad = int(input(\"Dime tu edad\"))"
   ]
  }
 ],
 "metadata": {
  "kernelspec": {
   "display_name": "py3_10_18",
   "language": "python",
   "name": "python3"
  },
  "language_info": {
   "codemirror_mode": {
    "name": "ipython",
    "version": 3
   },
   "file_extension": ".py",
   "mimetype": "text/x-python",
   "name": "python",
   "nbconvert_exporter": "python",
   "pygments_lexer": "ipython3",
   "version": "3.11.5"
  }
 },
 "nbformat": 4,
 "nbformat_minor": 5
}

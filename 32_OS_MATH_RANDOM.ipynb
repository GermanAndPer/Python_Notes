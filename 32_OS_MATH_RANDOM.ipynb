{
 "cells": [
  {
   "cell_type": "markdown",
   "id": "e494c20b",
   "metadata": {},
   "source": [
    "# 📚 Librerias OS-MATH-RANDOM\n",
    "\n"
   ]
  },
  {
   "cell_type": "markdown",
   "id": "52e1d35f",
   "metadata": {},
   "source": []
  }
 ],
 "metadata": {
  "kernelspec": {
   "display_name": "py3_10_18",
   "language": "python",
   "name": "python3"
  },
  "language_info": {
   "name": "python",
   "version": "3.11.5"
  }
 },
 "nbformat": 4,
 "nbformat_minor": 5
}

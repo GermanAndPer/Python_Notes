{
 "cells": [
  {
   "attachments": {
    "image.png": {
     "image/png": "[encoded data removed]"
    }
   },
   "cell_type": "markdown",
   "id": "e494c20b",
   "metadata": {},
   "source": [
    "# 📚 Librerias OS-MATH-RANDOM\n",
    "\n",
    "Librerias y como usarlas\n",
    "\n",
    "## 💻 OS\n",
    "\n",
    "libreria para interactuar con el Sistema Operativo pero desde python\n",
    "\n",
    "![image.png](attachment:image.png)"
   ]
  },
  {
   "cell_type": "code",
   "execution_count": null,
   "id": "6e2db985",
   "metadata": {},
   "outputs": [],
   "source": [
    "import os\n",
    "\n",
    "# CWD = Current Working Directory\n",
    "# GETCWD() me devujelve la ruta donde estoy trabajando\n",
    "cwd = os.getcwd()\n",
    "print(cwd)"
   ]
  },
  {
   "cell_type": "code",
   "execution_count": null,
   "id": "f4d42095",
   "metadata": {},
   "outputs": [],
   "source": [
    "import os\n",
    "\n",
    "# LISTDIT\n",
    "# Crea una lista con los archivos en el directorio actual en FORMATO DE LISTA\n",
    "archivos = os.listdir()\n",
    "print(archivos)\n",
    "\n",
    "# La impresion Directa te imprime los datos de manera continua.(Formaro Lista)\n",
    "# Para un mejor Formato nos apoyamos un ciclo For\n",
    "for archivo in archivos: \n",
    "    print(archivo)"
   ]
  },
  {
   "cell_type": "code",
   "execution_count": null,
   "id": "43dd9a6a",
   "metadata": {},
   "outputs": [],
   "source": [
    "import os\n",
    "\n",
    "# ENDSWITH\n",
    "# A parte de listar los archivos, podemos especificar que archivos queremos listar.\n",
    "# ENDSWITH nos ayuda a especificar la extencion que quetemos revisar. Junto con con el CICLO FOR\n",
    "archivos = os.listdir()\n",
    "for archivo in archivos: \n",
    "    if archivo.endswith(\".txt\"):\n",
    "        print(archivo)\n"
   ]
  },
  {
   "cell_type": "code",
   "execution_count": null,
   "id": "0380ec69",
   "metadata": {},
   "outputs": [],
   "source": [
    "#CREAR ARCHIVOS\n",
    "open('Archivo_Nuevo.txt', 'w').close()"
   ]
  },
  {
   "cell_type": "code",
   "execution_count": null,
   "id": "99ce2c47",
   "metadata": {},
   "outputs": [],
   "source": [
    "import os\n",
    "\n",
    "#Codigo para listar los archivos TXT antes de Renombrar\n",
    "archivos = os.listdir()\n",
    "for archivo in archivos: \n",
    "    if archivo.endswith(\".txt\"):\n",
    "        print(archivo)\n",
    "\n",
    "#RENOMBRAR ARACHIVOS\n",
    "os.rename('Archivo_Nuevo.txt','Archivo_Renombrado.txt') \n",
    "\n",
    "#Codigo para listar los archivos TXT despues de Renombrar\n",
    "archivos = os.listdir()\n",
    "for archivo in archivos: \n",
    "    if archivo.endswith(\".txt\"):\n",
    "        print(archivo)"
   ]
  },
  {
   "cell_type": "code",
   "execution_count": 17,
   "id": "cba77007",
   "metadata": {},
   "outputs": [],
   "source": [
    "import os\n",
    "\n",
    "#Para eliminar un archivo\n",
    "os.remove('Archivo_Renombrado.txt')"
   ]
  },
  {
   "cell_type": "code",
   "execution_count": null,
   "id": "82ab9ca5",
   "metadata": {},
   "outputs": [],
   "source": [
    "\n",
    "#Lista de Directorios\n",
    "directorios = os.listdir('/')\n",
    "print(directorios)\n",
    "\n",
    "#Crear un directorio\n",
    "os.mkdir('mi_directorio')\n",
    "\n",
    "#Eliminar un directorio\n",
    "os.rmdir('mi_directorio')\n",
    "\n",
    "#Crear un archivo con contenido\n",
    "open('mi_archivo.txt', 'w').write('Hola Mundo')\n",
    "\n",
    "#Crear un archivo con contenido y permisos #Todos los permisos para todos\n",
    "open('mi_archivo.txt', 'w').write('Hola Mundo')\n",
    "os.chmod('mi_archivo.txt', 0o777)\n"
   ]
  },
  {
   "cell_type": "markdown",
   "id": "52e1d35f",
   "metadata": {},
   "source": [
    "## 🔢 Math\n",
    "\n",
    "Libreria que apoya al momento de hacer operaciones Matematicas\n",
    "\n",
    "Uno de los mas usos mas comunes es que guarda el valor de Pi(3.1416...)\n",
    "\n",
    "Util para calcular el area o perimetro de un circulo."
   ]
  },
  {
   "cell_type": "code",
   "execution_count": null,
   "id": "5d5dab78",
   "metadata": {},
   "outputs": [],
   "source": [
    "import math\n",
    "\n",
    "# Calcular el área y perímetro de un círculo\n",
    "radio = 5\n",
    "area = math.pi * (radio ** 2)\n",
    "perimetro = 2 * math.pi * radio\n",
    "\n",
    "print(\"Área:\", area)\n",
    "print(\"Perímetro:\", perimetro)"
   ]
  },
  {
   "cell_type": "markdown",
   "id": "e12e5b59",
   "metadata": {},
   "source": [
    "## 🔢🔁 Random\n",
    "\n",
    "La traduccion literia seria \"ALEATORIO\"\n",
    "\n",
    "Y nos va a permitir justo eso. Devolver un numero Aleadotorio de acuerdo a los parametros que le indiquemos. O incluso de una lista de opciones. (En formato lista)\n",
    "\n"
   ]
  },
  {
   "cell_type": "code",
   "execution_count": null,
   "id": "9d1d7ef1",
   "metadata": {},
   "outputs": [
    {
     "name": "stdout",
     "output_type": "stream",
     "text": [
      "Número aleatorio: 9\n",
      "Color elegido aleatoriamente: rojo\n",
      "Cartas barajadas: ['reina', 'as', 'jota', '10', 'rey']\n"
     ]
    }
   ],
   "source": [
    "import random\n",
    "\n",
    "# Generar un número entero aleatorio entre 1 y 10\n",
    "random_number = random.randint(1, 10)\n",
    "print(\"Número aleatorio:\", random_number)\n",
    "\n",
    "\n",
    "# Elegir un color aleatorio de la lista\n",
    "colores = [\"rojo\", \"azul\", \"verde\"]\n",
    "color_random = random.choice(colores)\n",
    "print(\"Color elegido aleatoriamente:\", color_random)\n",
    "\n",
    "\n",
    "# Barajar una lista de cartas\n",
    "cartas = [\"as\", \"rey\", \"reina\", \"jota\", \"10\"]\n",
    "random.shuffle(cartas)\n",
    "print(\"Cartas barajadas:\", cartas)\n",
    "#CUIDADO altera el orden original de la lista."
   ]
  },
  {
   "cell_type": "markdown",
   "id": "f4dfaf1f",
   "metadata": {},
   "source": [
    "## 💻STRINGS\n",
    "\n",
    "1. Métodos de cadenas (strings):\n",
    "\n",
    "- str.upper(): Convierte una cadena a mayúsculas.\n",
    "- str.lower(): Convierte una cadena a minúsculas.\n",
    "- str.capitalize(): Convierte el primer carácter a mayúscula y el resto a minúsculas.\n",
    "- str.split(sep=None): Divide una cadena en una lista, usando el separador sep.\n",
    "- str.join(iterable): Une una lista o iterable en una sola cadena, usando el string como separador.\n",
    "- str.strip(): Elimina espacios en blanco (u otros caracteres) al inicio y final de la cadena.\n",
    "- str.replace(old, new): Reemplaza todas las ocurrencias de una subcadena old por new.\n",
    "- str.find(sub): Busca la subcadena sub y devuelve la posición de su primera aparición, o -1 si no la encuentra.\n",
    "\n",
    "2. Métodos de listas:\n",
    "\n",
    "- list.append(item): Agrega un elemento al final de la lista.\n",
    "- list.extend(iterable): Agrega todos los elementos de un iterable al final de la lista.\n",
    "- list.insert(index, item): Inserta un elemento en una posición específica.\n",
    "- list.remove(item): Elimina la primera aparición de un elemento en la lista.\n",
    "- list.pop(index=-1): Elimina y devuelve el elemento en la posición index (el último por defecto).\n",
    "- list.index(item): Devuelve el índice de la primera aparición de un elemento.\n",
    "- list.sort(): Ordena la lista en orden ascendente.\n",
    "- list.reverse(): Invierte el orden de los elementos en la lista.\n",
    "\n",
    "3. Métodos de diccionarios:\n",
    "\n",
    "- dict.get(key, default=None): Devuelve el valor asociado a la clave key, o default si la clave no existe.\n",
    "- dict.keys(): Devuelve una vista de todas las claves del diccionario.\n",
    "- dict.values(): Devuelve una vista de todos los valores del diccionario.\n",
    "- dict.items(): Devuelve una vista de todos los pares clave-valor del diccionario.\n",
    "- dict.update(other_dict): Actualiza el diccionario con los pares clave-valor de otro diccionario.\n",
    "- dict.pop(key, default=None): Elimina y devuelve el valor asociado a la clave key.\n",
    "\n",
    "4. Métodos de conjuntos (sets):\n",
    "\n",
    "- set.add(item): Agrega un elemento al conjunto.\n",
    "- set.remove(item): Elimina un elemento del conjunto. Lanza un error si el elemento no está presente.\n",
    "- set.discard(item): Elimina un elemento sin lanzar un error si no está presente.\n",
    "- set.union(other_set): Devuelve un nuevo conjunto con los elementos de ambos conjuntos.\n",
    "- set.intersection(other_set): Devuelve un conjunto con los elementos comunes entre ambos conjuntos.\n",
    "- set.difference(other_set): Devuelve un conjunto con los elementos presentes en el conjunto original pero no en other_set.\n",
    "\n",
    "5. Métodos de archivos:\n",
    "\n",
    "- open(filename, mode): Abre un archivo y lo devuelve como un objeto de archivo.\n",
    "- file.read(): Lee todo el contenido del archivo.\n",
    "- file.readline(): Lee una línea del archivo.\n",
    "- file.readlines(): Lee todas las líneas del archivo y las devuelve como una lista.\n",
    "- file.write(string): Escribe una cadena en el archivo.\n",
    "- file.writelines(lines): Escribe una lista de cadenas en el archivo.\n",
    "- file.close(): Cierra el archivo.\n",
    "\n",
    "6. Métodos para manejo de errores:\n",
    "\n",
    "- try: Comienza un bloque de código que podría generar una excepción.\n",
    "- except: Se ejecuta si ocurre una excepción dentro del bloque try.\n",
    "- finally: Se ejecuta independientemente de si se produce una excepción o no.\n",
    "- raise: Lanza una excepción manualmente.\n",
    "\n",
    "7. Funciones generales:\n",
    "\n",
    "- len(obj): Devuelve la longitud de un objeto (lista, cadena, etc.).\n",
    "- type(obj): Devuelve el tipo de un objeto.\n",
    "- isinstance(obj, class): Verifica si un objeto es una instancia de una clase.\n",
    "- sum(iterable): Devuelve la suma de los elementos de un iterable.\n",
    "- max(iterable): Devuelve el valor máximo de un iterable.\n",
    "- min(iterable): Devuelve el valor mínimo de un iterable.\n",
    "- range(start, stop, step): Genera una secuencia de números desde start hasta stop, con un incremento de step.\n"
   ]
  },
  {
   "cell_type": "code",
   "execution_count": null,
   "id": "a78215a7",
   "metadata": {},
   "outputs": [],
   "source": [
    "import str"
   ]
  }
 ],
 "metadata": {
  "kernelspec": {
   "display_name": "py3_10_18",
   "language": "python",
   "name": "python3"
  },
  "language_info": {
   "codemirror_mode": {
    "name": "ipython",
    "version": 3
   },
   "file_extension": ".py",
   "mimetype": "text/x-python",
   "name": "python",
   "nbconvert_exporter": "python",
   "pygments_lexer": "ipython3",
   "version": "3.11.5"
  }
 },
 "nbformat": 4,
 "nbformat_minor": 5
}

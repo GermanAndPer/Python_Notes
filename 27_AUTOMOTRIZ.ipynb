{
 "cells": [
  {
   "cell_type": "markdown",
   "id": "59d9e18f",
   "metadata": {},
   "source": [
    "# 🚗 Automotriz"
   ]
  },
  {
   "cell_type": "code",
   "execution_count": 13,
   "id": "35bcbe9e",
   "metadata": {},
   "outputs": [
    {
     "ename": "TabError",
     "evalue": "inconsistent use of tabs and spaces in indentation (3003199134.py, line 16)",
     "output_type": "error",
     "traceback": [
      "  \u001b[36mCell\u001b[39m\u001b[36m \u001b[39m\u001b[32mIn[13]\u001b[39m\u001b[32m, line 16\u001b[39m\n\u001b[31m    \u001b[39m\u001b[31mself.clientes = []\u001b[39m\n    ^\n\u001b[31mTabError\u001b[39m\u001b[31m:\u001b[39m inconsistent use of tabs and spaces in indentation\n"
     ]
    }
   ],
   "source": [
    "# AUTOMOTRIZ\n",
    "\n",
    "class carros:\n",
    "\tdef __init__(self, marca, precio):\n",
    "\t\tself.marca = marca\n",
    "\t\tself.precio = precio\n",
    "\t\tself.disponibilidad = True\n",
    "\n",
    "class clientes:\n",
    "\tdef __init__(self, nombre, presupuesto):\n",
    "\t\tself.nombre = nombre\n",
    "\t\tself.presupuesto = presupuesto\n",
    "\n",
    "class consesionaria:\n",
    "\tdef __init__(self):\n",
    "        self.clientes = []\n",
    "        self.carros = []\n",
    "\n",
    "\tdef registro_adutos(self, carro):\n",
    "\t\tself.carros.append(carro)\n",
    "\n",
    "\tdef registro_clientes(self, cliente):\n",
    "\t\tself.clientes.append(cliente)\n",
    "\n",
    "\tdef venta_carros(self, cliente, carro):\n",
    "\t\tif carro.disponibilidad == True:\n",
    "\t\t\tif carro.precio >= cliente.presupuesto:\n",
    "\t\t\t\tprint(\"Perfecto. Te alcanza para el coche\")\n",
    "\n",
    "\n",
    "carro1 = carros(\"Cheby\",100000)\n",
    "cliente1 = clientes(\"German\",100000)\n",
    "catalogo_tienda = consesionaria()\n",
    "catalogo_tienda.venta_carros(carro1, cliente1)"
   ]
  },
  {
   "cell_type": "code",
   "execution_count": null,
   "id": "0e0b4c79",
   "metadata": {},
   "outputs": [
    {
     "ename": "AttributeError",
     "evalue": "'clientes' object has no attribute 'disponibilidad'",
     "output_type": "error",
     "traceback": [
      "\u001b[31m---------------------------------------------------------------------------\u001b[39m",
      "\u001b[31mAttributeError\u001b[39m                            Traceback (most recent call last)",
      "\u001b[36mCell\u001b[39m\u001b[36m \u001b[39m\u001b[32mIn[16]\u001b[39m\u001b[32m, line 37\u001b[39m\n\u001b[32m     33\u001b[39m cliente1 = clientes(\u001b[33m\"\u001b[39m\u001b[33mGerman\u001b[39m\u001b[33m\"\u001b[39m, \u001b[32m100000\u001b[39m)\n\u001b[32m     35\u001b[39m catalogo_tienda = consesionaria()\n\u001b[32m---> \u001b[39m\u001b[32m37\u001b[39m \u001b[43mcatalogo_tienda\u001b[49m\u001b[43m.\u001b[49m\u001b[43mventa_carros\u001b[49m\u001b[43m(\u001b[49m\u001b[43mcarro1\u001b[49m\u001b[43m,\u001b[49m\u001b[43m \u001b[49m\u001b[43mcliente1\u001b[49m\u001b[43m,\u001b[49m\u001b[43m)\u001b[49m\n",
      "\u001b[36mCell\u001b[39m\u001b[36m \u001b[39m\u001b[32mIn[16]\u001b[39m\u001b[32m, line 26\u001b[39m, in \u001b[36mconsesionaria.venta_carros\u001b[39m\u001b[34m(self, cliente, carro)\u001b[39m\n\u001b[32m     25\u001b[39m \u001b[38;5;28;01mdef\u001b[39;00m\u001b[38;5;250m \u001b[39m\u001b[34mventa_carros\u001b[39m(\u001b[38;5;28mself\u001b[39m, cliente, carro):\n\u001b[32m---> \u001b[39m\u001b[32m26\u001b[39m \t\u001b[38;5;28;01mif\u001b[39;00m \u001b[43mcarro\u001b[49m\u001b[43m.\u001b[49m\u001b[43mdisponibilidad\u001b[49m == \u001b[38;5;28;01mTrue\u001b[39;00m:\n\u001b[32m     27\u001b[39m \t\t\u001b[38;5;28;01mif\u001b[39;00m carro.precio >= cliente.presupuesto:\n\u001b[32m     28\u001b[39m \t\t\t\u001b[38;5;28mprint\u001b[39m(\u001b[33m\"\u001b[39m\u001b[33mPerfecto. Te alcanza para el coche\u001b[39m\u001b[33m\"\u001b[39m)\n",
      "\u001b[31mAttributeError\u001b[39m: 'clientes' object has no attribute 'disponibilidad'"
     ]
    }
   ],
   "source": []
  },
  {
   "cell_type": "code",
   "execution_count": 24,
   "id": "e72b57d0",
   "metadata": {},
   "outputs": [
    {
     "name": "stdout",
     "output_type": "stream",
     "text": [
      "Estos son los modelos disponibles:\n",
      "Modelo: Cheby Precio 100000 \n",
      " \n",
      "Modelo: Ford Precio 200000 \n",
      " \n",
      "Modelo: Mustang Precio 300000 \n",
      " \n",
      "Modelo: Hummer Precio 400000 \n",
      " \n",
      "Modelo: Kia Precio 500000 \n",
      " \n",
      "Perfecto German. Te alcanza para el coche. El coche cuesta 100000 y tu tienes 100000. Por lo que el cambio sería de 0\n",
      "Lo siento, Juan. No te alcanza para el coche. El coche cuesta 300000 y tu tienes 200000. Por lo que te faltarian 100000\n",
      "Estos son los modelos disponibles:\n",
      "Modelo: Ford Precio 200000 \n",
      " \n",
      "Modelo: Mustang Precio 300000 \n",
      " \n",
      "Modelo: Hummer Precio 400000 \n",
      " \n",
      "Modelo: Kia Precio 500000 \n",
      " \n"
     ]
    }
   ],
   "source": [
    "# AUTOMOTRIZ\n",
    "\n",
    "class carros:\n",
    "\tdef __init__(self, marca, precio):\n",
    "\t\tself.marca = marca\n",
    "\t\tself.precio = precio\n",
    "\t\tself.disponibilidad = True\n",
    "\n",
    "class clientes:\n",
    "\tdef __init__(self, nombre, presupuesto):\n",
    "\t\tself.nombre = nombre\n",
    "\t\tself.presupuesto = presupuesto\n",
    "\n",
    "class consesionaria:\n",
    "\tdef __init__(self):\n",
    "\t\tself.catalogo_clientes = []\n",
    "\t\tself.catalogo_carros = []\n",
    "\t\n",
    "\tdef registro_adutos(self, carro):\n",
    "\t\tself.catalogo_carros.append(carro)\n",
    "\n",
    "\tdef registro_clientes(self, cliente):\n",
    "\t\tself.catalogo_clientes.append(cliente)\n",
    "\n",
    "\tdef venta_carros(self, cliente, carro):\n",
    "\t\tif carro.disponibilidad == True:\n",
    "\t\t\tif carro.precio <= cliente.presupuesto:\n",
    "\t\t\t\tprint(f\"Perfecto {cliente.nombre}. Te alcanza para el coche. El coche cuesta {carro.precio} y tu tienes {cliente.presupuesto}. Por lo que el cambio sería de {cliente.presupuesto - carro.precio}\")\n",
    "\t\t\t\tcarro.disponibilidad = False\n",
    "\t\t\telse:\n",
    "\t\t\t\tprint(f\"Lo siento, {cliente.nombre}. No te alcanza para el coche. El coche cuesta {carro.precio} y tu tienes {cliente.presupuesto}. Por lo que te faltarian {carro.precio - cliente.presupuesto}\")\n",
    "\t\telse:\n",
    "\t\t\tprint(f\"Lo siento, {cliente.nombre}. El {carro.marca} ya no esta disponible. Pero tenemos estos otros.\")\n",
    "\n",
    "\tdef imprimir_catalogo(self):\n",
    "\t\tprint(\"Estos son los modelos disponibles:\")\n",
    "\t\tfor carro in self.catalogo_carros:\n",
    "\t\t\tif carro.disponibilidad == True:\n",
    "\t\t\t\tprint(f\"Modelo: {carro.marca} Precio {carro.precio} \\n \")\n",
    "\n",
    "\n",
    "carro1 = carros(\"Cheby\", 100000)\n",
    "carro2 = carros(\"Ford\", 200000)\n",
    "carro3 = carros(\"Mustang\", 300000)\n",
    "carro4 = carros(\"Hummer\", 400000)\n",
    "carro5 = carros(\"Kia\", 500000)\n",
    "\n",
    "cliente1 = clientes(\"German\", 100000)\n",
    "cliente2 = clientes(\"Juan\", 200000)\n",
    "cliente3 = clientes(\"Pedro\", 300000)\n",
    "cliente4 = clientes(\"Luis\", 400000)\n",
    "cliente5 = clientes(\"Carlos\", 500000)\n",
    "\n",
    "catalogo_tienda = consesionaria()\n",
    "\n",
    "catalogo_tienda.registro_adutos(carro1)\n",
    "catalogo_tienda.registro_adutos(carro2)\n",
    "catalogo_tienda.registro_adutos(carro3)\n",
    "catalogo_tienda.registro_adutos(carro4)\n",
    "catalogo_tienda.registro_adutos(carro5)\n",
    "catalogo_tienda.imprimir_catalogo()\n",
    "catalogo_tienda.venta_carros(cliente1, carro1)\n",
    "catalogo_tienda.venta_carros(cliente2, carro3)\n",
    "catalogo_tienda.imprimir_catalogo()\n"
   ]
  },
  {
   "cell_type": "code",
   "execution_count": null,
   "id": "be053b75",
   "metadata": {},
   "outputs": [],
   "source": []
  }
 ],
 "metadata": {
  "kernelspec": {
   "display_name": "py3_10_18",
   "language": "python",
   "name": "python3"
  },
  "language_info": {
   "codemirror_mode": {
    "name": "ipython",
    "version": 3
   },
   "file_extension": ".py",
   "mimetype": "text/x-python",
   "name": "python",
   "nbconvert_exporter": "python",
   "pygments_lexer": "ipython3",
   "version": "3.11.5"
  }
 },
 "nbformat": 4,
 "nbformat_minor": 5
}

{
 "cells": [
  {
   "cell_type": "markdown",
   "id": "36bf9e44",
   "metadata": {},
   "source": [
    "# JSON\n",
    "\n",
    "Al igual que con CSV, JSON es un formato que se utiliza para escribir datos.\n",
    "\n",
    "Pero usando una estructura parecida a los Diccionarios.\n",
    "\n",
    "Su lectura es muy similar a los archivos CSV. Y empezamos importando la libreria."
   ]
  },
  {
   "cell_type": "code",
   "execution_count": 12,
   "id": "4bb0251f",
   "metadata": {},
   "outputs": [],
   "source": [
    "import json"
   ]
  },
  {
   "cell_type": "code",
   "execution_count": null,
   "id": "92b49e9e",
   "metadata": {},
   "outputs": [],
   "source": [
    "#LECTURA\n",
    "# JSON\n",
    "# usamos la clase JSON para indicar que leermos un archivo tipo JSON\n",
    "# LOADS()\n",
    "# con el método loads() de la clase json, podemos leer un JSON\n",
    "import json\n",
    "\n",
    "with open(\"products.json\", mode =\"r\" )as archivo:\n",
    "    datos_json = json.load(archivo)\n",
    "    for item in datos_json:\n",
    "        print(item)"
   ]
  },
  {
   "cell_type": "code",
   "execution_count": null,
   "id": "63921e7f",
   "metadata": {},
   "outputs": [],
   "source": [
    "# ALGUNAS LLAVES EN ESPECIFICO\n",
    "import json\n",
    "\n",
    "with open(\"products.json\", mode =\"r\" )as archivo:\n",
    "    datos_json = json.load(archivo)\n",
    "    for dato in datos_json:\n",
    "        print(\"Producto: \", dato[\"name\"], \"\\nPrecio: \", dato[\"price\"])"
   ]
  },
  {
   "cell_type": "code",
   "execution_count": null,
   "id": "c1cb5a9b",
   "metadata": {},
   "outputs": [
    {
     "name": "stdout",
     "output_type": "stream",
     "text": [
      "1    {'name': 'Laptop', 'price': 1200, 'quantity': 4, 'brand': 'BrandName', 'category': 'Electronics', 'entry_date': '2024-01-05'}\n",
      "2    {'name': 'Mouse', 'price': 45, 'quantity': 120, 'brand': 'TechGear', 'category': 'Accessories', 'entry_date': '2024-02-10'}\n",
      "3    {'name': 'Headphones', 'price': 150, 'quantity': 25, 'brand': 'SoundMax', 'category': 'Audio', 'entry_date': '2024-03-15'}\n",
      "4    {'name': 'Wireless Charger', 'price': 75, 'quantity': 100, 'brand': 'ChargeMaster', 'category': 'Accessories', 'entry_date': '2024-07-01'}\n",
      "5    {'name': 'Wireless Charger', 'price': 75, 'quantity': 100, 'brand': 'ChargeMaster', 'category': 'Accessories', 'entry_date': '2024-07-01'}\n",
      "6    {'name': 'Wireless Charger', 'price': 75, 'quantity': 100, 'brand': 'ChargeMaster', 'category': 'Accessories', 'entry_date': '2024-07-01'}\n",
      "7    {'name': 'Wireless Charger', 'price': 75, 'quantity': 100, 'brand': 'ChargeMaster', 'category': 'Accessories', 'entry_date': '2024-07-01'}\n",
      "1    {'name': 'Laptop', 'price': 1200, 'quantity': 4, 'brand': 'BrandName', 'category': 'Electronics', 'entry_date': '2024-01-05'}\n",
      "2    {'name': 'Mouse', 'price': 45, 'quantity': 120, 'brand': 'TechGear', 'category': 'Accessories', 'entry_date': '2024-02-10'}\n",
      "3    {'name': 'Headphones', 'price': 150, 'quantity': 25, 'brand': 'SoundMax', 'category': 'Audio', 'entry_date': '2024-03-15'}\n",
      "4    {'name': 'Wireless Charger', 'price': 75, 'quantity': 100, 'brand': 'ChargeMaster', 'category': 'Accessories', 'entry_date': '2024-07-01'}\n",
      "5    {'name': 'Wireless Charger', 'price': 75, 'quantity': 100, 'brand': 'ChargeMaster', 'category': 'Accessories', 'entry_date': '2024-07-01'}\n",
      "6    {'name': 'Wireless Charger', 'price': 75, 'quantity': 100, 'brand': 'ChargeMaster', 'category': 'Accessories', 'entry_date': '2024-07-01'}\n",
      "7    {'name': 'Wireless Charger', 'price': 75, 'quantity': 100, 'brand': 'ChargeMaster', 'category': 'Accessories', 'entry_date': '2024-07-01'}\n",
      "8    {'name': 'Wireless Charger', 'price': 75, 'quantity': 100, 'brand': 'ChargeMaster', 'category': 'Accessories', 'entry_date': '2024-07-01'}\n"
     ]
    }
   ],
   "source": [
    "# AGREGAR DATOS\n",
    "import json\n",
    "\n",
    "#Funcion para numerar filas de JSON\n",
    "def conteo_lines():\n",
    "    contador = 0\n",
    "    for dato in json_info:\n",
    "        contador += 1\n",
    "        print(contador,\"  \", end=\" \")\n",
    "        print(dato)\n",
    "\n",
    "new_product = {\n",
    "    \"name\": \"Wireless Charger\",\n",
    "    \"price\": 75,\n",
    "    \"quantity\": 100,\n",
    "    \"brand\": \"ChargeMaster\",\n",
    "    \"category\": \"Accessories\",\n",
    "    \"entry_date\": \"2024-07-01\"\n",
    "}\n",
    "\n",
    "# Una vez se tengan los datos que se van a importar, se le el archivo normal.\n",
    "# Y a la variable donde cargamos la informacion, usamos el metodo APPEND. \n",
    "# APPEND\n",
    "# Importante: Append no agrega el nuevo articulo al archivo. Si no al registro que tiene del JSON.\n",
    "# JSON.DUMP\n",
    "# Para actualiar el archivo o generar uno nuevo, leemos el archivo en modo escritura.\n",
    "# Y usamos la clase JSON y el METODO DUMP para escribir el contenido en el archivo.\n",
    "# Nos pide la informacion a agregar (JSON_INFO) la cual está actualizada con el nuevo registro.\n",
    "# El archivo que vamos a crear o actualizar (NEW_DATA)\n",
    "# INDENT=4\n",
    "# Se utiliza para darle formarto. El 4 es para darle 4 ESPACIOS. Pero se podria poner cualquier cantidad.\n",
    "\n",
    "#Lectura Inicial\n",
    "with open(\"products.json\",mode=\"r\") as json_data:\n",
    "    json_info = json.load(json_data)\n",
    "\n",
    "#Funcion solo para numerar filas de JSON ANTES\n",
    "conteo_lines()\n",
    "\n",
    "#Registro de Nuevo Prodcuto\n",
    "json_info.append(new_product)\n",
    "\n",
    "#Funcion solo para numerar filas de JSON DESPUES\n",
    "conteo_lines()\n",
    "\n",
    "#Actualización del archivo (o creacion de actualizado.)\n",
    "with open(\"products_v2.json\",mode=\"w\",) as new_data:\n",
    "    json.dump(json_info, new_data, indent=4)"
   ]
  },
  {
   "cell_type": "code",
   "execution_count": null,
   "id": "06faf27f",
   "metadata": {},
   "outputs": [],
   "source": []
  }
 ],
 "metadata": {
  "kernelspec": {
   "display_name": "py3_10_18",
   "language": "python",
   "name": "python3"
  },
  "language_info": {
   "codemirror_mode": {
    "name": "ipython",
    "version": 3
   },
   "file_extension": ".py",
   "mimetype": "text/x-python",
   "name": "python",
   "nbconvert_exporter": "python",
   "pygments_lexer": "ipython3",
   "version": "3.11.5"
  }
 },
 "nbformat": 4,
 "nbformat_minor": 5
}

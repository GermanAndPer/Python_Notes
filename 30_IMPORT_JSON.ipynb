{
 "cells": [
  {
   "cell_type": "markdown",
   "id": "36bf9e44",
   "metadata": {},
   "source": [
    "# JSON\n",
    "\n",
    "Al igual que con CSV, JSON es un formato que se utiliza para escribir datos.\n",
    "\n",
    "Pero usando una estructura parecida a los Diccionarios.\n",
    "\n",
    "Su lectura es muy similar a los archivos CSV. Y empezamos importando la libreria."
   ]
  },
  {
   "cell_type": "code",
   "execution_count": 1,
   "id": "4bb0251f",
   "metadata": {},
   "outputs": [],
   "source": [
    "import json"
   ]
  },
  {
   "cell_type": "code",
   "execution_count": null,
   "id": "92b49e9e",
   "metadata": {},
   "outputs": [],
   "source": [
    "#LECTURA\n",
    "import json\n",
    "\n",
    "with open(\"product.json\")as archivo:"
   ]
  }
 ],
 "metadata": {
  "kernelspec": {
   "display_name": "py3_10_18",
   "language": "python",
   "name": "python3"
  },
  "language_info": {
   "codemirror_mode": {
    "name": "ipython",
    "version": 3
   },
   "file_extension": ".py",
   "mimetype": "text/x-python",
   "name": "python",
   "nbconvert_exporter": "python",
   "pygments_lexer": "ipython3",
   "version": "3.11.5"
  }
 },
 "nbformat": 4,
 "nbformat_minor": 5
}

{
 "cells": [
  {
   "cell_type": "markdown",
   "id": "037dd630",
   "metadata": {},
   "source": [
    "# 🐍 *args y **kwargs en funciones de Python\n",
    "\n",
    "## ¿Qué son los args y kwargs y cómo te ayudan en programación?\n",
    "\n",
    "En el mundo de la programación, especialmente cuando trabajamos con funciones, nos encontramos con situaciones donde la cantidad de argumentos que vamos a recibir es incierta. Aquí es donde los args y kwargs se convierten en aliados indispensables. Estos mecanismos permiten manejar un número variable de argumentos o parámetros, otorgando flexibilidad y dinamismo a las funciones que creamos.\n",
    "\n",
    "## ¿Cómo usar *args para argumentos variables?\n",
    "\n",
    "*args es una herramienta que se utiliza para recibir un número indefinido de argumentos. En Python, cuando definimos una función y le precedemos de un asterisco *, indicamos que estamos listos para recibir múltiples argumentos.\n",
    "\n",
    "\n",
    "\n",
    "\n"
   ]
  },
  {
   "cell_type": "code",
   "execution_count": null,
   "id": "45428f06",
   "metadata": {},
   "outputs": [],
   "source": [
    "# Ejemplo de función que acepta un número variable de argumentos\n",
    "\n",
    "def sum_numbers(*args):\n",
    "    return sum(args)\n",
    "\n",
    "# Llamada a la función con diferentes números de argumentos\n",
    "print(sum_numbers(1, 2, 3, 4, 5))  # Retorna 15\n",
    "print(sum_numbers(1, 2))           # Retorna 3\n",
    "print(sum_numbers(7, 8, 9, 10))    # Retorna 34"
   ]
  },
  {
   "cell_type": "code",
   "execution_count": null,
   "id": "c1fad290",
   "metadata": {},
   "outputs": [],
   "source": [
    "# Ejemplo de función que acepta argumentos con nombre (Dicccionarios)\n",
    "\n",
    "def print_info(**kwargs):\n",
    "    for key, value in kwargs.items():\n",
    "        print(f\"{key}: {value}\")\n",
    "\n",
    "# Llamada a la función con diferentes argumentos\n",
    "print_info(name=\"Carlos\", age=30, city=\"Bogotá\")\n",
    "# Salida:\n",
    "# name: Carlos\n",
    "# age: 30\n",
    "# city: Bogotá"
   ]
  }
 ],
 "metadata": {
  "kernelspec": {
   "display_name": "py3_10_18",
   "language": "python",
   "name": "python3"
  },
  "language_info": {
   "name": "python",
   "version": "3.11.5"
  }
 },
 "nbformat": 4,
 "nbformat_minor": 5
}

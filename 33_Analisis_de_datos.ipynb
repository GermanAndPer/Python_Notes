{
 "cells": [
  {
   "cell_type": "markdown",
   "id": "6889a325",
   "metadata": {},
   "source": [
    "# 📊Libreria para Analisis Numericos - Statistics\n",
    "\n",
    "El análisis numerico contempla varias terminos especificos COmo media / mediana / máximo / etc...\n",
    "\n",
    "Mismos que se pueden calcular de una lista.\n",
    "\n",
    "- `Media`: Promedio de todas las ventas mensuales.\n",
    "- `Mediana`: Valor medio de las ventas ordenadas, útil cuando hay valores extremos.\n",
    "- `Moda`: Valor que más se repite en las ventas.\n",
    "- `Desviación Estándar y Varianza`: Miden la dispersión de las ventas respecto a la media; la desviación estándar está en las mismas unidades que los datos, mientras que la varianza está en unidades al cuadrado.\n",
    "- `Máximo y Mínimo`: Ventas más altas y más bajas registradas.\n",
    "- `Rango`: Diferencia entre la venta más alta y la más baja."
   ]
  },
  {
   "cell_type": "code",
   "execution_count": null,
   "id": "f72fd73e",
   "metadata": {},
   "outputs": [
    {
     "name": "stdout",
     "output_type": "stream",
     "text": [
      "[120, 130, 150, 170, 160, 180, 190, 200, 210, 190, 185, 210]\n",
      "La media de las ventas es:  174.58333333333334\n",
      "La mediana de las ventas es:  182.5\n",
      "La moda de las ventas es:  190\n",
      "La desviación estandar de las ventas es:  29.50025680422378\n",
      "La desviación estandar absoluta de las ventas es:  28.244345550137208\n",
      "La varianza de las ventas es:  870.2651515151515\n",
      "El maximo de las ventas es:  210\n",
      "El minimo de las ventas es:  120\n",
      "El rango de las ventas es:  90\n"
     ]
    }
   ],
   "source": [
    "import statistics\n",
    "import csv\n",
    "\n",
    "with open(\"ventas.csv\", mode=\"r\") as lectura_ventas:\n",
    "    datos_ventas = csv.DictReader(lectura_ventas)\n",
    "    todos_los_montos = []\n",
    "    for venta in datos_ventas:\n",
    "        mes = venta[\"month\"]\n",
    "        monto = int(venta[\"sales\"])\n",
    "        todos_los_montos.append(monto)\n",
    "    print(todos_los_montos)\n",
    "\n",
    "# UNA VEZ SE TENGAN LOS MONTOS PODEMOS HACER TODOS LOS CALCULOS\n",
    "\n",
    "# CALCULO DE LA MEDIA\n",
    "media = statistics.mean(todos_los_montos)\n",
    "print(\"La media de las ventas es: \", media)\n",
    "\n",
    "# CALCULO DE LA MEDIANA\n",
    "media = statistics.median(todos_los_montos)\n",
    "print(\"La mediana de las ventas es: \", media)\n",
    "\n",
    "# CALCULO DE LA MODA\n",
    "moda = statistics.mode(todos_los_montos)\n",
    "print(\"La moda de las ventas es: \", moda)\n",
    "\n",
    "# CALCULO DE LA DESVIACIÓN ESTANDAR\n",
    "desviacion_estandar = statistics.stdev(todos_los_montos)\n",
    "print(\"La desviación estandar de las ventas es: \", desviacion_estandar)\n",
    "\n",
    "# CALCULO DE LA DESVIACIÓN ESTANDAR ABSOLUTA\n",
    "desviacion_estandar_absoluta = statistics.pstdev(todos_los_montos)\n",
    "print(\"La desviación estandar absoluta de las ventas es: \", desviacion_estandar_absoluta)\n",
    "\n",
    "# CALCULO DE VARIANZA\n",
    "varianza = statistics.variance(todos_los_montos)\n",
    "print(\"La varianza de las ventas es: \", varianza)\n",
    "\n",
    "# Aunque ya no están dentro de la libreria de STATISTICS tambien son utiles el MAX, MIN y RANGE\n",
    "maximo = max(todos_los_montos)\n",
    "print(\"El maximo de las ventas es: \", maximo)\n",
    "\n",
    "minimo = min(todos_los_montos)\n",
    "print(\"El minimo de las ventas es: \", minimo)\n",
    "\n",
    "rango = maximo - minimo\n",
    "print(\"El rango de las ventas es: \", rango)\n",
    "\n"
   ]
  },
  {
   "cell_type": "markdown",
   "id": "aaf96653",
   "metadata": {},
   "source": []
  }
 ],
 "metadata": {
  "kernelspec": {
   "display_name": "py3_10_18",
   "language": "python",
   "name": "python3"
  },
  "language_info": {
   "codemirror_mode": {
    "name": "ipython",
    "version": 3
   },
   "file_extension": ".py",
   "mimetype": "text/x-python",
   "name": "python",
   "nbconvert_exporter": "python",
   "pygments_lexer": "ipython3",
   "version": "3.11.5"
  }
 },
 "nbformat": 4,
 "nbformat_minor": 5
}

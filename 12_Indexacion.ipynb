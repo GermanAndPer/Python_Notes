{
 "cells": [
  {
   "cell_type": "markdown",
   "id": "51c16e9a",
   "metadata": {},
   "source": [
    "# 🔢 Indexacion\n",
    "\n",
    "Al ser una cadena de caracteres ordenada, si queremos, podemos acceder a la posicion especifica de cada caracter.\n",
    "\n",
    "Recondando que la primera posicion es 0  y de ahí va aumentando.\n",
    "\n",
    "Se usan los corchetes __[__ __]__ para indicar que vas dar un posicion de la cadena."
   ]
  },
  {
   "cell_type": "markdown",
   "id": "b6a91819",
   "metadata": {},
   "source": [
    "## 1️⃣ UN CARACTER\n",
    "\n",
    "Para indicar ___UN___ cáracter se hace de la siguiente manera."
   ]
  },
  {
   "cell_type": "code",
   "execution_count": null,
   "id": "e5f8509c",
   "metadata": {},
   "outputs": [],
   "source": [
    "primer_string = \"Esto es un String\"\n",
    "\n",
    "# 0 o MAYOR\n",
    "# Estos valores cuentan de la primera posición y van aumentando a la derecha. \n",
    "# Para indicar que te devuelva la primera letra.\n",
    "print(primer_string[0]) \n",
    "\n",
    "#NEGATIVOS\n",
    "# Los valores negativos hacen referencia a las ultimas posiciones.\n",
    "# -1 hace referencia a la ultima posición. \n",
    "print(primer_string[-1])\n",
    "# -2 hace referencia a la penultima posición.\n",
    "print(primer_string[-2])"
   ]
  },
  {
   "cell_type": "markdown",
   "id": "f73cb90b",
   "metadata": {},
   "source": [
    "## 1️🔟 UN RANGO CARACTER\n",
    "\n",
    "Para indicar un ___RANGO___ de caracteres se utiliza el simbolo \n",
    "\n",
    "__\":\"__"
   ]
  },
  {
   "cell_type": "code",
   "execution_count": null,
   "id": "57ab3992",
   "metadata": {},
   "outputs": [],
   "source": [
    "primer_string = \"Esto es un String\"\n",
    "\n",
    "# Esto devuelve los primeros 5 caracteres.\n",
    "# Aqui especifica la posicion 0 a la 4\n",
    "print(primer_string[0:5])\n",
    "# Aqui especifica que comience desde el principio y hasta la posicion 4. El primer el valor predeterminado que tiene. (0)\n",
    "print(primer_string[:5])\n",
    "\n",
    "# En este caso devuelve el string completo.\n",
    "# Desde la posicion 0 hasta el final del string. El segundo valor predeterminado es el final del string. (len(string))\n",
    "print(primer_string[0:])\n",
    "\n",
    "# Devuelve los ultimos 5 caracteres.\n",
    "print(primer_string[-5:])\n",
    "\n",
    "# Devuelve el string completo excepto los ultimos 5 caracteres\n",
    "print(primer_string[:-5])\n",
    "\n",
    "# Devuelve el string completo excepto la primera posición.\n",
    "print(primer_string[1:])\n",
    "\n",
    "# Devuelve el string completo excepto la ultima posición.\n",
    "print(primer_string[:-1])\n",
    "\n",
    "# Devuelve el string completo excepto la primera y ultima posición.\n",
    "print(primer_string[1:-1])\n",
    "\n",
    "# Devuelve los un caracter cada caracteres (2) empezando de la primera posición del Rango dado. (0:13) \n",
    "print(primer_string[0:13:2])"
   ]
  },
  {
   "cell_type": "markdown",
   "id": "57a0afec",
   "metadata": {},
   "source": [
    "❗❗❗❗ __IMPORTANTE__ ❗❗❗❗\n",
    "\n",
    "Si se asigna un valor mayor al existente, la ejecucion terminará en error."
   ]
  }
 ],
 "metadata": {
  "kernelspec": {
   "display_name": "py3_10_18",
   "language": "python",
   "name": "python3"
  },
  "language_info": {
   "codemirror_mode": {
    "name": "ipython",
    "version": 3
   },
   "file_extension": ".py",
   "mimetype": "text/x-python",
   "name": "python",
   "nbconvert_exporter": "python",
   "pygments_lexer": "ipython3",
   "version": "3.11.5"
  }
 },
 "nbformat": 4,
 "nbformat_minor": 5
}

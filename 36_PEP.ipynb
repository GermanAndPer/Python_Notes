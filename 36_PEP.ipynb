{
 "cells": [
  {
   "cell_type": "markdown",
   "id": "c458d2ed",
   "metadata": {},
   "source": [
    "# ✅ PEP - Python Enhancement Proposals\n",
    "\n",
    "Son las recomendaciones que la documentacion oficial de python sugieren para tener un buen codigo y que pueda ser leido y entendido por todos.\n",
    "\n",
    "- `PEP 8`: Es la guia de estilo para python, que se enfoca en la forma en que se escriben las lineas de codigo.\n",
    "- `PEP 257`: Es la guia de estilo para las docstrings, que son las documentaciones de las funciones y metodos.\n",
    "- `PEP 484`: Es la guia de estilo para el uso de tipos en python.\n",
    "\n",
    "Todas las demas estan en los siguientes link:\n",
    "\n",
    "https://peps.python.org/\n",
    "\n",
    "https://peps.python.org/pep-0000/"
   ]
  }
 ],
 "metadata": {
  "kernelspec": {
   "display_name": "py3_10_18",
   "language": "python",
   "name": "python3"
  },
  "language_info": {
   "name": "python",
   "version": "3.11.5"
  }
 },
 "nbformat": 4,
 "nbformat_minor": 5
}

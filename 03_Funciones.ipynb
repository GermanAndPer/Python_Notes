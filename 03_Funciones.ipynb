{
 "cells": [
  {
   "cell_type": "markdown",
   "id": "964ffc5f",
   "metadata": {},
   "source": [
    "# 💻FUNCIONES\n",
    "\n",
    "Funciones son bloques de código que se pueden reutilizar en diferentes partes del programa.\n",
    "\n",
    "Las funciones pueden recibir argumentos y devolver valores.\n",
    "\n",
    "Las funciones se pueden llamar varias veces en el programa.\n",
    "\n",
    "Las funciones se pueden pasar como argumentos a otras funciones.\n",
    "\n",
    "Las funciones se pueden devolver como valores de otras funciones.\n",
    "\n",
    "Las funciones se pueden utilizar para organizar el código y hacer que sea más fácil de leer y mantener.\n",
    "\n",
    "Las funciones se pueden utilizar para evitar la repetición de código.\n",
    "\n",
    "Las funciones se pueden utilizar para hacer que el código sea más flexible y adaptable.\n",
    "\n",
    "Las funciones se pueden utilizar para hacer que el código sea más seguro y robusto.\n",
    "\n",
    "Las funciones se pueden utilizar para hacer que el código sea más eficiente y rápido.\n",
    "\n",
    "Las funciones se pueden utilizar para hacer que el código sea más fácil de depurar y debugue.\n",
    "\n",
    "Las funciones se pueden utilizar para hacer que el código sea más fácil de entender ymantener.\n",
    "\n",
    "Las funciones se pueden utilizar para hacer que el código sea más fácil de leer y entender.\n",
    "\n",
    "Las funciones se pueden utilizar para hacer que el código sea más fácil de escribir y mantener.\n",
    "\n",
    "Las funciones se pueden utilizar para hacer que el código sea más fácil de depurar y debugue.\n",
    "\n"
   ]
  },
  {
   "cell_type": "markdown",
   "id": "2b7a6184",
   "metadata": {},
   "source": [
    "### 🔠Funciones STRING \n",
    "\n",
    "Las funciones codigo que se re utiliza para ahorrar tiempo.\n",
    "Para python son las siguientes y sus funciones son:\n",
    "- `Type()`: Sirve para saber el tipo de dato. \n",
    "- `len()`: Sirve para saber la cantidad de caracteres de una cadena.\n",
    "- `lower()`: Sirve para convertir una cadena a minusculas.\n",
    "- `upper()`: Sirve para convertir una cadena a mayusculas.\n",
    "- `title()`: Sirve para convertir una cadena a titulares.\n",
    "- `strip()`: Sirve para eliminar los espacios en blanco de una cadena.\n",
    "- `replace()`: Sirve para reemplazar una palabra por otra en una cadena.\n",
    "- `split()`: Sirve para dividir una cadena en una lista de palabras.\n",
    "- `join()`: Sirve para unir una lista de palabras en una cadena.}\n"
   ]
  },
  {
   "cell_type": "code",
   "execution_count": null,
   "id": "00fbc28f",
   "metadata": {},
   "outputs": [],
   "source": [
    "primer_string = \"Esto es un String\"\n",
    "print(type(primer_string))\n",
    "# Resultado     <class 'str'>"
   ]
  }
 ],
 "metadata": {
  "kernelspec": {
   "display_name": "py3_10_18",
   "language": "python",
   "name": "python3"
  },
  "language_info": {
   "codemirror_mode": {
    "name": "ipython",
    "version": 3
   },
   "file_extension": ".py",
   "mimetype": "text/x-python",
   "name": "python",
   "nbconvert_exporter": "python",
   "pygments_lexer": "ipython3",
   "version": "3.11.5"
  }
 },
 "nbformat": 4,
 "nbformat_minor": 5
}

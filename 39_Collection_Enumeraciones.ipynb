{
 "cells": [
  {
   "cell_type": "markdown",
   "id": "b9e0ed03",
   "metadata": {},
   "source": [
    "# 📚Colecciones y Enumerdaciones\n",
    "\n",
    "## ¿Qué son las estructuras avanzadas de datos en Python?\n",
    "\n",
    "Python es conocido por su versatilidad y la amplia gama de librerías estándar que ofrece, facilitando el manejo de estructuras de datos complejas. \n",
    "\n",
    "Entre estas, la librería ***collections*** proporciona tipos de datos especializados que mejoran el rendimiento y la eficiencia en tareas comunes, como el manejo de listas o diccionarios. \n",
    "\n",
    "Además, el uso de ***enumeraciones*** en Python ofrece una forma clara y estructurada de manejar constantes dentro del código, mejorando así la claridad y robustez del mismo."
   ]
  },
  {
   "cell_type": "markdown",
   "id": "12978824",
   "metadata": {},
   "source": [
    "Lo primero que se tiene que hacer es importar la libreria integrada:"
   ]
  },
  {
   "cell_type": "code",
   "execution_count": null,
   "id": "9d21ebd4",
   "metadata": {},
   "outputs": [],
   "source": [
    "from collections import defaultdict\n",
    "# DEAFAULTDICT\n",
    "# Asigna un valor por defeto a un diccionario en caso de que no lo tenga."
   ]
  },
  {
   "cell_type": "code",
   "execution_count": null,
   "id": "37df2a17",
   "metadata": {},
   "outputs": [],
   "source": [
    "from collections import defaultdict\n",
    "\n",
    "def contar_productos(ordenes):\n",
    "    product_count = defaultdict(int)    #El valor por defecto es 0\n",
    "    for orden in ordenes:\n",
    "        product_count[orden] += 1\n",
    "    return product_count\n",
    "\n",
    "ordenes = ['laptop', 'smartphone', 'laptop', 'tablet']\n",
    "resultado = contar_productos(ordenes)\n",
    "print(resultado)  # Output: defaultdict(<class 'int'>, {'laptop': 2, 'smartphone': 1, 'tablet': 1})"
   ]
  },
  {
   "cell_type": "code",
   "execution_count": null,
   "id": "95bb86c3",
   "metadata": {},
   "outputs": [],
   "source": [
    "from collections import Counter\n",
    "#COUNTER\n",
    "#Sirve para contar cada unos de los articulos en una lista.\n",
    "\n",
    "def contar_ventas(productos):\n",
    "    return Counter(productos)\n",
    "\n",
    "productos = ['laptop', 'smartphone', 'smartphone', 'laptop', 'tablet']\n",
    "resultado = contar_ventas(productos)\n",
    "print(resultado)  # Output: Counter({'laptop': 2, 'smartphone': 2, 'tablet': 1})"
   ]
  },
  {
   "cell_type": "code",
   "execution_count": null,
   "id": "1c9b5947",
   "metadata": {},
   "outputs": [],
   "source": [
    "from collections import deque\n",
    "#DEQUE\n",
    "#Sirve para manejar filas o Colas\n",
    "\n",
    "def manejar_ordenes():\n",
    "    ordenes = deque(['orden1', 'orden2', 'orden3'])\n",
    "    ordenes.append('orden4')  # Añadir al final\n",
    "    ordenes.appendleft('orden0')  # Añadir al inicio\n",
    "    print(ordenes)  # Output: deque(['orden0', 'orden1', 'orden2', 'orden3', 'orden4'])\n",
    "    ordenes.pop()  # Eliminar del final\n",
    "    ordenes.popleft()  # Eliminar del inicio\n",
    "    print(ordenes)  # Output: deque(['orden1', 'orden2', 'orden3'])\n",
    "\n",
    "manejar_ordenes()"
   ]
  },
  {
   "cell_type": "code",
   "execution_count": null,
   "id": "7ea27fac",
   "metadata": {},
   "outputs": [],
   "source": [
    "from enum import Enum\n",
    "#ENUM\n",
    "\n",
    "\n",
    "class EstadoOrden(Enum):\n",
    "    PENDIENTE = 1\n",
    "    ENVIADO = 2\n",
    "    ENTREGADO = 3\n",
    "\n",
    "def verificar_estado_orden(status):\n",
    "    if status == EstadoOrden.PENDIENTE:\n",
    "        return \"La orden está pendiente.\"\n",
    "    elif status == EstadoOrden.ENVIADO:\n",
    "        return \"La orden ha sido enviada.\"\n",
    "    elif status == EstadoOrden.ENTREGADO:\n",
    "        return \"La orden ha sido entregada.\"\n",
    "\n",
    "estado_actual = EstadoOrden.ENVIADO\n",
    "print(verificar_estado_orden(estado_actual))  # Output: La orden ha sido enviada."
   ]
  }
 ],
 "metadata": {
  "kernelspec": {
   "display_name": "py3_10_18",
   "language": "python",
   "name": "python3"
  },
  "language_info": {
   "name": "python",
   "version": "3.11.5"
  }
 },
 "nbformat": 4,
 "nbformat_minor": 5
}

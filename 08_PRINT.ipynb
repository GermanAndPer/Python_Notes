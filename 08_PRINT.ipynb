{
 "cells": [
  {
   "cell_type": "markdown",
   "id": "6ba6b0b3",
   "metadata": {},
   "source": [
    "# 🖨️PRINT\n",
    "\n",
    "Python tiene varias maneras de ejecutarse. Estos son unos ejemplos de uso.\n"
   ]
  },
  {
   "cell_type": "code",
   "execution_count": null,
   "id": "fd982890",
   "metadata": {},
   "outputs": [],
   "source": [
    "#Directo\n",
    "print(\"Nunca pares de aprender\")\n",
    "\n",
    "#COMAS (,)  Esta opocion agrega espacios entre cada argumento.\n",
    "print(\"Nunca\", \"pares\", \"de\", \"aprender\")\n",
    "\n",
    "#MAS (+)    Esta opcicon no agrega los espacios automaticamente\n",
    "print(\"Nunca\" + \"pares\" + \"de\" + \"aprender\")\n",
    "\n",
    "#MAS (+)    Pero se agregan los espacios explicitamente\n",
    "print(\"Nunca\" + \" \" + \"pares\" + \" \" + \"de\" + \" \" + \"aprender\")\n",
    "\n",
    "#SEP=       Sirve para indicar que simbolo separará cada uno de los argumentos.\n",
    "print(\"Nunca\", \"pares\", \"de\", \"aprender\", sep=\", \")\n",
    "\n",
    "#END=       Sirve para indicar que simbolo sustituirá el salto de linea. (El salto de linea que es el valor predeterminado al final del print.)\n",
    "print(\"Nunca\", end=\" \")\n",
    "print(\"pares de aprender\")\n",
    "\n",
    "#VARIABLES  Se pueden agregar poniento cada variable como argumento segun se necesite.\n",
    "frase = \"Nunca pares de aprender\"\n",
    "author = \"Platzi\"\n",
    "print(\"Frase:\", frase, \"Autor:\", author)\n",
    "\n",
    "#F-STRINGS  Sirven para crear cadenas de texto que contengan variables.\n",
    "#           Se inicia con F y unas comillas. y dentro de las comillas se colocan las llaves y dentro su respectiva variable. Tantas como se necesiten.\n",
    "frase = \"Nunca pares de aprender\"\n",
    "author = \"Platzi\"\n",
    "print(f\"Frase: {frase}, Autor: {author}\")\n",
    "\n",
    "#F-STRINGS  Anidando varios METODOS a un solo STRING.\n",
    "frase = \"Nunca pares de aprender\"\n",
    "author = \"Platzi\"\n",
    "print(f\"Frase: {frase}, Autor: {author}\".strip().replace(\" \", \"\").upper().lower())\n",
    "\n",
    "#FORMAT     Insertar variables. En el texto se dejan los espacios de donde se podrían los valores de las variable. \n",
    "#           Pero despues de terminar el String poner .FORMAT y entreparentesis listas todas las variables en el orden correspondiente. \n",
    "frase = \"Nunca pares de aprender\"\n",
    "author = \"Platzi\"\n",
    "print(\"Frase: {}, Autor: {}\".format(frase, author))\n",
    "\n",
    "#FORMAT     Igual que el caso anteriores pero insertas directamente los valores. (No se necesitan variables)\n",
    "print(\"Nunca {} de {}.\".format(\"pares\",\"aprender\"))\n",
    "\n",
    "#FORMAT(:.2f)   :.2f hacer Se utiliza para controlar el numero de decimales a visualizar.\n",
    "#           Cambiando el 2 por el numero que se deseé.\n",
    "valor = 3.14159\n",
    "print(\"Valor: {:.2f}\".format(valor))# 3.14\n",
    "print(\"Valor: {:.4f}\".format(valor))# 3.1416\n",
    "print(\"Valor: {:.8f}\".format(valor))# 3.14159000\n",
    "\n",
    "#Auxiliar \\\n",
    "\n",
    "#\\N         SALTOS DE LINEA \n",
    "print(\"Hola \\nmundo\")\n",
    "\n",
    "#\\'         ESCRIBIR COMILLAS (') Para escribir comillas simples o dobles dentro de una cadena de texto usamos el simbolo \\ seguido de las comillas que necesitemos \n",
    "print('Hola soy \\'German\\'')\n",
    "print('Hola soy \\\"German\\\"')\n",
    "\n",
    "#\\\\         ESCRIBIR DIAGONAL INVERSA (\\) Para escribir una diagonal inversa, se necesita poner 2 veces seguidas. Por ejemplo, para una ruta.\n",
    "#Se imprime como:\n",
    "#       La ruta de archivo es: C:\\Users\\Usuario\\Desktop\\archivo.txt\")\n",
    "print(\"La ruta de archivo es: C:\\\\Users\\\\Usuario\\\\Desktop\\\\archivo.txt\")"
   ]
  }
 ],
 "metadata": {
  "kernelspec": {
   "display_name": "py3_10_18",
   "language": "python",
   "name": "python3"
  },
  "language_info": {
   "codemirror_mode": {
    "name": "ipython",
    "version": 3
   },
   "file_extension": ".py",
   "mimetype": "text/x-python",
   "name": "python",
   "nbconvert_exporter": "python",
   "pygments_lexer": "ipython3",
   "version": "3.11.5"
  }
 },
 "nbformat": 4,
 "nbformat_minor": 5
}

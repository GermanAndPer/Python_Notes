{
 "cells": [
  {
   "cell_type": "markdown",
   "id": "6ba6b0b3",
   "metadata": {},
   "source": [
    "# 🖨️PRINT\n",
    "\n",
    "Python tiene varias maneras de ejecutarse. Estos son unos ejemplos de uso.\n"
   ]
  },
  {
   "cell_type": "code",
   "execution_count": null,
   "id": "fd982890",
   "metadata": {},
   "outputs": [],
   "source": [
    "#Directo\n",
    "print(\"Nunca pares de aprender\")\n",
    "\n",
    "#COMAS (,)  Esta opocion agrega espacios entre cada argumento.\n",
    "print(\"Nunca\", \"pares\", \"de\", \"aprender\")\n",
    "\n",
    "#MAS (+)    Esta opcicon no agrega los espacios automaticamente\n",
    "print(\"Nunca\" + \"pares\" + \"de\" + \"aprender\")\n",
    "\n",
    "#MAS (+)    Pero se agregan los espacios explicitamente\n",
    "print(\"Nunca\" + \" \" + \"pares\" + \" \" + \"de\" + \" \" + \"aprender\")\n",
    "\n",
    "#SEP=       Sirve para indicar que simbolo separará cada uno de los argumentos.\n",
    "print(\"Nunca\", \"pares\", \"de\", \"aprender\", sep=\", \")\n",
    "\n",
    "#END=       Sirve para indicar que simbolo sustituirá el salto de linea. (El salto de linea que es el valor predeterminado al final del print.)\n",
    "print(\"Nunca\", end=\" \")\n",
    "print(\"pares de aprender\")\n",
    "\n",
    "#VARIABLES  Se pueden agregar poniento cada variable como argumento separado.\n",
    "frase = \"Nunca pares de aprender\"\n",
    "author = \"Platzi\"\n",
    "print(\"Frase:\", frase, \"Autor:\", author)\n",
    "\n",
    "\n",
    "\n",
    "\n",
    "#Formato\n",
    "print(\"Nunca {} pares {} de {} aprender\".format(\"pares\", \"de\",\"aprender\"))\n",
    "#Formato con variables\n",
    "print(\"Nunca {} pares {} de {} aprender\".format(pares, de, aprender))\n",
    "#Formato con variables y f-string\n",
    "print(f\"Nunca {pares} pares {de} de {aprender} aprender\")\n",
    "#Formato con variables y f-string con espacios\n",
    "print(f\"Nunca {pares} pares {de} de {aprender} aprender\".\n",
    "strip())\n",
    "#Formato con variables y f-string con espacios y reemplazo\n",
    "print(f\"Nunca {pares} pares {de} de {aprender} aprender\".\n",
    "strip().replace(\" \", \"\"))\n",
    "#Formato con variables y f-string con espacios, reemplazo y mayúsculas\n",
    "print(f\"Nunca {pares} pares {de} de {aprender} aprender\".\n",
    "strip().replace(\" \", \"\").upper())\n",
    "#Formato con variables y f-string con espacios, reemplazo, mayúsculas\n",
    "#y minúsculas\n",
    "print(f\"Nunca {pares} pares {de} de {aprender} aprender\".\n",
    "strip().replace(\" \", \"\").upper().lower())\n",
    "#Formato con variables y f-string con espacios, reemplazo, mayúsculas\n",
    "#y minúsculas, y sin espacios\n",
    "print(f\"Nunca {pares} pares {de} de {aprender} aprender\".\n",
    "strip().replace(\" \", \"\").upper().lower().lstrip())\n"
   ]
  },
  {
   "cell_type": "markdown",
   "id": "9571ede3",
   "metadata": {},
   "source": []
  }
 ],
 "metadata": {
  "kernelspec": {
   "display_name": "py3_10_18",
   "language": "python",
   "name": "python3"
  },
  "language_info": {
   "name": "python",
   "version": "3.11.5"
  }
 },
 "nbformat": 4,
 "nbformat_minor": 5
}

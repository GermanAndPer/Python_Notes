{
 "cells": [
  {
   "cell_type": "markdown",
   "id": "6ba6b0b3",
   "metadata": {},
   "source": [
    "# 🖨️PRINT\n",
    "\n",
    "Python tiene varias maneras de ejecutarse. Estos son unos ejemplos de uso.\n"
   ]
  },
  {
   "cell_type": "code",
   "execution_count": null,
   "id": "fd982890",
   "metadata": {},
   "outputs": [],
   "source": [
    "#Directo\n",
    "print(\"Nunca\" + \"pares\" + \"de\" + \"aprender\")"
   ]
  },
  {
   "cell_type": "markdown",
   "id": "9571ede3",
   "metadata": {},
   "source": []
  }
 ],
 "metadata": {
  "kernelspec": {
   "display_name": "py3_10_18",
   "language": "python",
   "name": "python3"
  },
  "language_info": {
   "name": "python",
   "version": "3.11.5"
  }
 },
 "nbformat": 4,
 "nbformat_minor": 5
}

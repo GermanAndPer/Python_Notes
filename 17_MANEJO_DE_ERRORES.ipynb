{
 "cells": [
  {
   "cell_type": "code",
   "execution_count": null,
   "id": "99e9550e",
   "metadata": {},
   "outputs": [],
   "source": [
    "try:\n",
    "    edad = int(input(\"Introduce tu edad: \"))\n",
    "except ValueError:\n",
    "    print(\"Por favor, introduce un número válido.\")\n",
    "    edad = -1\n",
    "    print(edad)"
   ]
  }
 ],
 "metadata": {
  "kernelspec": {
   "display_name": "py3_10_18",
   "language": "python",
   "name": "python3"
  },
  "language_info": {
   "name": "python",
   "version": "3.11.5"
  }
 },
 "nbformat": 4,
 "nbformat_minor": 5
}

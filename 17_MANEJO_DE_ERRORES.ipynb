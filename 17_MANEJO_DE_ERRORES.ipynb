{
 "cells": [
  {
   "cell_type": "markdown",
   "id": "bd6e02f7",
   "metadata": {},
   "source": [
    "# ✅❌Manejo de errores\n",
    "\n",
    "El manejo de errores en Python es fundamental para crear programas robustos y confiables.\n",
    "\n",
    "A través de estructuras como ___TRY___, ___EXCEPT___, ___ELSE___ y ___FINALLY___, podemos anticipar y controlar situaciones inesperadas que podrían interrumpir la ejecución de nuestro código. \n",
    "\n",
    "Esto permite ofrecer mensajes claros al usuario y evitar que el programa termine abruptamente.\n"
   ]
  },
  {
   "cell_type": "code",
   "execution_count": null,
   "id": "964a3f66",
   "metadata": {},
   "outputs": [],
   "source": [
    "# TRY / EXCEPT / ELSE / FINALLY / PASS\n",
    "# TRY           Es el codigo a ejecutar\n",
    "# EXCEPT        Si ocurre un error, se ejecuta este bloque\n",
    "# ELSE          Si no ocurre un error, se ejecuta este bloque\n",
    "# FINALLY       Este bloque se ejecuta siempre, independientemente de si hubo un error o no\n",
    "# PASS          Se utiliza como un marcador de posición, no hace nada\n",
    "\n",
    "# ESTRUCTURA BÁSICA\n",
    "try: \n",
    "    pass\n",
    "except:\n",
    "    pass\n",
    "else:\n",
    "    pass\n",
    "finally:\n",
    "    pass"
   ]
  },
  {
   "cell_type": "code",
   "execution_count": null,
   "id": "c533263b",
   "metadata": {},
   "outputs": [],
   "source": [
    "# EXCEPT\n",
    "# En el apartado de EXCEPT, podemos especificar el tipo de error que queremos capturar.\n",
    "# Por ejemplo, si queremos capturar un error de tipo ValueError, podemos hacerlo de la siguiente manera:\n",
    "try:\n",
    "    pass\n",
    "except ValueError:\n",
    "    pass\n",
    "# Pero podemos sustituir VALUEERROR por cualquier otro tipo de error que queramos capturar.\n",
    "# Por ejemplo:\n",
    "#   except ZeroDivisionError:\n",
    "#   except FileNotFoundError:\n",
    "#   except TypeError:\n",
    "#   except IndexError:"
   ]
  },
  {
   "cell_type": "code",
   "execution_count": null,
   "id": "2e307b52",
   "metadata": {},
   "outputs": [
    {
     "name": "stdout",
     "output_type": "stream",
     "text": [
      "Vamos a dividir el numero que ingreses entre 2\n",
      "Error: Debes ingresar un número entero\n"
     ]
    }
   ],
   "source": [
    "# VALUEERROR\n",
    "# El siguiente código intenta dividir 2 entre un número ingresado por el usuario.\n",
    "# Si el usuario ingresa un valor0 NO NÚMERICO, se captura el error y se muestra un mensaje de error.\n",
    "# VALUEERROR es un tipo de error que ocurre cuando una operación recibe un argumento con el tipo correcto pero con un valor inapropiado.\n",
    "# En este caso, si el usuario ingresa caracteres en lugar de un número, se generará un ValueError al intentar convertirlo a un entero.\n",
    "try:\n",
    "    print(\"Vamos a dividir el numero que ingreses entre 2\")\n",
    "    numero = int(input(\"Ingresa un número: \"))\n",
    "    resultado = 2 / numero\n",
    "    print(\"El resultado de dividir\", numero, \" entre 2 es: \", resultado)\n",
    "except ValueError:\n",
    "    print(\"Error: Debes ingresar un número entero\")"
   ]
  },
  {
   "cell_type": "code",
   "execution_count": null,
   "id": "8667adc2",
   "metadata": {},
   "outputs": [],
   "source": [
    "# VARIAS EXCEPCIONES\n",
    "# El caso anterior puede presentar varios errores, como por ejemplo:\n",
    "#   - Si el usuario ingresa un número 0, se generará un ZeroDivisionError.\n",
    "#   - Si el usuario ingresa un valor no numérico, se generará un ValueError.\n",
    "# Para manejar ambos errores, podemos usar varias cláusulas except:\n",
    "# Y dependiendo del caso, generar un mensaje diferente.\n",
    "try:\n",
    "    print(\"Vamos a dividir el numero que ingreses entre 2\")\n",
    "    numero = int(input(\"Ingresa un número: \"))\n",
    "    resultado = 2 / numero\n",
    "    print(\"El resultado de dividir\", numero, \" entre 2 es: \", resultado)\n",
    "except ValueError:\n",
    "    print(\"Error: Debes ingresar un número entero\")\n",
    "except ZeroDivisionError:\n",
    "    print(\"Error: No puedes dividir entre cero\")\n"
   ]
  },
  {
   "cell_type": "code",
   "execution_count": null,
   "id": "eb94a6a7",
   "metadata": {},
   "outputs": [],
   "source": [
    "# CUALQUIER EXCEPCIÓN\n",
    "# lo anterior es para especificar un tipo de error en particular.\n",
    "# Si queremos capturar cualquier tipo de error, podemos usar una cláusula except sin especificar el tipo de error:\n",
    "try:\n",
    "    print(\"Vamos a dividir el numero que ingreses entre 2\")\n",
    "    numero = int(input(\"Ingresa un número: \"))\n",
    "    resultado = 2 / numero\n",
    "    print(\"El resultado de dividir\", numero, \" entre 2 es: \", resultado)\n",
    "except: # Capturamos cualquier tipo de error\n",
    "    print(\"Ha ocurrido un error\")"
   ]
  },
  {
   "cell_type": "markdown",
   "id": "33393ea6",
   "metadata": {},
   "source": []
  },
  {
   "cell_type": "markdown",
   "id": "a1cf56f9",
   "metadata": {},
   "source": []
  },
  {
   "cell_type": "markdown",
   "id": "1b080cae",
   "metadata": {},
   "source": []
  },
  {
   "cell_type": "code",
   "execution_count": null,
   "id": "647a01a0",
   "metadata": {},
   "outputs": [],
   "source": [
    "\n",
    "\n",
    "\n",
    "\n",
    "try:\n",
    "    # Intentamos ejecutar este código\n",
    "    print(\"Intentando ejecutar el código...\")\n",
    "    # Aquí podrías poner código que podría generar un error\n",
    "    x = 10 / 0  # Esto generará un error de división por cero\n",
    "except ZeroDivisionError as e:\n",
    "    # Si ocurre un error de división por cero, se ejecuta este bloque\n",
    "    print(f\"Error de división por cero: {e}\")\n",
    "except TypeError as e:\n",
    "    # Si ocurre un error de tipo, se ejecuta este bloque\n",
    "    print(f\"Error de tipo: {e}\")\n",
    "except ValueError as e:\n",
    "    # Si ocurre un error de valor, se ejecuta este bloque\n",
    "    print(f\"Error de valor: {e}\")\n",
    "except Exception as e:\n",
    "    print(f\"Ocurrió un error: {e}\")\n",
    "else:\n",
    "    print(\"El código se ejecutó sin errores.\")\n",
    "finally:\n",
    "    print(\"Este bloque se ejecuta siempre, sin importar si hubo un error o no.\")\n",
    "\n"
   ]
  },
  {
   "cell_type": "code",
   "execution_count": null,
   "id": "d6170739",
   "metadata": {},
   "outputs": [],
   "source": [
    "# ERROR POR COMILLAS (SINTAXIS)\n",
    "print(\"Hola, mundo!)  # Comillas desbalanceadas"
   ]
  },
  {
   "cell_type": "code",
   "execution_count": null,
   "id": "99e9550e",
   "metadata": {},
   "outputs": [],
   "source": [
    "try:\n",
    "    edad = int(input(\"Introduce tu edad: \"))\n",
    "except ValueError:\n",
    "    print(\"Por favor, introduce un número válido.\")\n",
    "    edad = -1\n",
    "    print(edad)\n",
    "\n",
    "    "
   ]
  },
  {
   "cell_type": "markdown",
   "id": "d0eb7250",
   "metadata": {},
   "source": [
    "## ⬇️ Gerarquian en la Excepciones\n",
    "\n",
    "hay muchos tipos de errores.\n",
    "\n",
    "El siguietne codigo nos ayuda a saber todos los errores posibles en pyhton:"
   ]
  },
  {
   "cell_type": "code",
   "execution_count": null,
   "id": "38a41c35",
   "metadata": {},
   "outputs": [],
   "source": [
    "def print_exception_hierarchy(exception_class, indent=0):\n",
    "    print(' ' * indent + exception_class.__name__)\n",
    "    for subclass in exception_class.__subclasses__():\n",
    "        print_exception_hierarchy(subclass, indent + 4)\n",
    "\n",
    "# Imprimir la jerarquía comenzando desde la clase base Exception\n",
    "print_exception_hierarchy(Exception)"
   ]
  }
 ],
 "metadata": {
  "kernelspec": {
   "display_name": "py3_10_18",
   "language": "python",
   "name": "python3"
  },
  "language_info": {
   "codemirror_mode": {
    "name": "ipython",
    "version": 3
   },
   "file_extension": ".py",
   "mimetype": "text/x-python",
   "name": "python",
   "nbconvert_exporter": "python",
   "pygments_lexer": "ipython3",
   "version": "3.11.5"
  }
 },
 "nbformat": 4,
 "nbformat_minor": 5
}

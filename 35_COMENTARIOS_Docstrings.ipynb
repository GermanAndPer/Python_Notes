{
 "cells": [
  {
   "cell_type": "markdown",
   "id": "73627472",
   "metadata": {},
   "source": [
    "# ✅ EJEMPLOS DE COMENTARIOS"
   ]
  },
  {
   "cell_type": "code",
   "execution_count": null,
   "id": "7a7e7185",
   "metadata": {},
   "outputs": [],
   "source": [
    "def calcular_promedio(numbers):\n",
    "    \"\"\"\n",
    "    Calcula el promedio de una lista de números.\n",
    "\n",
    "    Parameters:\n",
    "    numbers (list): Lista de enteros o flotantes.\n",
    "\n",
    "    Returns:\n",
    "    float: El promedio de los números en la lista.\n",
    "    \"\"\"\n",
    "    return sum(numbers) / len(numbers)\n",
    "\n",
    "# Imprime el resultado de la función calcular_promedio\n",
    "print(calcular_promedio([1, 2, 3, 4, 5]))"
   ]
  }
 ],
 "metadata": {
  "kernelspec": {
   "display_name": "py3_10_18",
   "language": "python",
   "name": "python3"
  },
  "language_info": {
   "name": "python",
   "version": "3.11.5"
  }
 },
 "nbformat": 4,
 "nbformat_minor": 5
}

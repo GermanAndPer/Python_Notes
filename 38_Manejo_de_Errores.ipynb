{
 "cells": [
  {
   "cell_type": "markdown",
   "id": "a35ff5e6",
   "metadata": {},
   "source": [
    "# Manejo de Errores\n",
    "\n",
    "Hay muchas maneras de manejar los errores. uno de ellos es validar la instancia:"
   ]
  },
  {
   "cell_type": "code",
   "execution_count": null,
   "id": "b27400ba",
   "metadata": {},
   "outputs": [],
   "source": [
    "#ISINSTANCE\n",
    "#Is_Instance recibe un valor a evaluar e indicamos el tipo de instancia que debe de ser.\n",
    "def dividir(a, b):\n",
    "    if not isinstance(a, int) or not isinstance(b, int):\n",
    "        #RAISE\n",
    "        #Sirve para generar una excepcion. Que es cuando ocurre un error.\n",
    "        raise TypeError(\"Ambos parámetros deben ser enteros\")\n",
    "    if b == 0:\n",
    "        raise ValueError(\"El divisor no puede ser cero\")\n",
    "    #return a / b\n",
    "\n",
    "resultado = dividir(1, \"2\")"
   ]
  },
  {
   "cell_type": "code",
   "execution_count": null,
   "id": "d5992a21",
   "metadata": {},
   "outputs": [],
   "source": [
    "try:\n",
    "    resultado = dividir(10, '2')\n",
    "except TypeError as e:\n",
    "    print(f\"Error: {e}\")\n",
    "\n",
    "try:\n",
    "    resultado = dividir(10, 0)\n",
    "except ValueError as e:\n",
    "    print(f\"Error: {e}\")"
   ]
  },
  {
   "cell_type": "markdown",
   "id": "41896d50",
   "metadata": {},
   "source": [
    "Aplicar estas técnicas de validación y manejo de excepciones es fundamental para mantener un código limpio y robusto, especialmente en ambientes de desarrollo colaborativos. Algunas de las buenas prácticas incluyen:\n",
    "\n",
    "- ***Validar Entrada de Datos***: Asegurar que los datos son del tipo esperado antes de procesarlos.\n",
    "- ***Manejo de Excepciones***: Capturar y manejar de forma adecuada las excepciones para proporcionar mensajes de error informativos.\n",
    "- ***Personalización***: Crear excepciones personalizadas para situaciones específicas mejorando la depurabilidad del código."
   ]
  },
  {
   "cell_type": "markdown",
   "id": "596aed62",
   "metadata": {},
   "source": []
  }
 ],
 "metadata": {
  "kernelspec": {
   "display_name": "py3_10_18",
   "language": "python",
   "name": "python3"
  },
  "language_info": {
   "codemirror_mode": {
    "name": "ipython",
    "version": 3
   },
   "file_extension": ".py",
   "mimetype": "text/x-python",
   "name": "python",
   "nbconvert_exporter": "python",
   "pygments_lexer": "ipython3",
   "version": "3.11.5"
  }
 },
 "nbformat": 4,
 "nbformat_minor": 5
}

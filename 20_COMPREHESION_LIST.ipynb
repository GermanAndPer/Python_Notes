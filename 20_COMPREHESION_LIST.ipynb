{
 "cells": [
  {
   "cell_type": "markdown",
   "id": "06cb27a1",
   "metadata": {},
   "source": [
    "# 📄COMPREHESION LIST\n",
    "\n",
    "Son otra manera de hacer listas. Se utiliza para crear listas son una sola linea de codigo.\n",
    "\n",
    "Normalmente son para iterar sobre otras listas.\n",
    "\n",
    "O se utilizan como ___TABLAS DE EQUIVALENCIA___.\n",
    "\n",
    "La estructura normalmente es\n",
    "\n",
    "___NOMBRE DE LISTA___   ___=___    ___[___    ___\"Tipo de Iteración a I\"___     ___\"FOR\"___     ___\"IF\"___    ___]___"
   ]
  },
  {
   "cell_type": "code",
   "execution_count": null,
   "id": "4b862d74",
   "metadata": {},
   "outputs": [],
   "source": [
    "#Comprehesion list es una forma de crear listas de manera mas rapida y eficiente.\n",
    "\n",
    "# Se utiliza una sintaxis concisa que permite crear listas a partir de iterables, aplicando una expresión y opcionalmente un filtro.\n",
    "# La sintaxis básica es:\n",
    "# nueva_lista = [expresion for elemento in iterable if condicion]\n",
    "\n",
    "# Ejemplo:\n",
    "numeros = [1, 2, 3, 4, 5]\n",
    "cuadrados = [x**2 for x in numeros]\n",
    "print(\"Los valores normales son:\", numeros)  # Imprime: [1, 2, 3, 4, 5]\n",
    "print(\"Los valores al cuadrado son:\", cuadrados)  # Imprime: [1, 4, 9, 16, 25]\n",
    "# En este ejemplo, se crea una lista llamada cuadrados que contiene los cuadrados de los números en la lista numeros.\n",
    "# También se pueden aplicar condiciones para filtrar los elementos:\n",
    "\n",
    "#IF\n",
    "# Ejemplo de comprehesion list con condicion\n",
    "# Crear una lista de números pares\n",
    "numeros = [1, 2, 3, 4, 5]\n",
    "pares = [x for x in numeros if x % 2 == 0]\n",
    "print(\"Los valores pares son:\", pares)  # Imprime: [2, 4]\n",
    "# En este caso, se crea una lista llamada pares que contiene solo los números pares de la lista numeros.\n",
    "# La comprehesion list es una forma eficiente y legible de crear listas en Python, y se utiliza ampliamente en la programación para simplificar el código y mejorar su legibilidad.\n"
   ]
  },
  {
   "cell_type": "markdown",
   "id": "8bb5a8ec",
   "metadata": {},
   "source": [
    "# 📚 MATRICES\n",
    "\n",
    "Para leer Matrices\n",
    "\n",
    "Para estos casos, y para una mejor comprension, la lectura es de derecha a izquierda.\n",
    "\n",
    "⬅️ ⬅️"
   ]
  },
  {
   "cell_type": "code",
   "execution_count": null,
   "id": "e8ff946f",
   "metadata": {},
   "outputs": [],
   "source": [
    "matriz = [\n",
    "    [1, 2, 3],\n",
    "    [4, 5, 6],\n",
    "    [7, 8, 9]\n",
    "]\n",
    "\n",
    "transpuesta_comprehension = [[row[i] for row in matriz] for i in range(len(matriz[0]))]\n",
    "print('''Matriz original:\n",
    "''', matriz)\n",
    "print('''Matriz transpuesta con comprensión de listas: \n",
    "''', transpuesta_comprehension)\n",
    "# En este ejemplo, se utiliza una comprensión de listas para crear una nueva lista que contiene las columnas de la matriz original.\n",
    "# La expresión row[i] recorre cada fila de la matriz y selecciona el elemento en la posición i, donde i es el índice de la columna actual.\n",
    "# La comprensión de listas es una forma concisa y eficiente de crear listas en Python, y se utiliza ampliamente para transformar y filtrar datos de manera legible.\n",
    "# También se pueden utilizar comprensiones de listas para crear diccionarios de manera similar:\n"
   ]
  }
 ],
 "metadata": {
  "kernelspec": {
   "display_name": "py3_10_18",
   "language": "python",
   "name": "python3"
  },
  "language_info": {
   "codemirror_mode": {
    "name": "ipython",
    "version": 3
   },
   "file_extension": ".py",
   "mimetype": "text/x-python",
   "name": "python",
   "nbconvert_exporter": "python",
   "pygments_lexer": "ipython3",
   "version": "3.11.5"
  }
 },
 "nbformat": 4,
 "nbformat_minor": 5
}
